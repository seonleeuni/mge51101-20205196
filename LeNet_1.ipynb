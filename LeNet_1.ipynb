{
  "nbformat": 4,
  "nbformat_minor": 0,
  "metadata": {
    "colab": {
      "name": "skeleton_CIFAR.ipynb의 사본",
      "provenance": [],
      "collapsed_sections": [],
      "include_colab_link": true
    },
    "kernelspec": {
      "name": "python3",
      "display_name": "Python 3"
    },
    "accelerator": "GPU",
    "widgets": {
      "application/vnd.jupyter.widget-state+json": {
        "703d28967ecd4ba180108d74655cb20a": {
          "model_module": "@jupyter-widgets/controls",
          "model_name": "HBoxModel",
          "state": {
            "_view_name": "HBoxView",
            "_dom_classes": [],
            "_model_name": "HBoxModel",
            "_view_module": "@jupyter-widgets/controls",
            "_model_module_version": "1.5.0",
            "_view_count": null,
            "_view_module_version": "1.5.0",
            "box_style": "",
            "layout": "IPY_MODEL_ece4c14c9c1e4a28a10f2467cba50686",
            "_model_module": "@jupyter-widgets/controls",
            "children": [
              "IPY_MODEL_e0b939142dbe47638b89fbe41f863fee",
              "IPY_MODEL_53e70b1e256a4a10a2be609514a71b30"
            ]
          }
        },
        "ece4c14c9c1e4a28a10f2467cba50686": {
          "model_module": "@jupyter-widgets/base",
          "model_name": "LayoutModel",
          "state": {
            "_view_name": "LayoutView",
            "grid_template_rows": null,
            "right": null,
            "justify_content": null,
            "_view_module": "@jupyter-widgets/base",
            "overflow": null,
            "_model_module_version": "1.2.0",
            "_view_count": null,
            "flex_flow": null,
            "width": null,
            "min_width": null,
            "border": null,
            "align_items": null,
            "bottom": null,
            "_model_module": "@jupyter-widgets/base",
            "top": null,
            "grid_column": null,
            "overflow_y": null,
            "overflow_x": null,
            "grid_auto_flow": null,
            "grid_area": null,
            "grid_template_columns": null,
            "flex": null,
            "_model_name": "LayoutModel",
            "justify_items": null,
            "grid_row": null,
            "max_height": null,
            "align_content": null,
            "visibility": null,
            "align_self": null,
            "height": null,
            "min_height": null,
            "padding": null,
            "grid_auto_rows": null,
            "grid_gap": null,
            "max_width": null,
            "order": null,
            "_view_module_version": "1.2.0",
            "grid_template_areas": null,
            "object_position": null,
            "object_fit": null,
            "grid_auto_columns": null,
            "margin": null,
            "display": null,
            "left": null
          }
        },
        "e0b939142dbe47638b89fbe41f863fee": {
          "model_module": "@jupyter-widgets/controls",
          "model_name": "IntProgressModel",
          "state": {
            "_view_name": "ProgressView",
            "style": "IPY_MODEL_b33e45533f994067bc5b4894516f86a9",
            "_dom_classes": [],
            "description": "",
            "_model_name": "IntProgressModel",
            "bar_style": "info",
            "max": 1,
            "_view_module": "@jupyter-widgets/controls",
            "_model_module_version": "1.5.0",
            "value": 1,
            "_view_count": null,
            "_view_module_version": "1.5.0",
            "orientation": "horizontal",
            "min": 0,
            "description_tooltip": null,
            "_model_module": "@jupyter-widgets/controls",
            "layout": "IPY_MODEL_37ada2b7148348d4887a9236fa5efc81"
          }
        },
        "53e70b1e256a4a10a2be609514a71b30": {
          "model_module": "@jupyter-widgets/controls",
          "model_name": "HTMLModel",
          "state": {
            "_view_name": "HTMLView",
            "style": "IPY_MODEL_99d18fbe5fe447379083de625941a8c7",
            "_dom_classes": [],
            "description": "",
            "_model_name": "HTMLModel",
            "placeholder": "​",
            "_view_module": "@jupyter-widgets/controls",
            "_model_module_version": "1.5.0",
            "value": " 170500096/? [00:20&lt;00:00, 32344997.39it/s]",
            "_view_count": null,
            "_view_module_version": "1.5.0",
            "description_tooltip": null,
            "_model_module": "@jupyter-widgets/controls",
            "layout": "IPY_MODEL_e5a572f7e22e45fdbd55dff7d93f3ec4"
          }
        },
        "b33e45533f994067bc5b4894516f86a9": {
          "model_module": "@jupyter-widgets/controls",
          "model_name": "ProgressStyleModel",
          "state": {
            "_view_name": "StyleView",
            "_model_name": "ProgressStyleModel",
            "description_width": "initial",
            "_view_module": "@jupyter-widgets/base",
            "_model_module_version": "1.5.0",
            "_view_count": null,
            "_view_module_version": "1.2.0",
            "bar_color": null,
            "_model_module": "@jupyter-widgets/controls"
          }
        },
        "37ada2b7148348d4887a9236fa5efc81": {
          "model_module": "@jupyter-widgets/base",
          "model_name": "LayoutModel",
          "state": {
            "_view_name": "LayoutView",
            "grid_template_rows": null,
            "right": null,
            "justify_content": null,
            "_view_module": "@jupyter-widgets/base",
            "overflow": null,
            "_model_module_version": "1.2.0",
            "_view_count": null,
            "flex_flow": null,
            "width": null,
            "min_width": null,
            "border": null,
            "align_items": null,
            "bottom": null,
            "_model_module": "@jupyter-widgets/base",
            "top": null,
            "grid_column": null,
            "overflow_y": null,
            "overflow_x": null,
            "grid_auto_flow": null,
            "grid_area": null,
            "grid_template_columns": null,
            "flex": null,
            "_model_name": "LayoutModel",
            "justify_items": null,
            "grid_row": null,
            "max_height": null,
            "align_content": null,
            "visibility": null,
            "align_self": null,
            "height": null,
            "min_height": null,
            "padding": null,
            "grid_auto_rows": null,
            "grid_gap": null,
            "max_width": null,
            "order": null,
            "_view_module_version": "1.2.0",
            "grid_template_areas": null,
            "object_position": null,
            "object_fit": null,
            "grid_auto_columns": null,
            "margin": null,
            "display": null,
            "left": null
          }
        },
        "99d18fbe5fe447379083de625941a8c7": {
          "model_module": "@jupyter-widgets/controls",
          "model_name": "DescriptionStyleModel",
          "state": {
            "_view_name": "StyleView",
            "_model_name": "DescriptionStyleModel",
            "description_width": "",
            "_view_module": "@jupyter-widgets/base",
            "_model_module_version": "1.5.0",
            "_view_count": null,
            "_view_module_version": "1.2.0",
            "_model_module": "@jupyter-widgets/controls"
          }
        },
        "e5a572f7e22e45fdbd55dff7d93f3ec4": {
          "model_module": "@jupyter-widgets/base",
          "model_name": "LayoutModel",
          "state": {
            "_view_name": "LayoutView",
            "grid_template_rows": null,
            "right": null,
            "justify_content": null,
            "_view_module": "@jupyter-widgets/base",
            "overflow": null,
            "_model_module_version": "1.2.0",
            "_view_count": null,
            "flex_flow": null,
            "width": null,
            "min_width": null,
            "border": null,
            "align_items": null,
            "bottom": null,
            "_model_module": "@jupyter-widgets/base",
            "top": null,
            "grid_column": null,
            "overflow_y": null,
            "overflow_x": null,
            "grid_auto_flow": null,
            "grid_area": null,
            "grid_template_columns": null,
            "flex": null,
            "_model_name": "LayoutModel",
            "justify_items": null,
            "grid_row": null,
            "max_height": null,
            "align_content": null,
            "visibility": null,
            "align_self": null,
            "height": null,
            "min_height": null,
            "padding": null,
            "grid_auto_rows": null,
            "grid_gap": null,
            "max_width": null,
            "order": null,
            "_view_module_version": "1.2.0",
            "grid_template_areas": null,
            "object_position": null,
            "object_fit": null,
            "grid_auto_columns": null,
            "margin": null,
            "display": null,
            "left": null
          }
        }
      }
    }
  },
  "cells": [
    {
      "cell_type": "markdown",
      "metadata": {
        "id": "view-in-github",
        "colab_type": "text"
      },
      "source": [
        "<a href=\"https://colab.research.google.com/github/seonleeuni/mge51101-20205196/blob/master/LeNet_1.ipynb\" target=\"_parent\"><img src=\"https://colab.research.google.com/assets/colab-badge.svg\" alt=\"Open In Colab\"/></a>"
      ]
    },
    {
      "cell_type": "markdown",
      "metadata": {
        "id": "B0vDJ2UFySvQ",
        "colab_type": "text"
      },
      "source": [
        "## Skeleton code for CIFAR datasets\n",
        "\n",
        "- use this code for the implementation of CIFAR dataloaders"
      ]
    },
    {
      "cell_type": "code",
      "metadata": {
        "id": "cUvSrMY5yQyR",
        "colab_type": "code",
        "outputId": "3132b7dd-135f-472b-89c3-46d546d72f7e",
        "colab": {
          "base_uri": "https://localhost:8080/",
          "height": 323
        }
      },
      "source": [
        "!nvidia-smi\n",
        "import torch\n",
        "import torch.nn as nn \n",
        "import numpy as np\n",
        "import matplotlib.pyplot as plt\n",
        "import torch.nn.functional as F\n",
        "print(torch.__version__)"
      ],
      "execution_count": 2,
      "outputs": [
        {
          "output_type": "stream",
          "text": [
            "Thu Apr 23 08:05:55 2020       \n",
            "+-----------------------------------------------------------------------------+\n",
            "| NVIDIA-SMI 440.64.00    Driver Version: 418.67       CUDA Version: 10.1     |\n",
            "|-------------------------------+----------------------+----------------------+\n",
            "| GPU  Name        Persistence-M| Bus-Id        Disp.A | Volatile Uncorr. ECC |\n",
            "| Fan  Temp  Perf  Pwr:Usage/Cap|         Memory-Usage | GPU-Util  Compute M. |\n",
            "|===============================+======================+======================|\n",
            "|   0  Tesla P4            Off  | 00000000:00:04.0 Off |                    0 |\n",
            "| N/A   40C    P8     7W /  75W |      0MiB /  7611MiB |      0%      Default |\n",
            "+-------------------------------+----------------------+----------------------+\n",
            "                                                                               \n",
            "+-----------------------------------------------------------------------------+\n",
            "| Processes:                                                       GPU Memory |\n",
            "|  GPU       PID   Type   Process name                             Usage      |\n",
            "|=============================================================================|\n",
            "|  No running processes found                                                 |\n",
            "+-----------------------------------------------------------------------------+\n",
            "1.4.0\n"
          ],
          "name": "stdout"
        }
      ]
    },
    {
      "cell_type": "markdown",
      "metadata": {
        "id": "B9EHuhjGy9qq",
        "colab_type": "text"
      },
      "source": [
        "## Model\n",
        "\n",
        "- write your LeNet and AlexNet code in the following `MyCNN` class"
      ]
    },
    {
      "cell_type": "code",
      "metadata": {
        "id": "ONGWFMu_y2Jt",
        "colab_type": "code",
        "colab": {}
      },
      "source": [
        "\n",
        "\n",
        "class MyCNN(nn.Module):\n",
        "    def __init__(self):\n",
        "        super(MyCNN, self).__init__()\n",
        "        self.con1 = nn.Conv2d(3,6,5, padding = 2)\n",
        "        self.pool = nn.AvgPool2d(2, stride = 2)\n",
        "        self.con2 = nn.Conv2d(6,16,10)\n",
        "        self.den1 = nn.Linear(3*3*16, 120)\n",
        "        self.den2 = nn.Linear(120, 84)\n",
        "        self.den3 = nn.Linear(84,10)\n",
        "\n",
        "\n",
        "    def forward(self, x):\n",
        "        x = self.pool(F.sigmoid(self.con1(x)))\n",
        "        x = self.pool(F.sigmoid(self.con2(x)))\n",
        "        x = x.view(-1,3*3*16)\n",
        "        x = F.sigmoid(self.den1(x))\n",
        "        x = F.sigmoid(self.den2(x))\n",
        "        x = self.den3(x)\n",
        "        return x\n",
        "\n",
        "\n",
        "model = MyCNN().cuda()\n",
        "\n",
        "# Loss function & Optimizers\n",
        "\"\"\"\n",
        "you can change the loss and optimizer\n",
        "\"\"\"\n",
        "criterion = torch.nn.CrossEntropyLoss()\n",
        "optimizer = torch.optim.Adam(model.parameters(), lr=0.001, weight_decay=1e-4)\n",
        "\n",
        "\n",
        "# Hyperparameters\n",
        "\"\"\"\n",
        "you can change the value\n",
        "\"\"\"\n",
        "num_epochs = 200\n",
        "batch_size = 128"
      ],
      "execution_count": 0,
      "outputs": []
    },
    {
      "cell_type": "markdown",
      "metadata": {
        "id": "qPoV6AuBnARk",
        "colab_type": "text"
      },
      "source": [
        "## Training & Evaluation\n",
        "\n",
        "- Don't change the below codes\n",
        "- 3* 32 * 32"
      ]
    },
    {
      "cell_type": "code",
      "metadata": {
        "id": "Udwc2uiPzYKH",
        "colab_type": "code",
        "outputId": "6b86eba1-348d-4fbc-fa46-5d0a64addd43",
        "colab": {
          "base_uri": "https://localhost:8080/",
          "height": 1000,
          "referenced_widgets": [
            "703d28967ecd4ba180108d74655cb20a",
            "ece4c14c9c1e4a28a10f2467cba50686",
            "e0b939142dbe47638b89fbe41f863fee",
            "53e70b1e256a4a10a2be609514a71b30",
            "b33e45533f994067bc5b4894516f86a9",
            "37ada2b7148348d4887a9236fa5efc81",
            "99d18fbe5fe447379083de625941a8c7",
            "e5a572f7e22e45fdbd55dff7d93f3ec4"
          ]
        }
      },
      "source": [
        "import sys\n",
        "sys.path.insert(0, \"..\")\n",
        "from torch.utils.data import DataLoader\n",
        "import torchvision\n",
        "import torchvision.transforms as transforms\n",
        "\n",
        "# CIFAR preprocessing \n",
        "transform_train = transforms.Compose([\n",
        "    transforms.RandomCrop(32, padding=4),\n",
        "    transforms.RandomHorizontalFlip(),\n",
        "    transforms.ToTensor(),\n",
        "    transforms.Normalize((0.4914, 0.4822, 0.4465), (0.2023, 0.1994, 0.2010)),\n",
        "])\n",
        "\n",
        "transform_test = transforms.Compose([\n",
        "    transforms.ToTensor(),\n",
        "    transforms.Normalize((0.4914, 0.4822, 0.4465), (0.2023, 0.1994, 0.2010)),\n",
        "])\n",
        "\n",
        "# DataLoader for CIFAR-10\n",
        "cifar_train = torchvision.datasets.CIFAR10(root=\"./\", \n",
        "                                         train=True, \n",
        "                                         download=True,\n",
        "                                         transform=transform_train\n",
        "                                         )\n",
        "cifar_test = torchvision.datasets.CIFAR10(root=\"./\", \n",
        "                                        train=False, \n",
        "                                        download=True,\n",
        "                                        transform=transform_test)\n",
        "\n",
        "\n",
        "train_loader = DataLoader(cifar_train, batch_size=batch_size, shuffle=True, num_workers=4)\n",
        "test_loader = DataLoader(cifar_test, batch_size=batch_size, shuffle=False, num_workers=4)\n",
        "\n",
        " \n",
        "accuracy_graph = {'train':[], 'test':[], 'epoch': []}\n",
        "loss_graph = {'train':[], 'test':[], 'epoch': []}\n",
        "print(test_loader.dataset)\n",
        "\n",
        "class accumulator():\n",
        "    def __init__(self):\n",
        "        self.cnt = 0\n",
        "        self.obs = 0\n",
        "        self.loss = 0\n",
        "\n",
        "    def add(self, predict, output):\n",
        "\n",
        "        assert len(predict) == len(output)\n",
        "\n",
        "        self.cnt += self.count(predict, output).cpu().numpy()\n",
        "        self.obs += len(predict)\n",
        "    \n",
        "    def count(self, predict, output):\n",
        "        correct = torch.sum(torch.argmax(predict, dim=1) == output)\n",
        "        \n",
        "        return correct\n",
        "        \n",
        "    def loss_update(self, loss, batch_size):\n",
        "        self.loss += loss * batch_size\n",
        "\n",
        "    def running_stat(self):\n",
        "        if self.obs != 0:\n",
        "            run_acc = 100 * self.cnt / self.obs\n",
        "            run_loss = self.loss / self.obs\n",
        "        else: \n",
        "            run_acc = 0\n",
        "            rum_loss = 0\n",
        "\n",
        "        return run_acc, run_loss\n",
        "\n",
        "    def reset(self):\n",
        "        self.__init__()\n",
        "\n",
        "\n",
        "for epoch in range(num_epochs):\n",
        "\n",
        "    train_accuracy = accumulator()\n",
        "    test_accuracy = accumulator()\n",
        "\n",
        "    # Training\n",
        "    for train_x, train_y in train_loader: \n",
        "\n",
        "        train_x, train_y = train_x.cuda(), train_y.cuda()\n",
        "        train_predict = model(train_x)\n",
        "        loss = criterion(train_predict, train_y)\n",
        "\n",
        "        # Backpropagation        \n",
        "        optimizer.zero_grad()\n",
        "        loss.backward()\n",
        "        optimizer.step()\n",
        "\n",
        "        train_accuracy.add(train_predict, train_y)\n",
        "        train_accuracy.loss_update(loss, batch_size)\n",
        "\n",
        "    # Evaluation\n",
        "    if epoch % 10 ==0:\n",
        "             \n",
        "        for test_x, test_y in test_loader:\n",
        "\n",
        "            with torch.autograd.no_grad():\n",
        "                test_x, test_y = test_x.cuda(), test_y.cuda()\n",
        "                test_predict = model(test_x)\n",
        "                test_accuracy.add(test_predict, test_y)\n",
        "\n",
        "            loss_test = criterion(test_predict, test_y)\n",
        "            test_accuracy.loss_update(loss_test, batch_size)\n",
        "\n",
        "        train_acc, train_loss = train_accuracy.running_stat()\n",
        "        test_acc, test_loss = test_accuracy.running_stat()\n",
        "        accuracy_graph['train'].append(train_acc)\n",
        "        accuracy_graph['test'].append(test_acc) \n",
        "        accuracy_graph['epoch'].append(epoch)\n",
        "        loss_graph['train'].append(train_loss)\n",
        "        loss_graph['test'].append(test_loss)\n",
        "        loss_graph['epoch'].append(epoch)\n",
        "        \n",
        "        print(\"\\ntrain accuracy: {:.2f} %, test accuracy: {:.2f} %\".format(train_acc, test_acc))\n",
        "        print(\"epoch:{}, train_loss: {:.4f}, test_loss: {:.4f}\".format(epoch+1, train_loss, test_loss)) \n",
        "\n",
        "        train_accuracy.reset(), test_accuracy.reset()\n",
        "\n",
        "\n",
        "plt.plot(accuracy_graph['epoch'], accuracy_graph['train'], label = \"train accuracy\");\n",
        "plt.plot(accuracy_graph['epoch'], accuracy_graph['test'], label = \"test_accuracy\");\n",
        "plt.legend()\n",
        "plt.xlabel(\"epoch\")\n",
        "plt.ylabel(\"accuracy\")\n",
        "plt.show()\n",
        "\n",
        "plot_loss_train = plt.plot(loss_graph['epoch'], loss_graph['train'], label=\"train loss\");\n",
        "plt.plot(loss_graph['epoch'], loss_graph['test'], label=\"test loss\");\n",
        "plt.legend()\n",
        "plt.xlabel(\"epoch\")\n",
        "plt.ylabel(\"loss\")\n",
        "plt.show()"
      ],
      "execution_count": 4,
      "outputs": [
        {
          "output_type": "stream",
          "text": [
            "Downloading https://www.cs.toronto.edu/~kriz/cifar-10-python.tar.gz to ./cifar-10-python.tar.gz\n"
          ],
          "name": "stdout"
        },
        {
          "output_type": "display_data",
          "data": {
            "application/vnd.jupyter.widget-view+json": {
              "model_id": "703d28967ecd4ba180108d74655cb20a",
              "version_minor": 0,
              "version_major": 2
            },
            "text/plain": [
              "HBox(children=(IntProgress(value=1, bar_style='info', max=1), HTML(value='')))"
            ]
          },
          "metadata": {
            "tags": []
          }
        },
        {
          "output_type": "stream",
          "text": [
            "Extracting ./cifar-10-python.tar.gz to ./\n",
            "Files already downloaded and verified\n",
            "Dataset CIFAR10\n",
            "    Number of datapoints: 10000\n",
            "    Root location: ./\n",
            "    Split: Test\n",
            "    StandardTransform\n",
            "Transform: Compose(\n",
            "               ToTensor()\n",
            "               Normalize(mean=(0.4914, 0.4822, 0.4465), std=(0.2023, 0.1994, 0.201))\n",
            "           )\n"
          ],
          "name": "stdout"
        },
        {
          "output_type": "stream",
          "text": [
            "/usr/local/lib/python3.6/dist-packages/torch/nn/functional.py:1351: UserWarning: nn.functional.sigmoid is deprecated. Use torch.sigmoid instead.\n",
            "  warnings.warn(\"nn.functional.sigmoid is deprecated. Use torch.sigmoid instead.\")\n"
          ],
          "name": "stderr"
        },
        {
          "output_type": "stream",
          "text": [
            "\n",
            "train accuracy: 19.17 %, test accuracy: 25.21 %\n",
            "epoch:1, train_loss: 2.1149, test_loss: 2.0188\n",
            "\n",
            "train accuracy: 39.99 %, test accuracy: 43.13 %\n",
            "epoch:11, train_loss: 1.6311, test_loss: 1.5687\n",
            "\n",
            "train accuracy: 43.47 %, test accuracy: 45.93 %\n",
            "epoch:21, train_loss: 1.5391, test_loss: 1.4876\n",
            "\n",
            "train accuracy: 46.45 %, test accuracy: 49.45 %\n",
            "epoch:31, train_loss: 1.4637, test_loss: 1.3868\n",
            "\n",
            "train accuracy: 48.66 %, test accuracy: 51.26 %\n",
            "epoch:41, train_loss: 1.4070, test_loss: 1.3406\n",
            "\n",
            "train accuracy: 50.46 %, test accuracy: 53.65 %\n",
            "epoch:51, train_loss: 1.3582, test_loss: 1.2814\n",
            "\n",
            "train accuracy: 52.10 %, test accuracy: 55.07 %\n",
            "epoch:61, train_loss: 1.3260, test_loss: 1.2502\n",
            "\n",
            "train accuracy: 53.25 %, test accuracy: 55.68 %\n",
            "epoch:71, train_loss: 1.2944, test_loss: 1.2419\n",
            "\n",
            "train accuracy: 54.22 %, test accuracy: 57.26 %\n",
            "epoch:81, train_loss: 1.2712, test_loss: 1.1965\n",
            "\n",
            "train accuracy: 55.52 %, test accuracy: 58.59 %\n",
            "epoch:91, train_loss: 1.2373, test_loss: 1.1619\n",
            "\n",
            "train accuracy: 56.00 %, test accuracy: 58.44 %\n",
            "epoch:101, train_loss: 1.2289, test_loss: 1.1676\n",
            "\n",
            "train accuracy: 56.95 %, test accuracy: 58.46 %\n",
            "epoch:111, train_loss: 1.2057, test_loss: 1.1785\n",
            "\n",
            "train accuracy: 57.49 %, test accuracy: 59.74 %\n",
            "epoch:121, train_loss: 1.1909, test_loss: 1.1351\n",
            "\n",
            "train accuracy: 58.17 %, test accuracy: 60.92 %\n",
            "epoch:131, train_loss: 1.1774, test_loss: 1.1163\n",
            "\n",
            "train accuracy: 58.51 %, test accuracy: 61.39 %\n",
            "epoch:141, train_loss: 1.1620, test_loss: 1.1025\n",
            "\n",
            "train accuracy: 58.75 %, test accuracy: 61.59 %\n",
            "epoch:151, train_loss: 1.1526, test_loss: 1.0909\n",
            "\n",
            "train accuracy: 59.16 %, test accuracy: 61.50 %\n",
            "epoch:161, train_loss: 1.1446, test_loss: 1.0943\n",
            "\n",
            "train accuracy: 59.86 %, test accuracy: 61.58 %\n",
            "epoch:171, train_loss: 1.1320, test_loss: 1.1047\n",
            "\n",
            "train accuracy: 60.49 %, test accuracy: 61.63 %\n",
            "epoch:181, train_loss: 1.1195, test_loss: 1.0906\n",
            "\n",
            "train accuracy: 60.59 %, test accuracy: 62.34 %\n",
            "epoch:191, train_loss: 1.1099, test_loss: 1.0806\n"
          ],
          "name": "stdout"
        },
        {
          "output_type": "display_data",
          "data": {
            "image/png": "[encoded data removed]",
            "text/plain": [
              "<Figure size 432x288 with 1 Axes>"
            ]
          },
          "metadata": {
            "tags": [],
            "needs_background": "light"
          }
        },
        {
          "output_type": "display_data",
          "data": {
            "image/png": "[encoded data removed]",
            "text/plain": [
              "<Figure size 432x288 with 1 Axes>"
            ]
          },
          "metadata": {
            "tags": [],
            "needs_background": "light"
          }
        }
      ]
    },
    {
      "cell_type": "code",
      "metadata": {
        "id": "K-gLfc95PZsU",
        "colab_type": "code",
        "colab": {
          "base_uri": "https://localhost:8080/",
          "height": 34
        },
        "outputId": "67d722d2-a9f0-4698-9d78-c027b6fc5b7f"
      },
      "source": [
        ""
      ],
      "execution_count": 47,
      "outputs": [
        {
          "output_type": "execute_result",
          "data": {
            "text/plain": [
              "3.986159169550173"
            ]
          },
          "metadata": {
            "tags": []
          },
          "execution_count": 47
        }
      ]
    },
    {
      "cell_type": "code",
      "metadata": {
        "id": "JexYPeGjiMdp",
        "colab_type": "code",
        "colab": {}
      },
      "source": [
        ""
      ],
      "execution_count": 0,
      "outputs": []
    }
  ]
}