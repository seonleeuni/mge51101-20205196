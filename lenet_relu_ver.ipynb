{
  "nbformat": 4,
  "nbformat_minor": 0,
  "metadata": {
    "colab": {
      "name": "skeleton_CIFAR.ipynb의 사본",
      "provenance": [],
      "collapsed_sections": [],
      "include_colab_link": true
    },
    "kernelspec": {
      "name": "python3",
      "display_name": "Python 3"
    },
    "accelerator": "GPU",
    "widgets": {
      "application/vnd.jupyter.widget-state+json": {
        "bb9f51fe596144428ab52ab1019dca18": {
          "model_module": "@jupyter-widgets/controls",
          "model_name": "HBoxModel",
          "state": {
            "_view_name": "HBoxView",
            "_dom_classes": [],
            "_model_name": "HBoxModel",
            "_view_module": "@jupyter-widgets/controls",
            "_model_module_version": "1.5.0",
            "_view_count": null,
            "_view_module_version": "1.5.0",
            "box_style": "",
            "layout": "IPY_MODEL_96459f37df404bf497b2f32fc31ca880",
            "_model_module": "@jupyter-widgets/controls",
            "children": [
              "IPY_MODEL_1013935fdd6549a3906ba8b0040b4314",
              "IPY_MODEL_2ea5ea7941ac43679b2b1a10f2703fc7"
            ]
          }
        },
        "96459f37df404bf497b2f32fc31ca880": {
          "model_module": "@jupyter-widgets/base",
          "model_name": "LayoutModel",
          "state": {
            "_view_name": "LayoutView",
            "grid_template_rows": null,
            "right": null,
            "justify_content": null,
            "_view_module": "@jupyter-widgets/base",
            "overflow": null,
            "_model_module_version": "1.2.0",
            "_view_count": null,
            "flex_flow": null,
            "width": null,
            "min_width": null,
            "border": null,
            "align_items": null,
            "bottom": null,
            "_model_module": "@jupyter-widgets/base",
            "top": null,
            "grid_column": null,
            "overflow_y": null,
            "overflow_x": null,
            "grid_auto_flow": null,
            "grid_area": null,
            "grid_template_columns": null,
            "flex": null,
            "_model_name": "LayoutModel",
            "justify_items": null,
            "grid_row": null,
            "max_height": null,
            "align_content": null,
            "visibility": null,
            "align_self": null,
            "height": null,
            "min_height": null,
            "padding": null,
            "grid_auto_rows": null,
            "grid_gap": null,
            "max_width": null,
            "order": null,
            "_view_module_version": "1.2.0",
            "grid_template_areas": null,
            "object_position": null,
            "object_fit": null,
            "grid_auto_columns": null,
            "margin": null,
            "display": null,
            "left": null
          }
        },
        "1013935fdd6549a3906ba8b0040b4314": {
          "model_module": "@jupyter-widgets/controls",
          "model_name": "IntProgressModel",
          "state": {
            "_view_name": "ProgressView",
            "style": "IPY_MODEL_7123899acf414e5aa54ec0fe8bef7b4c",
            "_dom_classes": [],
            "description": "",
            "_model_name": "IntProgressModel",
            "bar_style": "info",
            "max": 1,
            "_view_module": "@jupyter-widgets/controls",
            "_model_module_version": "1.5.0",
            "value": 1,
            "_view_count": null,
            "_view_module_version": "1.5.0",
            "orientation": "horizontal",
            "min": 0,
            "description_tooltip": null,
            "_model_module": "@jupyter-widgets/controls",
            "layout": "IPY_MODEL_5fefbbc3e8c54a29911c98d396f48603"
          }
        },
        "2ea5ea7941ac43679b2b1a10f2703fc7": {
          "model_module": "@jupyter-widgets/controls",
          "model_name": "HTMLModel",
          "state": {
            "_view_name": "HTMLView",
            "style": "IPY_MODEL_927d0924047e4bd5b5a33755ee970477",
            "_dom_classes": [],
            "description": "",
            "_model_name": "HTMLModel",
            "placeholder": "​",
            "_view_module": "@jupyter-widgets/controls",
            "_model_module_version": "1.5.0",
            "value": " 170500096/? [00:20&lt;00:00, 33246025.57it/s]",
            "_view_count": null,
            "_view_module_version": "1.5.0",
            "description_tooltip": null,
            "_model_module": "@jupyter-widgets/controls",
            "layout": "IPY_MODEL_cd619e793b1b4f5fa46a68286ac0323e"
          }
        },
        "7123899acf414e5aa54ec0fe8bef7b4c": {
          "model_module": "@jupyter-widgets/controls",
          "model_name": "ProgressStyleModel",
          "state": {
            "_view_name": "StyleView",
            "_model_name": "ProgressStyleModel",
            "description_width": "initial",
            "_view_module": "@jupyter-widgets/base",
            "_model_module_version": "1.5.0",
            "_view_count": null,
            "_view_module_version": "1.2.0",
            "bar_color": null,
            "_model_module": "@jupyter-widgets/controls"
          }
        },
        "5fefbbc3e8c54a29911c98d396f48603": {
          "model_module": "@jupyter-widgets/base",
          "model_name": "LayoutModel",
          "state": {
            "_view_name": "LayoutView",
            "grid_template_rows": null,
            "right": null,
            "justify_content": null,
            "_view_module": "@jupyter-widgets/base",
            "overflow": null,
            "_model_module_version": "1.2.0",
            "_view_count": null,
            "flex_flow": null,
            "width": null,
            "min_width": null,
            "border": null,
            "align_items": null,
            "bottom": null,
            "_model_module": "@jupyter-widgets/base",
            "top": null,
            "grid_column": null,
            "overflow_y": null,
            "overflow_x": null,
            "grid_auto_flow": null,
            "grid_area": null,
            "grid_template_columns": null,
            "flex": null,
            "_model_name": "LayoutModel",
            "justify_items": null,
            "grid_row": null,
            "max_height": null,
            "align_content": null,
            "visibility": null,
            "align_self": null,
            "height": null,
            "min_height": null,
            "padding": null,
            "grid_auto_rows": null,
            "grid_gap": null,
            "max_width": null,
            "order": null,
            "_view_module_version": "1.2.0",
            "grid_template_areas": null,
            "object_position": null,
            "object_fit": null,
            "grid_auto_columns": null,
            "margin": null,
            "display": null,
            "left": null
          }
        },
        "927d0924047e4bd5b5a33755ee970477": {
          "model_module": "@jupyter-widgets/controls",
          "model_name": "DescriptionStyleModel",
          "state": {
            "_view_name": "StyleView",
            "_model_name": "DescriptionStyleModel",
            "description_width": "",
            "_view_module": "@jupyter-widgets/base",
            "_model_module_version": "1.5.0",
            "_view_count": null,
            "_view_module_version": "1.2.0",
            "_model_module": "@jupyter-widgets/controls"
          }
        },
        "cd619e793b1b4f5fa46a68286ac0323e": {
          "model_module": "@jupyter-widgets/base",
          "model_name": "LayoutModel",
          "state": {
            "_view_name": "LayoutView",
            "grid_template_rows": null,
            "right": null,
            "justify_content": null,
            "_view_module": "@jupyter-widgets/base",
            "overflow": null,
            "_model_module_version": "1.2.0",
            "_view_count": null,
            "flex_flow": null,
            "width": null,
            "min_width": null,
            "border": null,
            "align_items": null,
            "bottom": null,
            "_model_module": "@jupyter-widgets/base",
            "top": null,
            "grid_column": null,
            "overflow_y": null,
            "overflow_x": null,
            "grid_auto_flow": null,
            "grid_area": null,
            "grid_template_columns": null,
            "flex": null,
            "_model_name": "LayoutModel",
            "justify_items": null,
            "grid_row": null,
            "max_height": null,
            "align_content": null,
            "visibility": null,
            "align_self": null,
            "height": null,
            "min_height": null,
            "padding": null,
            "grid_auto_rows": null,
            "grid_gap": null,
            "max_width": null,
            "order": null,
            "_view_module_version": "1.2.0",
            "grid_template_areas": null,
            "object_position": null,
            "object_fit": null,
            "grid_auto_columns": null,
            "margin": null,
            "display": null,
            "left": null
          }
        }
      }
    }
  },
  "cells": [
    {
      "cell_type": "markdown",
      "metadata": {
        "id": "view-in-github",
        "colab_type": "text"
      },
      "source": [
        "<a href=\"https://colab.research.google.com/github/seonleeuni/mge51101-20205196/blob/master/lenet_relu_ver.ipynb\" target=\"_parent\"><img src=\"https://colab.research.google.com/assets/colab-badge.svg\" alt=\"Open In Colab\"/></a>"
      ]
    },
    {
      "cell_type": "markdown",
      "metadata": {
        "id": "B0vDJ2UFySvQ",
        "colab_type": "text"
      },
      "source": [
        "## Skeleton code for CIFAR datasets\n",
        "\n",
        "- use this code for the implementation of CIFAR dataloaders"
      ]
    },
    {
      "cell_type": "code",
      "metadata": {
        "id": "cUvSrMY5yQyR",
        "colab_type": "code",
        "outputId": "cebb94ef-ab3a-4348-f5a9-66c3e6916943",
        "colab": {
          "base_uri": "https://localhost:8080/",
          "height": 323
        }
      },
      "source": [
        "!nvidia-smi\n",
        "import torch\n",
        "import torch.nn as nn \n",
        "import numpy as np\n",
        "import matplotlib.pyplot as plt\n",
        "import torch.nn.functional as F\n",
        "print(torch.__version__)"
      ],
      "execution_count": 0,
      "outputs": [
        {
          "output_type": "stream",
          "text": [
            "Wed Apr 29 09:11:27 2020       \n",
            "+-----------------------------------------------------------------------------+\n",
            "| NVIDIA-SMI 440.64.00    Driver Version: 418.67       CUDA Version: 10.1     |\n",
            "|-------------------------------+----------------------+----------------------+\n",
            "| GPU  Name        Persistence-M| Bus-Id        Disp.A | Volatile Uncorr. ECC |\n",
            "| Fan  Temp  Perf  Pwr:Usage/Cap|         Memory-Usage | GPU-Util  Compute M. |\n",
            "|===============================+======================+======================|\n",
            "|   0  Tesla T4            Off  | 00000000:00:04.0 Off |                    0 |\n",
            "| N/A   61C    P8    10W /  70W |      0MiB / 15079MiB |      0%      Default |\n",
            "+-------------------------------+----------------------+----------------------+\n",
            "                                                                               \n",
            "+-----------------------------------------------------------------------------+\n",
            "| Processes:                                                       GPU Memory |\n",
            "|  GPU       PID   Type   Process name                             Usage      |\n",
            "|=============================================================================|\n",
            "|  No running processes found                                                 |\n",
            "+-----------------------------------------------------------------------------+\n",
            "1.5.0+cu101\n"
          ],
          "name": "stdout"
        }
      ]
    },
    {
      "cell_type": "markdown",
      "metadata": {
        "id": "B9EHuhjGy9qq",
        "colab_type": "text"
      },
      "source": [
        "## Model\n",
        "\n",
        "- write your LeNet and AlexNet code in the following `MyCNN` class"
      ]
    },
    {
      "cell_type": "code",
      "metadata": {
        "id": "ONGWFMu_y2Jt",
        "colab_type": "code",
        "colab": {}
      },
      "source": [
        "\n",
        "\n",
        "class MyCNN(nn.Module):\n",
        "    def __init__(self):\n",
        "        super(MyCNN, self).__init__()\n",
        "        self.con1 = nn.Conv2d(3,6,5, padding = 2)\n",
        "        self.pool = nn.AvgPool2d(2, stride = 2)\n",
        "        self.con2 = nn.Conv2d(6,16,10)\n",
        "        self.den1 = nn.Linear(3*3*16, 120)\n",
        "        self.den2 = nn.Linear(120, 84)\n",
        "        self.den3 = nn.Linear(84,10)\n",
        "\n",
        "\n",
        "    def forward(self, x):\n",
        "        x = self.pool(F.relu(self.con1(x)))\n",
        "        x = self.pool(F.relu(self.con2(x)))\n",
        "        x = x.view(-1,3*3*16)\n",
        "        x = F.relu(self.den1(x))\n",
        "        x = F.relu(self.den2(x))\n",
        "        x = self.den3(x)\n",
        "        return x\n",
        "\n",
        "\n",
        "model = MyCNN().cuda()\n",
        "\n",
        "# Loss function & Optimizers\n",
        "\"\"\"\n",
        "you can change the loss and optimizer\n",
        "\"\"\"\n",
        "criterion = torch.nn.CrossEntropyLoss()\n",
        "optimizer = torch.optim.Adam(model.parameters(), lr=0.001, weight_decay=1e-4)\n",
        "\n",
        "\n",
        "# Hyperparameters\n",
        "\"\"\"\n",
        "you can change the value\n",
        "\"\"\"\n",
        "num_epochs = 250\n",
        "batch_size = 128"
      ],
      "execution_count": 0,
      "outputs": []
    },
    {
      "cell_type": "markdown",
      "metadata": {
        "id": "qPoV6AuBnARk",
        "colab_type": "text"
      },
      "source": [
        "## Training & Evaluation\n",
        "\n",
        "- Don't change the below codes\n",
        "- 3* 32 * 32"
      ]
    },
    {
      "cell_type": "code",
      "metadata": {
        "id": "76QgKSjQZvnm",
        "colab_type": "code",
        "outputId": "0beed179-b636-47c8-97ab-0f3c791aba66",
        "colab": {
          "base_uri": "https://localhost:8080/",
          "height": 517,
          "referenced_widgets": [
            "bb9f51fe596144428ab52ab1019dca18",
            "96459f37df404bf497b2f32fc31ca880",
            "1013935fdd6549a3906ba8b0040b4314",
            "2ea5ea7941ac43679b2b1a10f2703fc7",
            "7123899acf414e5aa54ec0fe8bef7b4c",
            "5fefbbc3e8c54a29911c98d396f48603",
            "927d0924047e4bd5b5a33755ee970477",
            "cd619e793b1b4f5fa46a68286ac0323e"
          ]
        }
      },
      "source": [
        "import sys\n",
        "sys.path.insert(0, \"..\")\n",
        "from torch.utils.data import DataLoader\n",
        "import torchvision\n",
        "import torchvision.transforms as transforms\n",
        "\n",
        "# CIFAR preprocessing \n",
        "transform_train = transforms.Compose([\n",
        "    transforms.RandomCrop(32, padding=4),\n",
        "    transforms.RandomHorizontalFlip(),\n",
        "    transforms.ToTensor(),\n",
        "    transforms.Normalize((0.4914, 0.4822, 0.4465), (0.2023, 0.1994, 0.2010)),\n",
        "])\n",
        "\n",
        "transform_test = transforms.Compose([\n",
        "    transforms.ToTensor(),\n",
        "    transforms.Normalize((0.4914, 0.4822, 0.4465), (0.2023, 0.1994, 0.2010)),\n",
        "])\n",
        "\n",
        "# DataLoader for CIFAR-10\n",
        "cifar_train = torchvision.datasets.CIFAR10(root=\"./\", \n",
        "                                         train=True, \n",
        "                                         download=True,\n",
        "                                         transform=transform_train\n",
        "                                         )\n",
        "cifar_test = torchvision.datasets.CIFAR10(root=\"./\", \n",
        "                                        train=False, \n",
        "                                        download=True,\n",
        "                                        transform=transform_test)\n",
        "\n",
        "\n",
        "train_loader = DataLoader(cifar_train, batch_size=batch_size, shuffle=True, num_workers=4)\n",
        "test_loader = DataLoader(cifar_test, batch_size=batch_size, shuffle=False, num_workers=4)\n",
        "\n",
        " \n",
        "accuracy_graph = {'train':[], 'test':[], 'epoch': []}\n",
        "loss_graph = {'train':[], 'test':[], 'epoch': []}\n",
        "print(test_loader.dataset)\n",
        "\n",
        "for x, y in train_loader:\n",
        "  print(x.shape)\n",
        "  print(y)\n",
        "  fig = plt.figure()\n",
        "  plt.imshow(x[0].reshape(x[0].shape[1], -1))\n",
        "  break"
      ],
      "execution_count": 0,
      "outputs": [
        {
          "output_type": "stream",
          "text": [
            "Downloading https://www.cs.toronto.edu/~kriz/cifar-10-python.tar.gz to ./cifar-10-python.tar.gz\n"
          ],
          "name": "stdout"
        },
        {
          "output_type": "display_data",
          "data": {
            "application/vnd.jupyter.widget-view+json": {
              "model_id": "bb9f51fe596144428ab52ab1019dca18",
              "version_minor": 0,
              "version_major": 2
            },
            "text/plain": [
              "HBox(children=(IntProgress(value=1, bar_style='info', max=1), HTML(value='')))"
            ]
          },
          "metadata": {
            "tags": []
          }
        },
        {
          "output_type": "stream",
          "text": [
            "Extracting ./cifar-10-python.tar.gz to ./\n",
            "Files already downloaded and verified\n",
            "Dataset CIFAR10\n",
            "    Number of datapoints: 10000\n",
            "    Root location: ./\n",
            "    Split: Test\n",
            "    StandardTransform\n",
            "Transform: Compose(\n",
            "               ToTensor()\n",
            "               Normalize(mean=(0.4914, 0.4822, 0.4465), std=(0.2023, 0.1994, 0.201))\n",
            "           )\n",
            "torch.Size([128, 3, 32, 32])\n",
            "tensor([2, 8, 2, 5, 7, 5, 1, 4, 9, 7, 5, 6, 3, 9, 2, 0, 4, 0, 6, 1, 0, 9, 4, 3,\n",
            "        8, 3, 3, 9, 5, 0, 2, 2, 8, 2, 1, 3, 8, 6, 4, 2, 7, 9, 8, 9, 0, 0, 2, 3,\n",
            "        8, 7, 4, 7, 1, 6, 5, 5, 6, 3, 6, 1, 8, 2, 8, 2, 4, 9, 9, 4, 2, 8, 1, 2,\n",
            "        3, 8, 8, 2, 9, 6, 5, 0, 4, 9, 0, 0, 0, 1, 6, 9, 4, 4, 8, 9, 1, 0, 7, 5,\n",
            "        4, 9, 9, 0, 1, 5, 4, 2, 3, 6, 7, 1, 9, 2, 1, 7, 0, 6, 1, 0, 0, 3, 8, 9,\n",
            "        6, 3, 3, 5, 8, 5, 3, 7])\n"
          ],
          "name": "stdout"
        },
        {
          "output_type": "display_data",
          "data": {
            "image/png": "[encoded data removed]",
            "text/plain": [
              "<Figure size 432x288 with 1 Axes>"
            ]
          },
          "metadata": {
            "tags": [],
            "needs_background": "light"
          }
        }
      ]
    },
    {
      "cell_type": "code",
      "metadata": {
        "id": "Udwc2uiPzYKH",
        "colab_type": "code",
        "outputId": "b5631b4f-298a-4e02-dd5c-e68c741935fc",
        "colab": {
          "base_uri": "https://localhost:8080/",
          "height": 1000
        }
      },
      "source": [
        "\n",
        "\n",
        "class accumulator():\n",
        "    def __init__(self):\n",
        "        self.cnt = 0\n",
        "        self.obs = 0\n",
        "        self.loss = 0\n",
        "\n",
        "    def add(self, predict, output):\n",
        "\n",
        "        assert len(predict) == len(output)\n",
        "\n",
        "        self.cnt += self.count(predict, output).cpu().numpy()\n",
        "        self.obs += len(predict)\n",
        "    \n",
        "    def count(self, predict, output):\n",
        "        correct = torch.sum(torch.argmax(predict, dim=1) == output)\n",
        "        \n",
        "        return correct\n",
        "        \n",
        "    def loss_update(self, loss, batch_size):\n",
        "        self.loss += loss * batch_size\n",
        "\n",
        "    def running_stat(self):\n",
        "        if self.obs != 0:\n",
        "            run_acc = 100 * self.cnt / self.obs\n",
        "            run_loss = self.loss / self.obs\n",
        "        else: \n",
        "            run_acc = 0\n",
        "            rum_loss = 0\n",
        "\n",
        "        return run_acc, run_loss\n",
        "\n",
        "    def reset(self):\n",
        "        self.__init__()\n",
        "\n",
        "\n",
        "for epoch in range(num_epochs):\n",
        "\n",
        "    train_accuracy = accumulator()\n",
        "    test_accuracy = accumulator()\n",
        "\n",
        "    # Training\n",
        "    for train_x, train_y in train_loader: \n",
        "\n",
        "        train_x, train_y = train_x.cuda(), train_y.cuda()\n",
        "        train_predict = model(train_x)\n",
        "        loss = criterion(train_predict, train_y)\n",
        "\n",
        "        # Backpropagation        \n",
        "        optimizer.zero_grad()\n",
        "        loss.backward()\n",
        "        optimizer.step()\n",
        "\n",
        "        train_accuracy.add(train_predict, train_y)\n",
        "        train_accuracy.loss_update(loss, batch_size)\n",
        "\n",
        "    # Evaluation\n",
        "    if epoch % 10 ==0:\n",
        "             \n",
        "        for test_x, test_y in test_loader:\n",
        "\n",
        "            with torch.autograd.no_grad():\n",
        "                test_x, test_y = test_x.cuda(), test_y.cuda()\n",
        "                test_predict = model(test_x)\n",
        "                test_accuracy.add(test_predict, test_y)\n",
        "\n",
        "            loss_test = criterion(test_predict, test_y)\n",
        "            test_accuracy.loss_update(loss_test, batch_size)\n",
        "\n",
        "        train_acc, train_loss = train_accuracy.running_stat()\n",
        "        test_acc, test_loss = test_accuracy.running_stat()\n",
        "        accuracy_graph['train'].append(train_acc)\n",
        "        accuracy_graph['test'].append(test_acc) \n",
        "        accuracy_graph['epoch'].append(epoch)\n",
        "        loss_graph['train'].append(train_loss)\n",
        "        loss_graph['test'].append(test_loss)\n",
        "        loss_graph['epoch'].append(epoch)\n",
        "        \n",
        "        print(\"\\ntrain accuracy: {:.2f} %, test accuracy: {:.2f} %\".format(train_acc, test_acc))\n",
        "        print(\"epoch:{}, train_loss: {:.4f}, test_loss: {:.4f}\".format(epoch+1, train_loss, test_loss)) \n",
        "\n",
        "        train_accuracy.reset(), test_accuracy.reset()\n",
        "\n",
        "\n",
        "plt.plot(accuracy_graph['epoch'], accuracy_graph['train'], label = \"train accuracy\");\n",
        "plt.plot(accuracy_graph['epoch'], accuracy_graph['test'], label = \"test_accuracy\");\n",
        "plt.legend()\n",
        "plt.xlabel(\"epoch\")\n",
        "plt.ylabel(\"accuracy\")\n",
        "plt.show()\n",
        "\n",
        "plot_loss_train = plt.plot(loss_graph['epoch'], loss_graph['train'], label=\"train loss\");\n",
        "plt.plot(loss_graph['epoch'], loss_graph['test'], label=\"test loss\");\n",
        "plt.legend()\n",
        "plt.xlabel(\"epoch\")\n",
        "plt.ylabel(\"loss\")\n",
        "plt.show()"
      ],
      "execution_count": 0,
      "outputs": [
        {
          "output_type": "stream",
          "text": [
            "\n",
            "train accuracy: 30.18 %, test accuracy: 38.06 %\n",
            "epoch:1, train_loss: 1.8955, test_loss: 1.7359\n",
            "\n",
            "train accuracy: 53.07 %, test accuracy: 55.37 %\n",
            "epoch:11, train_loss: 1.3098, test_loss: 1.2514\n",
            "\n",
            "train accuracy: 57.85 %, test accuracy: 59.10 %\n",
            "epoch:21, train_loss: 1.1874, test_loss: 1.1565\n",
            "\n",
            "train accuracy: 60.26 %, test accuracy: 62.20 %\n",
            "epoch:31, train_loss: 1.1174, test_loss: 1.0760\n",
            "\n",
            "train accuracy: 62.08 %, test accuracy: 61.82 %\n",
            "epoch:41, train_loss: 1.0687, test_loss: 1.0840\n",
            "\n",
            "train accuracy: 63.08 %, test accuracy: 64.63 %\n",
            "epoch:51, train_loss: 1.0404, test_loss: 1.0057\n",
            "\n",
            "train accuracy: 64.28 %, test accuracy: 64.63 %\n",
            "epoch:61, train_loss: 1.0117, test_loss: 1.0152\n",
            "\n",
            "train accuracy: 64.66 %, test accuracy: 66.04 %\n",
            "epoch:71, train_loss: 0.9985, test_loss: 0.9820\n",
            "\n",
            "train accuracy: 65.10 %, test accuracy: 66.42 %\n",
            "epoch:81, train_loss: 0.9829, test_loss: 0.9666\n",
            "\n",
            "train accuracy: 65.49 %, test accuracy: 66.60 %\n",
            "epoch:91, train_loss: 0.9761, test_loss: 0.9553\n",
            "\n",
            "train accuracy: 66.11 %, test accuracy: 67.43 %\n",
            "epoch:101, train_loss: 0.9541, test_loss: 0.9471\n",
            "\n",
            "train accuracy: 66.25 %, test accuracy: 67.52 %\n",
            "epoch:111, train_loss: 0.9516, test_loss: 0.9497\n",
            "\n",
            "train accuracy: 66.54 %, test accuracy: 67.40 %\n",
            "epoch:121, train_loss: 0.9463, test_loss: 0.9496\n",
            "\n",
            "train accuracy: 66.82 %, test accuracy: 68.56 %\n",
            "epoch:131, train_loss: 0.9372, test_loss: 0.9247\n",
            "\n",
            "train accuracy: 67.26 %, test accuracy: 69.04 %\n",
            "epoch:141, train_loss: 0.9307, test_loss: 0.9107\n",
            "\n",
            "train accuracy: 67.69 %, test accuracy: 68.62 %\n",
            "epoch:151, train_loss: 0.9192, test_loss: 0.9224\n",
            "\n",
            "train accuracy: 67.37 %, test accuracy: 69.35 %\n",
            "epoch:161, train_loss: 0.9240, test_loss: 0.9077\n",
            "\n",
            "train accuracy: 67.86 %, test accuracy: 69.41 %\n",
            "epoch:171, train_loss: 0.9127, test_loss: 0.8944\n",
            "\n",
            "train accuracy: 67.76 %, test accuracy: 68.71 %\n",
            "epoch:181, train_loss: 0.9102, test_loss: 0.9257\n",
            "\n",
            "train accuracy: 67.80 %, test accuracy: 69.91 %\n",
            "epoch:191, train_loss: 0.9056, test_loss: 0.8859\n",
            "\n",
            "train accuracy: 67.98 %, test accuracy: 69.65 %\n",
            "epoch:201, train_loss: 0.9072, test_loss: 0.8887\n",
            "\n",
            "train accuracy: 68.64 %, test accuracy: 68.35 %\n",
            "epoch:211, train_loss: 0.8957, test_loss: 0.9223\n",
            "\n",
            "train accuracy: 68.42 %, test accuracy: 69.09 %\n",
            "epoch:221, train_loss: 0.8924, test_loss: 0.8866\n",
            "\n",
            "train accuracy: 68.50 %, test accuracy: 69.75 %\n",
            "epoch:231, train_loss: 0.8900, test_loss: 0.8846\n",
            "\n",
            "train accuracy: 68.63 %, test accuracy: 69.10 %\n",
            "epoch:241, train_loss: 0.8898, test_loss: 0.9029\n"
          ],
          "name": "stdout"
        },
        {
          "output_type": "display_data",
          "data": {
            "image/png": "[encoded data removed]",
            "text/plain": [
              "<Figure size 432x288 with 1 Axes>"
            ]
          },
          "metadata": {
            "tags": [],
            "needs_background": "light"
          }
        },
        {
          "output_type": "display_data",
          "data": {
            "image/png": "[encoded data removed]",
            "text/plain": [
              "<Figure size 432x288 with 1 Axes>"
            ]
          },
          "metadata": {
            "tags": [],
            "needs_background": "light"
          }
        }
      ]
    },
    {
      "cell_type": "code",
      "metadata": {
        "id": "kwRP_2sONUUZ",
        "colab_type": "code",
        "colab": {}
      },
      "source": [
        ""
      ],
      "execution_count": 0,
      "outputs": []
    }
  ]
}