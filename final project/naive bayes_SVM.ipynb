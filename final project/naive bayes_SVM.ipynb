{
  "nbformat": 4,
  "nbformat_minor": 0,
  "metadata": {
    "colab": {
      "name": "naive bayes & SVM_same data_with deep",
      "provenance": [],
      "collapsed_sections": [],
      "authorship_tag": "ABX9TyO8/EXtSEItASGpqIOzpV7/",
      "include_colab_link": true
    },
    "kernelspec": {
      "name": "python3",
      "display_name": "Python 3"
    }
  },
  "cells": [
    {
      "cell_type": "markdown",
      "metadata": {
        "id": "view-in-github",
        "colab_type": "text"
      },
      "source": [
        "<a href=\"https://colab.research.google.com/github/seonleeuni/mge51101-20205196/blob/master/final%20project/naive%20bayes_SVM.ipynb\" target=\"_parent\"><img src=\"https://colab.research.google.com/assets/colab-badge.svg\" alt=\"Open In Colab\"/></a>"
      ]
    },
    {
      "cell_type": "markdown",
      "metadata": {
        "id": "P5R5aj2cLEND",
        "colab_type": "text"
      },
      "source": [
        "# Comparison model- Naive Bayes and Support Vector Machine(SVM)\n",
        "To compare our model with other machine learning methods, we will Naive Bayes and SVM which perform best in the field of sentiment analysis in natural language processing. Therefore, we need to conduct machine learning model. We will use scikit learn to perform machine learning. Here, we will use same training set and testing set with CNN models. Then, we will tokenize again and take word embedding process. At the end of this process, we will calculate accuracy and f1-score, which are metrics to compare each classification method."
      ]
    },
    {
      "cell_type": "code",
      "metadata": {
        "id": "-GCkw7xdIh8N",
        "colab_type": "code",
        "colab": {
          "base_uri": "https://localhost:8080/",
          "height": 122
        },
        "outputId": "4b3dc881-b38c-459e-d380-40cc5140e1fa"
      },
      "source": [
        "# https://medium.com/@bedigunjit/simple-guide-to-text-classification-nlp-using-svm-and-naive-bayes-with-python-421db3a72d34\n",
        "\n",
        "from google.colab import drive\n",
        "\n",
        "drive.mount('/content/gdrive')"
      ],
      "execution_count": 1,
      "outputs": [
        {
          "output_type": "stream",
          "text": [
            "Go to this URL in a browser: https://accounts.google.com/o/oauth2/auth?client_id=947318989803-6bn6qk8qdgf4n4g3pfee6491hc0brc4i.apps.googleusercontent.com&redirect_uri=urn%3aietf%3awg%3aoauth%3a2.0%3aoob&response_type=code&scope=email%20https%3a%2f%2fwww.googleapis.com%2fauth%2fdocs.test%20https%3a%2f%2fwww.googleapis.com%2fauth%2fdrive%20https%3a%2f%2fwww.googleapis.com%2fauth%2fdrive.photos.readonly%20https%3a%2f%2fwww.googleapis.com%2fauth%2fpeopleapi.readonly\n",
            "\n",
            "Enter your authorization code:\n",
            "··········\n",
            "Mounted at /content/gdrive\n"
          ],
          "name": "stdout"
        }
      ]
    },
    {
      "cell_type": "markdown",
      "metadata": {
        "id": "ADk4QoYwMdoc",
        "colab_type": "text"
      },
      "source": [
        "Import the data set which is same with the one used for CNN model. Training and test sets are same with that of CNN model."
      ]
    },
    {
      "cell_type": "code",
      "metadata": {
        "id": "2-PhFRAHIr-f",
        "colab_type": "code",
        "colab": {}
      },
      "source": [
        "import pandas as pd\n",
        "import numpy as np\n",
        "\n",
        "# import training, test set same with the one used for CNN modeling emoticon and JaMo has removed already\n",
        "data =  pd.read_csv('/content/gdrive/My Drive/Colab Notebooks/data.csv')\n",
        "training = pd.read_csv('/content/gdrive/My Drive/Colab Notebooks/train.csv') \n",
        "testing = pd.read_csv('/content/gdrive/My Drive/Colab Notebooks/test.csv') \n"
      ],
      "execution_count": 2,
      "outputs": []
    },
    {
      "cell_type": "code",
      "metadata": {
        "id": "zFuw7NgALnmg",
        "colab_type": "code",
        "colab": {
          "base_uri": "https://localhost:8080/",
          "height": 204
        },
        "outputId": "f96cadca-6e95-4868-875a-c7f5c02c5bc3"
      },
      "source": [
        "training.head()"
      ],
      "execution_count": 3,
      "outputs": [
        {
          "output_type": "execute_result",
          "data": {
            "text/html": [
              "<div>\n",
              "<style scoped>\n",
              "    .dataframe tbody tr th:only-of-type {\n",
              "        vertical-align: middle;\n",
              "    }\n",
              "\n",
              "    .dataframe tbody tr th {\n",
              "        vertical-align: top;\n",
              "    }\n",
              "\n",
              "    .dataframe thead th {\n",
              "        text-align: right;\n",
              "    }\n",
              "</style>\n",
              "<table border=\"1\" class=\"dataframe\">\n",
              "  <thead>\n",
              "    <tr style=\"text-align: right;\">\n",
              "      <th></th>\n",
              "      <th>Unnamed: 0</th>\n",
              "      <th>Sentence</th>\n",
              "      <th>Emotion</th>\n",
              "    </tr>\n",
              "  </thead>\n",
              "  <tbody>\n",
              "    <tr>\n",
              "      <th>0</th>\n",
              "      <td>1513</td>\n",
              "      <td>가도 남자들이랑 같이 샤워할수있을까</td>\n",
              "      <td>Scared</td>\n",
              "    </tr>\n",
              "    <tr>\n",
              "      <th>1</th>\n",
              "      <td>4049</td>\n",
              "      <td>제가 민감한건가요</td>\n",
              "      <td>Scared</td>\n",
              "    </tr>\n",
              "    <tr>\n",
              "      <th>2</th>\n",
              "      <td>5452</td>\n",
              "      <td>멘탈은 개복치 급 인지라 직장을 구하기가 힘드네요</td>\n",
              "      <td>Scared</td>\n",
              "    </tr>\n",
              "    <tr>\n",
              "      <th>3</th>\n",
              "      <td>2397</td>\n",
              "      <td>22일 오빠 생일이라 문자라도 할까 했는데 용기가 안나더라</td>\n",
              "      <td>Scared</td>\n",
              "    </tr>\n",
              "    <tr>\n",
              "      <th>4</th>\n",
              "      <td>4467</td>\n",
              "      <td>누가 봐도 향후 10년안에 전쟁일어난다</td>\n",
              "      <td>Scared</td>\n",
              "    </tr>\n",
              "  </tbody>\n",
              "</table>\n",
              "</div>"
            ],
            "text/plain": [
              "   Unnamed: 0                          Sentence Emotion\n",
              "0        1513              가도 남자들이랑 같이 샤워할수있을까   Scared\n",
              "1        4049                         제가 민감한건가요  Scared\n",
              "2        5452       멘탈은 개복치 급 인지라 직장을 구하기가 힘드네요  Scared\n",
              "3        2397  22일 오빠 생일이라 문자라도 할까 했는데 용기가 안나더라  Scared\n",
              "4        4467             누가 봐도 향후 10년안에 전쟁일어난다  Scared"
            ]
          },
          "metadata": {
            "tags": []
          },
          "execution_count": 3
        }
      ]
    },
    {
      "cell_type": "markdown",
      "metadata": {
        "id": "kEKVpS90AEG8",
        "colab_type": "text"
      },
      "source": [
        "Integrate training and validation set because we will conduct machine learning model using cross validation\n",
        "\n"
      ]
    },
    {
      "cell_type": "code",
      "metadata": {
        "id": "q62li9u7ZWf5",
        "colab_type": "code",
        "colab": {}
      },
      "source": [
        "#train = pd.concat([training,validation], axis = 0)\n",
        "train = training\n",
        "test = testing"
      ],
      "execution_count": 4,
      "outputs": []
    },
    {
      "cell_type": "markdown",
      "metadata": {
        "id": "x3HAwIc3mb1w",
        "colab_type": "text"
      },
      "source": [
        "## Tokenizing and Embedding\n",
        "Same with CNN model, we will use morphological analyzer 'KoNLpy' to divide sentences into morphology unit. \n",
        "<li> install koNLpy libarary\n",
        "<li> Morphological analysis using okt which is for SNS morphology analysis\n"
      ]
    },
    {
      "cell_type": "code",
      "metadata": {
        "id": "qRNQT3_Ar-Yg",
        "colab_type": "code",
        "colab": {
          "base_uri": "https://localhost:8080/",
          "height": 1000
        },
        "outputId": "e3d04b0c-bbd9-4f06-823e-4af6e5ff1170"
      },
      "source": [
        "# Install 형태소 anlyzer for analyzing Korean words in a sentence\n",
        "\n",
        "!apt-get update\n",
        "\n",
        "!apt-get install g++ openjdk-8-jdk python-dev python3-dev\n",
        "\n",
        "!pip3 install JPype1-py3\n",
        "\n",
        "!pip3 install konlpy\n",
        "\n",
        "!JAVA_HOME=\"/usr/lib/jvm/java-8-openjdk-amd64\""
      ],
      "execution_count": 5,
      "outputs": [
        {
          "output_type": "stream",
          "text": [
            "\r0% [Working]\r            \rGet:1 http://security.ubuntu.com/ubuntu bionic-security InRelease [88.7 kB]\n",
            "Ign:2 https://developer.download.nvidia.com/compute/cuda/repos/ubuntu1804/x86_64  InRelease\n",
            "Get:3 https://cloud.r-project.org/bin/linux/ubuntu bionic-cran35/ InRelease [3,626 B]\n",
            "Hit:4 http://ppa.launchpad.net/graphics-drivers/ppa/ubuntu bionic InRelease\n",
            "Hit:5 http://archive.ubuntu.com/ubuntu bionic InRelease\n",
            "Ign:6 https://developer.download.nvidia.com/compute/machine-learning/repos/ubuntu1804/x86_64  InRelease\n",
            "Get:7 https://developer.download.nvidia.com/compute/cuda/repos/ubuntu1804/x86_64  Release [697 B]\n",
            "Get:8 https://developer.download.nvidia.com/compute/machine-learning/repos/ubuntu1804/x86_64  Release [564 B]\n",
            "Get:9 https://developer.download.nvidia.com/compute/cuda/repos/ubuntu1804/x86_64  Release.gpg [801 B]\n",
            "Get:10 https://developer.download.nvidia.com/compute/machine-learning/repos/ubuntu1804/x86_64  Release.gpg [833 B]\n",
            "Get:11 http://archive.ubuntu.com/ubuntu bionic-updates InRelease [88.7 kB]\n",
            "Get:12 http://ppa.launchpad.net/marutter/c2d4u3.5/ubuntu bionic InRelease [15.4 kB]\n",
            "Get:13 http://archive.ubuntu.com/ubuntu bionic-backports InRelease [74.6 kB]\n",
            "Ign:14 https://developer.download.nvidia.com/compute/cuda/repos/ubuntu1804/x86_64  Packages\n",
            "Get:14 https://developer.download.nvidia.com/compute/cuda/repos/ubuntu1804/x86_64  Packages [151 kB]\n",
            "Get:15 https://developer.download.nvidia.com/compute/machine-learning/repos/ubuntu1804/x86_64  Packages [38.7 kB]\n",
            "Get:16 http://ppa.launchpad.net/marutter/c2d4u3.5/ubuntu bionic/main Sources [1,840 kB]\n",
            "Get:17 http://archive.ubuntu.com/ubuntu bionic-updates/universe amd64 Packages [1,397 kB]\n",
            "Get:18 http://archive.ubuntu.com/ubuntu bionic-updates/main amd64 Packages [1,253 kB]\n",
            "Get:19 http://ppa.launchpad.net/marutter/c2d4u3.5/ubuntu bionic/main amd64 Packages [887 kB]\n",
            "Fetched 5,841 kB in 3s (1,783 kB/s)\n",
            "Reading package lists... Done\n",
            "Reading package lists... Done\n",
            "Building dependency tree       \n",
            "Reading state information... Done\n",
            "python-dev is already the newest version (2.7.15~rc1-1).\n",
            "g++ is already the newest version (4:7.4.0-1ubuntu2.3).\n",
            "g++ set to manually installed.\n",
            "python3-dev is already the newest version (3.6.7-1~18.04).\n",
            "The following package was automatically installed and is no longer required:\n",
            "  libnvidia-common-440\n",
            "Use 'apt autoremove' to remove it.\n",
            "The following additional packages will be installed:\n",
            "  fonts-dejavu-core fonts-dejavu-extra libatk-wrapper-java\n",
            "  libatk-wrapper-java-jni libxxf86dga1 openjdk-8-jdk-headless openjdk-8-jre\n",
            "  openjdk-8-jre-headless x11-utils\n",
            "Suggested packages:\n",
            "  openjdk-8-demo openjdk-8-source visualvm icedtea-8-plugin libnss-mdns\n",
            "  fonts-ipafont-gothic fonts-ipafont-mincho fonts-wqy-microhei\n",
            "  fonts-wqy-zenhei fonts-indic mesa-utils\n",
            "The following NEW packages will be installed:\n",
            "  fonts-dejavu-core fonts-dejavu-extra libatk-wrapper-java\n",
            "  libatk-wrapper-java-jni libxxf86dga1 openjdk-8-jdk openjdk-8-jdk-headless\n",
            "  openjdk-8-jre openjdk-8-jre-headless x11-utils\n",
            "0 upgraded, 10 newly installed, 0 to remove and 49 not upgraded.\n",
            "Need to get 40.7 MB of archives.\n",
            "After this operation, 153 MB of additional disk space will be used.\n",
            "Get:1 http://archive.ubuntu.com/ubuntu bionic/main amd64 libxxf86dga1 amd64 2:1.1.4-1 [13.7 kB]\n",
            "Get:2 http://archive.ubuntu.com/ubuntu bionic/main amd64 fonts-dejavu-core all 2.37-1 [1,041 kB]\n",
            "Get:3 http://archive.ubuntu.com/ubuntu bionic/main amd64 fonts-dejavu-extra all 2.37-1 [1,953 kB]\n",
            "Get:4 http://archive.ubuntu.com/ubuntu bionic/main amd64 x11-utils amd64 7.7+3build1 [196 kB]\n",
            "Get:5 http://archive.ubuntu.com/ubuntu bionic/main amd64 libatk-wrapper-java all 0.33.3-20ubuntu0.1 [34.7 kB]\n",
            "Get:6 http://archive.ubuntu.com/ubuntu bionic/main amd64 libatk-wrapper-java-jni amd64 0.33.3-20ubuntu0.1 [28.3 kB]\n",
            "Get:7 http://archive.ubuntu.com/ubuntu bionic-updates/universe amd64 openjdk-8-jre-headless amd64 8u252-b09-1~18.04 [27.5 MB]\n",
            "Get:8 http://archive.ubuntu.com/ubuntu bionic-updates/universe amd64 openjdk-8-jre amd64 8u252-b09-1~18.04 [69.8 kB]\n",
            "Get:9 http://archive.ubuntu.com/ubuntu bionic-updates/universe amd64 openjdk-8-jdk-headless amd64 8u252-b09-1~18.04 [8,250 kB]\n",
            "Get:10 http://archive.ubuntu.com/ubuntu bionic-updates/universe amd64 openjdk-8-jdk amd64 8u252-b09-1~18.04 [1,622 kB]\n",
            "Fetched 40.7 MB in 2s (20.3 MB/s)\n",
            "Selecting previously unselected package libxxf86dga1:amd64.\n",
            "(Reading database ... 144328 files and directories currently installed.)\n",
            "Preparing to unpack .../0-libxxf86dga1_2%3a1.1.4-1_amd64.deb ...\n",
            "Unpacking libxxf86dga1:amd64 (2:1.1.4-1) ...\n",
            "Selecting previously unselected package fonts-dejavu-core.\n",
            "Preparing to unpack .../1-fonts-dejavu-core_2.37-1_all.deb ...\n",
            "Unpacking fonts-dejavu-core (2.37-1) ...\n",
            "Selecting previously unselected package fonts-dejavu-extra.\n",
            "Preparing to unpack .../2-fonts-dejavu-extra_2.37-1_all.deb ...\n",
            "Unpacking fonts-dejavu-extra (2.37-1) ...\n",
            "Selecting previously unselected package x11-utils.\n",
            "Preparing to unpack .../3-x11-utils_7.7+3build1_amd64.deb ...\n",
            "Unpacking x11-utils (7.7+3build1) ...\n",
            "Selecting previously unselected package libatk-wrapper-java.\n",
            "Preparing to unpack .../4-libatk-wrapper-java_0.33.3-20ubuntu0.1_all.deb ...\n",
            "Unpacking libatk-wrapper-java (0.33.3-20ubuntu0.1) ...\n",
            "Selecting previously unselected package libatk-wrapper-java-jni:amd64.\n",
            "Preparing to unpack .../5-libatk-wrapper-java-jni_0.33.3-20ubuntu0.1_amd64.deb ...\n",
            "Unpacking libatk-wrapper-java-jni:amd64 (0.33.3-20ubuntu0.1) ...\n",
            "Selecting previously unselected package openjdk-8-jre-headless:amd64.\n",
            "Preparing to unpack .../6-openjdk-8-jre-headless_8u252-b09-1~18.04_amd64.deb ...\n",
            "Unpacking openjdk-8-jre-headless:amd64 (8u252-b09-1~18.04) ...\n",
            "Selecting previously unselected package openjdk-8-jre:amd64.\n",
            "Preparing to unpack .../7-openjdk-8-jre_8u252-b09-1~18.04_amd64.deb ...\n",
            "Unpacking openjdk-8-jre:amd64 (8u252-b09-1~18.04) ...\n",
            "Selecting previously unselected package openjdk-8-jdk-headless:amd64.\n",
            "Preparing to unpack .../8-openjdk-8-jdk-headless_8u252-b09-1~18.04_amd64.deb ...\n",
            "Unpacking openjdk-8-jdk-headless:amd64 (8u252-b09-1~18.04) ...\n",
            "Selecting previously unselected package openjdk-8-jdk:amd64.\n",
            "Preparing to unpack .../9-openjdk-8-jdk_8u252-b09-1~18.04_amd64.deb ...\n",
            "Unpacking openjdk-8-jdk:amd64 (8u252-b09-1~18.04) ...\n",
            "Setting up fonts-dejavu-core (2.37-1) ...\n",
            "Setting up libxxf86dga1:amd64 (2:1.1.4-1) ...\n",
            "Setting up fonts-dejavu-extra (2.37-1) ...\n",
            "Setting up openjdk-8-jre-headless:amd64 (8u252-b09-1~18.04) ...\n",
            "update-alternatives: using /usr/lib/jvm/java-8-openjdk-amd64/jre/bin/orbd to provide /usr/bin/orbd (orbd) in auto mode\n",
            "update-alternatives: using /usr/lib/jvm/java-8-openjdk-amd64/jre/bin/servertool to provide /usr/bin/servertool (servertool) in auto mode\n",
            "update-alternatives: using /usr/lib/jvm/java-8-openjdk-amd64/jre/bin/tnameserv to provide /usr/bin/tnameserv (tnameserv) in auto mode\n",
            "Setting up openjdk-8-jdk-headless:amd64 (8u252-b09-1~18.04) ...\n",
            "update-alternatives: using /usr/lib/jvm/java-8-openjdk-amd64/bin/idlj to provide /usr/bin/idlj (idlj) in auto mode\n",
            "update-alternatives: using /usr/lib/jvm/java-8-openjdk-amd64/bin/wsimport to provide /usr/bin/wsimport (wsimport) in auto mode\n",
            "update-alternatives: using /usr/lib/jvm/java-8-openjdk-amd64/bin/jsadebugd to provide /usr/bin/jsadebugd (jsadebugd) in auto mode\n",
            "update-alternatives: using /usr/lib/jvm/java-8-openjdk-amd64/bin/native2ascii to provide /usr/bin/native2ascii (native2ascii) in auto mode\n",
            "update-alternatives: using /usr/lib/jvm/java-8-openjdk-amd64/bin/javah to provide /usr/bin/javah (javah) in auto mode\n",
            "update-alternatives: using /usr/lib/jvm/java-8-openjdk-amd64/bin/clhsdb to provide /usr/bin/clhsdb (clhsdb) in auto mode\n",
            "update-alternatives: using /usr/lib/jvm/java-8-openjdk-amd64/bin/extcheck to provide /usr/bin/extcheck (extcheck) in auto mode\n",
            "update-alternatives: using /usr/lib/jvm/java-8-openjdk-amd64/bin/hsdb to provide /usr/bin/hsdb (hsdb) in auto mode\n",
            "update-alternatives: using /usr/lib/jvm/java-8-openjdk-amd64/bin/schemagen to provide /usr/bin/schemagen (schemagen) in auto mode\n",
            "update-alternatives: using /usr/lib/jvm/java-8-openjdk-amd64/bin/xjc to provide /usr/bin/xjc (xjc) in auto mode\n",
            "update-alternatives: using /usr/lib/jvm/java-8-openjdk-amd64/bin/jhat to provide /usr/bin/jhat (jhat) in auto mode\n",
            "update-alternatives: using /usr/lib/jvm/java-8-openjdk-amd64/bin/wsgen to provide /usr/bin/wsgen (wsgen) in auto mode\n",
            "Setting up x11-utils (7.7+3build1) ...\n",
            "Setting up libatk-wrapper-java (0.33.3-20ubuntu0.1) ...\n",
            "Setting up libatk-wrapper-java-jni:amd64 (0.33.3-20ubuntu0.1) ...\n",
            "Setting up openjdk-8-jre:amd64 (8u252-b09-1~18.04) ...\n",
            "update-alternatives: using /usr/lib/jvm/java-8-openjdk-amd64/jre/bin/policytool to provide /usr/bin/policytool (policytool) in auto mode\n",
            "Setting up openjdk-8-jdk:amd64 (8u252-b09-1~18.04) ...\n",
            "update-alternatives: using /usr/lib/jvm/java-8-openjdk-amd64/bin/appletviewer to provide /usr/bin/appletviewer (appletviewer) in auto mode\n",
            "update-alternatives: using /usr/lib/jvm/java-8-openjdk-amd64/bin/jconsole to provide /usr/bin/jconsole (jconsole) in auto mode\n",
            "Processing triggers for man-db (2.8.3-2ubuntu0.1) ...\n",
            "Processing triggers for hicolor-icon-theme (0.17-2) ...\n",
            "Processing triggers for fontconfig (2.12.6-0ubuntu2) ...\n",
            "Processing triggers for mime-support (3.60ubuntu1) ...\n",
            "Processing triggers for libc-bin (2.27-3ubuntu1) ...\n",
            "/sbin/ldconfig.real: /usr/local/lib/python3.6/dist-packages/ideep4py/lib/libmkldnn.so.0 is not a symbolic link\n",
            "\n",
            "Collecting JPype1-py3\n",
            "\u001b[?25l  Downloading https://files.pythonhosted.org/packages/9b/81/63f5e4202c598f362ee4684b41890f993d6e58309c5d90703f570ab85f62/JPype1-py3-0.5.5.4.tar.gz (88kB)\n",
            "\u001b[K     |████████████████████████████████| 92kB 2.3MB/s \n",
            "\u001b[?25hBuilding wheels for collected packages: JPype1-py3\n",
            "  Building wheel for JPype1-py3 (setup.py) ... \u001b[?25l\u001b[?25hdone\n",
            "  Created wheel for JPype1-py3: filename=JPype1_py3-0.5.5.4-cp36-cp36m-linux_x86_64.whl size=2660660 sha256=d42e7057b78e7eb0987d1233f2f24a1f132cecbb48f711874aa52e703f182397\n",
            "  Stored in directory: /root/.cache/pip/wheels/52/37/1f/1015d908d12a0e9b239543d031fda0cded9823aa1306939541\n",
            "Successfully built JPype1-py3\n",
            "Installing collected packages: JPype1-py3\n",
            "Successfully installed JPype1-py3-0.5.5.4\n",
            "Collecting konlpy\n",
            "\u001b[?25l  Downloading https://files.pythonhosted.org/packages/85/0e/f385566fec837c0b83f216b2da65db9997b35dd675e107752005b7d392b1/konlpy-0.5.2-py2.py3-none-any.whl (19.4MB)\n",
            "\u001b[K     |████████████████████████████████| 19.4MB 1.4MB/s \n",
            "\u001b[?25hRequirement already satisfied: lxml>=4.1.0 in /usr/local/lib/python3.6/dist-packages (from konlpy) (4.2.6)\n",
            "Collecting colorama\n",
            "  Downloading https://files.pythonhosted.org/packages/c9/dc/45cdef1b4d119eb96316b3117e6d5708a08029992b2fee2c143c7a0a5cc5/colorama-0.4.3-py2.py3-none-any.whl\n",
            "Collecting tweepy>=3.7.0\n",
            "  Downloading https://files.pythonhosted.org/packages/36/1b/2bd38043d22ade352fc3d3902cf30ce0e2f4bf285be3b304a2782a767aec/tweepy-3.8.0-py2.py3-none-any.whl\n",
            "Collecting JPype1>=0.7.0\n",
            "\u001b[?25l  Downloading https://files.pythonhosted.org/packages/2d/9b/e115101a833605b3c0e6f3a2bc1f285c95aaa1d93ab808314ca1bde63eed/JPype1-0.7.5-cp36-cp36m-manylinux2010_x86_64.whl (3.6MB)\n",
            "\u001b[K     |████████████████████████████████| 3.6MB 43.8MB/s \n",
            "\u001b[?25hRequirement already satisfied: numpy>=1.6 in /usr/local/lib/python3.6/dist-packages (from konlpy) (1.18.5)\n",
            "Collecting beautifulsoup4==4.6.0\n",
            "\u001b[?25l  Downloading https://files.pythonhosted.org/packages/9e/d4/10f46e5cfac773e22707237bfcd51bbffeaf0a576b0a847ec7ab15bd7ace/beautifulsoup4-4.6.0-py3-none-any.whl (86kB)\n",
            "\u001b[K     |████████████████████████████████| 92kB 10.2MB/s \n",
            "\u001b[?25hRequirement already satisfied: requests>=2.11.1 in /usr/local/lib/python3.6/dist-packages (from tweepy>=3.7.0->konlpy) (2.23.0)\n",
            "Requirement already satisfied: six>=1.10.0 in /usr/local/lib/python3.6/dist-packages (from tweepy>=3.7.0->konlpy) (1.12.0)\n",
            "Requirement already satisfied: requests-oauthlib>=0.7.0 in /usr/local/lib/python3.6/dist-packages (from tweepy>=3.7.0->konlpy) (1.3.0)\n",
            "Requirement already satisfied: PySocks>=1.5.7 in /usr/local/lib/python3.6/dist-packages (from tweepy>=3.7.0->konlpy) (1.7.1)\n",
            "Requirement already satisfied: certifi>=2017.4.17 in /usr/local/lib/python3.6/dist-packages (from requests>=2.11.1->tweepy>=3.7.0->konlpy) (2020.4.5.2)\n",
            "Requirement already satisfied: chardet<4,>=3.0.2 in /usr/local/lib/python3.6/dist-packages (from requests>=2.11.1->tweepy>=3.7.0->konlpy) (3.0.4)\n",
            "Requirement already satisfied: urllib3!=1.25.0,!=1.25.1,<1.26,>=1.21.1 in /usr/local/lib/python3.6/dist-packages (from requests>=2.11.1->tweepy>=3.7.0->konlpy) (1.24.3)\n",
            "Requirement already satisfied: idna<3,>=2.5 in /usr/local/lib/python3.6/dist-packages (from requests>=2.11.1->tweepy>=3.7.0->konlpy) (2.9)\n",
            "Requirement already satisfied: oauthlib>=3.0.0 in /usr/local/lib/python3.6/dist-packages (from requests-oauthlib>=0.7.0->tweepy>=3.7.0->konlpy) (3.1.0)\n",
            "Installing collected packages: colorama, tweepy, JPype1, beautifulsoup4, konlpy\n",
            "  Found existing installation: tweepy 3.6.0\n",
            "    Uninstalling tweepy-3.6.0:\n",
            "      Successfully uninstalled tweepy-3.6.0\n",
            "  Found existing installation: beautifulsoup4 4.6.3\n",
            "    Uninstalling beautifulsoup4-4.6.3:\n",
            "      Successfully uninstalled beautifulsoup4-4.6.3\n",
            "Successfully installed JPype1-0.7.5 beautifulsoup4-4.6.0 colorama-0.4.3 konlpy-0.5.2 tweepy-3.8.0\n"
          ],
          "name": "stdout"
        }
      ]
    },
    {
      "cell_type": "markdown",
      "metadata": {
        "id": "HUB2g4rDNF18",
        "colab_type": "text"
      },
      "source": [
        "## Embedding sentiment\n",
        "Using `LabelEncoder()`, make Emotion term which will be used as target vectorized."
      ]
    },
    {
      "cell_type": "code",
      "metadata": {
        "id": "Xxwfwinvt_oW",
        "colab_type": "code",
        "colab": {}
      },
      "source": [
        "from sklearn.preprocessing import LabelEncoder\n",
        "\n",
        "Encoder = LabelEncoder()\n",
        "Train_Y = Encoder.fit_transform(train.Emotion)\n",
        "Test_Y = Encoder.fit_transform(test.Emotion)"
      ],
      "execution_count": 7,
      "outputs": []
    },
    {
      "cell_type": "markdown",
      "metadata": {
        "id": "ia470z6DOciZ",
        "colab_type": "text"
      },
      "source": [
        "## Tokenization with morphological analyzer & word embedding for Sentence\n",
        "Same with CNN model, we will use `Okt()` for morphological analyzer and set stopword to be removed from sentence.\n",
        "\n",
        "Then, make word dictionary which can change words to the vector using `TfidfVectorizer`. By fitting the whole data, we can give each words a vector. \n",
        "\n",
        "Then, transform Sentence data of training and testing using this word dictionary."
      ]
    },
    {
      "cell_type": "code",
      "metadata": {
        "id": "Wk3FZDZDt1Du",
        "colab_type": "code",
        "colab": {
          "base_uri": "https://localhost:8080/",
          "height": 122
        },
        "outputId": "40dde901-1bd6-4728-c146-e8c5c876797f"
      },
      "source": [
        "# morphological analizer for SNS envirionment\n",
        "from konlpy.tag import Okt\n",
        "from sklearn.feature_extraction.text import TfidfVectorizer\n",
        "'''\n",
        "Tokenizing and vectorizing the words(embedding)\n",
        "Using Korean tokenizer Okt, tokenize the sentence and erase stop words\n",
        "'''\n",
        "\n",
        "\n",
        "Okt = Okt()\n",
        "tokenize = lambda x: Okt.morphs(x, norm = True, stem = True)\n",
        "stopword = set(['은','는','이','가','것','거','의','을','를','와','야','께','바'])\n",
        "Tfidf_vect = TfidfVectorizer(max_features=5000, tokenizer = tokenize, stop_words = stopword) # word dictionary which can change words to the vector\n",
        "Tfidf_vect.fit(data['Sentence'])\n",
        "\n",
        "print(Tfidf_vect.vocabulary_) # Check if there are appropriate word vectors"
      ],
      "execution_count": 8,
      "outputs": [
        {
          "output_type": "stream",
          "text": [
            "/usr/local/lib/python3.6/dist-packages/sklearn/feature_extraction/text.py:507: UserWarning: The parameter 'token_pattern' will not be used since 'tokenizer' is not None'\n",
            "  warnings.warn(\"The parameter 'token_pattern' will not be used\"\n",
            "/usr/local/lib/python3.6/dist-packages/sklearn/feature_extraction/text.py:385: UserWarning: Your stop_words may be inconsistent with your preprocessing. Tokenizing the stop words generated tokens ['가다', '늘다', '오다'] not in stop_words.\n",
            "  'stop_words.' % sorted(inconsistent))\n"
          ],
          "name": "stderr"
        },
        {
          "output_type": "stream",
          "text": [
            "{'언니': 2934, '동생': 1270, '으로': 3328, '부르다': 2062, '맞다': 1570, '일': 3549, '인가요': 3506, '그냥': 612, '내': 887, '느낌': 1003, '뿐': 2201, '겠다': 357, '아직': 2778, '너무': 914, '초기': 4289, '라서': 1421, '그런': 630, '죠': 3956, '유치원': 3314, '버스': 1941, '사고': 2207, '낫다': 882, '근데': 656, '원래': 3258, '이렇다': 3417, '남자친구': 877, '떠나다': 1374, '요': 3198, '하다': 4698, '허리': 4828, '아프다': 2783, '있다': 3604, '불안하다': 2115, '꾸다': 807, '끄다': 814, '일주일': 3578, '도': 1216, '안': 2793, '남다': 873, '약': 2865, '먹다': 1601, '좋다': 3945, '0': 0, '활동': 4930, '시간': 2568, '뭘': 1772, '로': 1449, '되다': 1281, '괜찮다': 513, '분': 2087, '같다': 271, '괜히': 514, '조급하다': 3884, '제': 3851, '스타일': 2550, '바꾸다': 1823, '더': 1186, '어색하다': 2906, '변하다': 1982, '아내': 2739, '여자': 3025, '술집': 2524, '가면': 178, '법': 1963, '적': 3761, '문제': 1746, '들다': 1326, '도와주다': 1233, '없다': 2960, '학업': 4724, '에': 2971, '관련': 502, '된거': 1283, '듣다': 1323, '가격': 153, '질': 4116, '다른': 1030, '건가': 323, '마지막': 1505, '말씀': 1554, '드리다': 1315, '글': 664, '이제': 3483, '내리다': 894, '의도': 3354, '치': 4371, '않다': 2821, '실시간': 2657, '베스트': 1975, '올라가다': 3155, '남친': 878, '보다': 2003, '회사': 4940, '다': 1021, '젊다': 3801, '들': 1325, '많다': 1544, '걱정': 320, '이네': 3383, '몸무게': 1697, '1': 1, '키': 4459, '찌다': 4177, '아니다': 2740, '자': 3608, '다리': 1033, '많이': 1546, '심하다': 2680, '나다': 839, '그': 603, '정도': 3816, '더럽다': 1188, '보통': 2029, '가다': 164, '이렇게': 3416, '오래': 3125, '가나': 159, '서': 2348, '먼저': 1607, '전화하다': 3796, '짜증나다': 4148, '크다': 4450, '무슨': 1725, '증상': 4041, '다르다': 1029, '이다': 3387, '아무래도': 2749, '무리다': 1719, '애인': 2849, '으로써': 3333, '정말': 3818, '이르다': 3421, '주': 3957, '일전': 3575, '나오다': 851, '모르다': 1666, '고민': 426, '예민하다': 3101, '상태': 2313, '에요': 2993, '못': 1698, '받다': 1877, '어떻': 2892, '게': 347, '하': 4687, '어울리다': 2909, '그게': 608, '일수': 3568, '곧': 453, '내년': 889, '이면': 3426, '22': 53, '살인': 2280, '요즘': 3204, '방법': 1904, '뭐': 1767, '집': 4124, '오다': 3122, '또': 1385, '운동': 3233, '지난': 4055, '3': 66, '주의': 3983, '노력': 943, '물': 1753, '거품': 319, '옳다': 3162, '선택': 2382, '인지': 3539, '8월': 108, '둘째': 1295, '태어나다': 4494, '마음': 1498, '엄마': 2948, '한테': 4756, '늘다': 1007, '친구': 4385, '랑': 1430, '들키다': 1334, '구글': 534, '폰': 4645, '어쩌': 2915, '빼다': 2185, '물다': 1757, '그러나': 626, '찾아가다': 4228, '들어가다': 1329, '가요': 189, '알다': 2823, '어디': 2886, '다가': 1022, '짱': 4153, '박다': 1842, '첫날': 4271, '왠지': 3183, '리': 1470, '기분': 709, '딱': 1357, '뒤': 1300, '군대': 575, '검색': 338, '해보다': 4793, '행동': 4816, '가져오다': 196, '아': 2732, '어떻다': 2893, '혼자': 4892, '웃다': 3249, '울': 3239, '인가': 3505, '싶다': 2686, '두': 1285, '해': 4781, '여': 3007, '연락': 3052, '주신': 3979, '대다': 1124, '지금': 4049, '미치다': 1799, '오늘': 3120, '사진': 2257, '안좋다': 2811, '나': 833, '전달': 3774, '퇴근': 4538, '20분': 50, '근육': 661, '붙다': 2122, '자다': 3621, '어깨': 2883, '때문': 1368, '예정일': 3115, '보름': 2009, '이나': 3380, '지나다': 4053, '생리': 2335, '안해': 2818, '시험': 2610, '5': 87, '한': 4727, '개도': 281, '끝내다': 825, '앞': 2836, '남자': 876, '편이': 4613, '되어다': 1282, '의문': 3357, '저': 3739, '떨어지다': 1381, '어휴': 2927, '처리': 4246, '20': 43, '초반': 4292, '인데': 3517, '혹시': 4888, '확률': 4914, '미래': 1784, '30': 67, '40': 81, '그렇다': 633, '부탁드리다': 2077, '믿다': 1814, '건지다': 329, '애기': 2844, '화가': 4901, '나서다': 849, '걸다': 332, '300': 68, '말다': 1550, '여자친구': 3028, '오빠': 3136, '2': 42, '명': 1645, '긴장': 739, '어른': 2895, '변': 1978, '아이': 2767, '분유': 2095, '시키다': 2606, '구': 532, '네': 929, '좀': 3929, '보내다': 2002, '눈치': 997, '보이지': 2021, '종아리': 3940, '두껍다': 1286, '막': 1510, '출산': 4347, '경험': 395, '신분': 2635, '흐르다': 4969, '땐': 1369, '말': 1547, '기도': 696, '하고': 4688, '주위': 3982, '에서': 2985, '세상': 2429, '몸': 1694, '쓰다': 2715, '담다': 1090, '다시다': 1038, '나타나다': 855, '알바': 2826, '자체': 3651, '처음': 4249, '이라': 3401, '저녁': 3744, '늦다': 1015, '치다': 4376, '흔들리다': 4975, '느끼다': 1002, '돼다': 1278, '애': 2840, '진짜': 4113, '키우다': 4464, '모': 1659, '기': 683, '안전하다': 2809, '옥': 3150, '시': 2567, '의심': 3361, '노트': 954, '7': 100, '사람': 2219, '불안': 2114, '점점': 3807, '추워지다': 4333, '중국': 4016, '한반도': 4742, '자꾸': 3618, '이러다가': 3414, '멸망하다': 1643, '현상': 4859, '심해지다': 2682, '걸': 331, '이슬람': 3452, '계': 396, '절대': 3798, '새끼': 2318, '낳다': 886, '젤': 3875, '나라': 841, '명예': 1650, '해달라다': 4785, '국제': 571, '소송': 2454, '저렇게': 3749, '만지다': 1538, '저러다': 3747, '배달': 1921, '거의': 311, '용다': 3211, '특히': 4559, '분야': 2093, '효과': 4945, '실패하다': 2666, '가능성': 162, '높다': 970, '지다': 4061, '4': 80, '차원': 4202, '무섭다': 1724, '대신': 1146, '엄청': 2952, '높아지다': 971, '우리': 3220, '떨리다': 1379, '주다': 3963, '도하': 1238, '미국': 1779, '시민': 2583, '살': 2269, '여기다': 3010, '필리핀': 4680, '죽': 3996, '각오': 207, '파': 4569, '선발': 2373, '진': 4102, '여전하다': 3029, '우리나라': 3221, '인': 3504, '거지': 314, '금지': 676, '개다': 280, '폭탄': 4642, '고': 408, '속': 2461, '충전': 4361, '면': 1634, '뜨겁다': 1400, '뭔': 1770, '가지': 198, '타다': 4469, '테러범': 4512, '몰리다': 1689, '시리아': 2581, '보고': 1998, '생': 2330, '초보': 4293, '라': 1408, '준비': 4004, '줄어들다': 4008, '갑자기': 248, '진심': 4108, '불': 2097, '날다': 862, '꼴다': 798, '만약': 1530, '하나': 4691, '라도': 1414, '지구': 4048, '변화': 1986, '따르다': 1353, '거리': 309, '다니다': 1027, '100': 3, '이상': 3443, '위험하다': 3283, '삼성': 2291, '앞날': 2837, '또한': 1388, '번': 1946, '사태': 2259, '수비': 2497, '뚫다': 1396, '월드컵': 3267, '잘': 3672, '태풍': 4497, '울산': 3242, '처럼': 4245, '기계': 686, '지배': 4071, '날': 860, '얼마': 2946, '안남다': 2798, '외계인': 3185, '와이프': 3171, '저리': 3751, '보구': 1999, '누가': 980, '살다': 2271, '만에': 1531, '지원': 4079, '끊다': 817, '차': 4186, '도로': 1225, '범죄': 1961, '일어나다': 3569, '설날': 2387, '때': 1365, '손님': 2470, '염': 3077, '나이': 852, '만': 1518, '결혼': 374, '죽다': 3998, '중': 4012, '상위': 2307, '권': 588, '성적': 2413, '그날': 611, '해도': 4788, '유지': 3309, '한번': 4743, '먹이다': 1604, '조금': 3882, '공기업': 469, '살이': 2279, '항상': 4779, '아빠': 2757, '이해': 3499, '해주다': 4803, '곳': 459, '세븐': 2428, '어리다': 2896, '신청': 2646, '힘들다': 4998, '평소': 4622, '관리': 503, '나아지다': 850, '놓다': 972, '언제': 2937, '까지': 771, '기다리다': 692, '저만': 3752, '상처': 2310, '휴가': 4964, '놀다': 961, '전화': 3795, 'v': 146, '감다': 232, '경우': 385, '안주': 2812, '좋아지다': 3946, '대처': 1159, '부탁': 2076, '이에요': 3464, '프사': 4665, '바람': 1829, '피다': 4670, '중간': 4013, '차별': 4199, '주도': 3964, '벌써': 1957, '부터': 2078, '다시': 1037, '시작': 2597, '막막하다': 1512, '열다': 3071, '내일': 901, '기록': 700, '남': 869, '돈': 1247, '놈': 967, '빨갛다': 2178, '점': 3803, '난': 856, '아무': 2747, '정보': 3820, '쉬다': 2530, '가끔': 158, '동영상': 1275, '찍다': 4182, '4년': 83, '대학': 1168, '만으로': 1533, '취직': 4365, '부담': 2055, '입사': 3599, '혈압': 4866, '맘': 1559, '이런': 3415, '물어보다': 1762, '피부': 4672, '과를': 490, '가보다': 183, '아가': 2733, '자연': 3641, '불법': 2111, '몰래': 1687, '피우다': 4674, '벗어나다': 1971, '헤어지다': 4844, '생각': 2331, '연애': 3061, '늘': 1006, '조마조마하다': 3887, '크게': 4448, '다치다': 1045, '어제': 2912, '토요일': 4520, '새벽': 2323, '관계': 499, '안심': 2806, '하루하루': 4703, '안고': 2795, '사다': 2214, '등': 1338, '털': 4506, '나기': 836, '뒷': 1305, '통수': 4529, '이어지다': 3462, '어찌': 2923, '왜': 3180, '지면': 4069, '개': 274, '망신': 1566, '이야': 3458, '인간': 3507, '영상': 3084, '누군가': 982, '그걸': 606, '전여친': 3786, '상황': 2316, '끔찍하다': 822, '기상캐스터': 716, '수준': 2512, '레알': 1443, '눈': 991, '대고': 1115, '동안': 1273, '주소': 3976, '아직도': 2779, '모름': 1667, '인사': 3525, '쓴다': 2722, '크기': 4449, '작다': 3658, '승마': 2563, '장난': 3703, '쟤': 3738, '웃기': 3247, '결과': 365, '얻다': 2941, '계속': 400, '투표': 4546, '기세': 718, '왠': 3182, '승부': 2564, '교도소': 522, '대장': 1153, '버리다': 1940, '어이없다': 2911, '어이': 2910, '아들': 2741, '비싸다': 2147, '연봉': 3054, '차태현': 4208, '알': 2822, '소리': 2448, '만들다': 1526, '줌': 4010, '사과': 2208, '의원': 3365, '실수': 2656, '반': 1864, '대': 1110, '방향': 1917, '흥민': 4983, '원': 3254, '톱': 4524, '제발': 3858, '만은': 1535, '배터리': 1928, '터지다': 4503, '원인': 3261, '지': 4044, '물론': 1759, '시즌': 2601, '예상': 3106, '스': 2537, '나름': 843, '대로': 1130, '나가다': 834, '칠': 4392, '겨': 358, '저런': 3748, '과': 487, '친하다': 4391, '지내다': 4057, '더불다': 1190, '민주당': 1810, '헉': 4834, '베': 1972, '본인': 2040, '충격': 4358, '줄': 4005, '대단하다': 1126, '예전': 3113, '짱꼴라': 4156, '맨유': 1593, '동료': 1265, '가장': 193, '평가': 4618, '선수': 2377, '누구': 981, '루니': 1464, '박지성': 1856, '냐': 910, '노인': 950, '차다': 4191, '기아': 721, '대권': 1119, '멀다': 1609, '떳떳하다': 1382, '이리': 3424, 'ooo': 136, '떨다': 1378, '발': 1879, '모습': 1668, '받아들이다': 1878, '여성부': 3020, '예산': 3105, '대놓고': 1123, '싸우다': 2690, '약하다': 2871, '걸리다': 334, '싸': 2687, '그리다': 639, '취소': 4363, '공중파': 482, '시청률': 2603, '잘나오다': 3675, '시도': 2579, '없이': 2963, '직업': 4095, '불문': 2110, '넣다': 928, '오로지': 3130, '자질': 3650, '감독': 234, '탓': 4485, '오지': 3142, '첨': 4269, '이름': 3423, '값': 250, '제대로': 3854, '순': 2517, '실': 2648, '그건': 605, '바보': 1833, '서울': 2361, '참나': 4216, '라니': 1413, '막히다': 1517, '빛': 2167, '켜': 4430, '두다': 1287, '역대': 3037, '급': 677, '실력': 2651, '비다': 2135, '클럽': 4456, '맨': 1590, '하나로': 4694, '포장': 4633, '얘': 2879, '훨씬': 4961, '압도': 2832, '담배': 1091, '중독': 4020, '성도': 2405, '치면': 4380, '당하다': 1106, '프로': 4661, '점수': 3805, '장관': 3701, '직': 4093, '똥': 1394, '줍다': 4011, '장애인': 3711, '둘': 1293, '대화': 1177, '보단': 2006, '넘기다': 923, '오': 3118, '죽이다': 4001, '건': 322, '안되다': 2803, '억지': 2930, '한국': 4731, '좌좀': 3949, '손': 2468, '박근혜': 1841, '작전': 3663, '이냐': 3382, '기대': 693, '작품': 3665, '가가': 151, '금액': 672, '유로': 3294, '배': 1918, '기사': 712, '내용': 900, '밖에': 1863, '내다': 891, '깡패': 783, '따로': 1352, '경기': 379, '최고': 4307, '수치': 2515, '비행기': 2159, '상': 2294, '보아': 2016, '연기': 3049, '출발': 4346, '대표': 1166, '공항': 485, '기자': 728, '님': 1019, '멕시코': 1627, '어': 2881, '라고': 1410, '50': 88, '평생': 4621, '일반': 3557, '인들': 3519, '서류': 2354, '오라': 3123, '찍': 4181, '부상': 2069, '당': 1098, '표정': 4650, '축제': 4342, '분위기': 2094, '차우찬': 4201, '황재균': 4936, '중국산': 4017, '얘기': 2880, '솔직하다': 2481, '어렵다': 2894, '전라도': 3776, '욕': 3205, '시위': 2596, '별': 1987, '세': 2417, '기업': 725, '부자': 2072, '쏘다': 2707, '에도': 2982, '소설': 2452, '이라고': 3402, '벌금': 1953, '따다': 1348, '진정하다': 4111, '뜬금': 1402, '포': 4628, '황당하다': 4935, '기획': 736, '완전': 3175, '올': 3154, '겨울': 360, '추다': 4326, '아침': 2781, '경영': 384, '우려': 3218, '불구속': 2102, '국회의원': 573, '출석': 4348, '자백': 3632, '강요': 260, '비교': 2133, '이랑': 3408, '음': 3342, '담기다': 1089, '책': 4237, '이고': 3371, '수': 2487, '존재': 3921, '가볍다': 181, '움': 3244, '증거': 4038, '일본': 3562, '입장': 3600, '에서도': 2987, '만하': 1540, '스마트폰': 2543, '화면': 4903, '위': 3271, 'kt': 131, '바뀌다': 1824, '정부': 3821, '관계자': 500, '마치': 1507, '연': 3045, '예': 3099, '대상': 1143, '무한도전': 1736, '그러면': 629, '즐라탄': 4036, 'sbs': 140, '런가': 1439, '엥': 3006, '여기': 3009, '네이버': 930, '뉴스': 999, '목소리': 1681, '넘다': 924, '수지': 2513, '저렇다': 3750, '나쁘다': 848, '논란': 959, '게임': 354, '인거': 3508, '여러': 3012, '카페': 4404, '삭제': 2264, '도안': 1232, '당장': 1105, '저희': 3760, '부모님': 2065, '말씀드리다': 1555, '보험': 2030, '기간': 685, '그렇다고': 634, '매달리다': 1580, '적도': 3765, '궁금하다': 587, '여성': 3019, '스럽다': 2542, '바로': 1830, '하나요': 4695, '일요일': 3571, '맨날': 1591, '지워지다': 4078, '대해': 1173, '월급': 3265, '오전': 3139, '끝나다': 824, '현실': 4860, '증': 4037, '너': 913, '실컷': 2664, '식구': 2614, '주말': 3968, '빠르다': 2170, '슈': 2533, '데': 1206, '학교': 4719, '가야': 188, '용': 3209, '어느': 2884, '써다': 2701, '뜻': 1406, '정상': 3822, '이상하다': 3445, '달라': 1073, '김제동': 761, '세월': 2431, '아이돌': 2769, '빠': 2169, '드': 1307, '잠': 3684, '어떤': 2891, '식': 2612, '천국': 4254, '개념': 279, '초등학교': 4290, '6': 96, '학년': 4720, '서다': 2349, '소문': 2449, '라는': 1412, '이야기': 3459, '자주': 3648, '심리': 2674, '도대체': 1221, '뭔가': 1771, '사장': 2252, '불다': 2104, '혼': 4889, '꽃': 803, '단': 1053, '마무리': 1493, '쥐': 4028, '함': 4768, '군인': 579, '제대': 3853, '바지': 1836, '가운데': 190, '애매하다': 2846, '성': 2399, '넘치다': 927, '딸': 1361, '선생님': 2376, '자기': 3617, '쳐다보다': 4287, '싫어하다': 2670, '짧다': 4152, '입다': 3596, '감정': 243, '빨리': 2182, '잊다': 3606, '제목': 3857, '그대로': 619, '에게': 2973, '생기': 2333, '고르다': 421, '예요': 3111, '만해': 1541, '햇': 4814, '추천': 4336, '뜨다': 1401, '당황': 1108, '안녕하다': 2801, '몰다': 1686, '순간': 2518, '심심하다': 2675, '애가': 2841, '상대방': 2301, '대체': 1160, '거기': 302, '면회': 1640, '데이트': 1213, '이라서': 3406, '덕': 1195, '좋아하다': 3947, '까지도': 773, '막상': 1514, '니까': 1017, '번호': 1951, '아버지': 2754, '신지': 2644, '의미': 3358, '수도': 2491, '기대하다': 695, '이번': 3434, '방학': 1915, '토스': 4519, '흠': 4979, '뭐라다': 1768, '편지': 4614, '걔': 300, '카메라': 4402, '씩': 2728, '이틀': 3496, '엉엉': 2969, '잉': 3605, '에는': 2979, '생기다': 2334, '주차장': 3994, '확보': 4915, '여태': 3033, '정상인': 3823, '과장': 494, '찾다': 4227, '혼란': 4891, '달다': 1070, '그런데': 631, '에서는': 2986, '얼마나': 2947, '모으다': 1671, '카톡': 4403, '차단': 4192, '풀리다': 4658, '가버리다': 180, '니': 1016, '통장': 4532, '트': 4550, '열심히': 3073, '당신': 1103, '힘': 4995, '외': 3184, '엔': 2999, '기억': 723, '안나': 2796, '도움': 1234, '던': 1197, '사정': 2253, '신입': 2641, '단백질': 1058, '루': 1463, '11월': 19, '생신': 2341, '겹': 377, '가기': 155, '전': 3769, '까지는': 772, '외로워': 3192, '보이': 2019, '모임': 1673, '만나다': 1519, '분들': 2089, '없어지다': 2962, '망설이다': 1565, '썸': 2705, '고백': 428, '정신병': 3828, '병원': 1994, '가르다': 172, '갈다': 221, '대한': 1171, '캐': 4408, '묻다': 1751, '맛': 1562, '26': 58, '인치': 3543, '야간': 2857, '그래서': 624, '달리': 1079, '잘살다': 3679, '변태': 1981, '든지': 1321, '휘': 4962, '정말로': 3819, '면접': 1637, '신인': 2640, '개그맨': 277, '가능하다': 163, '_': 114, '리그': 1472, '차이': 4203, '방': 1899, '다른사람': 1031, '전남친': 3773, '타고': 4467, '통증': 4534, '34': 74, '까진': 775, '쪽': 4164, '성능': 2404, '비슷하다': 2146, '술': 2523, '깨다': 786, '자고': 3612, '바르다': 1831, '마이': 1500, '사귀다': 2209, '월': 3264, '마다': 1486, '고수': 433, '한지': 4752, '사': 2204, '개월': 289, '입대': 3597, '쩝': 4163, '동': 1260, '공연': 477, '댓글': 1181, '아나운서': 2738, '틀다': 4561, '옆': 3097, '돌리다': 1252, '역시': 3042, '월요일': 3268, '지하철': 4091, '힘드다': 4997, '매': 1574, '개인': 290, '유느님': 3289, '올해': 3160, '정준하': 3840, '상이': 2308, 'x': 148, '들어오다': 1331, '인터뷰': 3545, '읽다': 3583, '저기': 3743, '곤란하다': 452, '블랙리스트': 2130, '작성': 3661, '죄': 3951, '감기': 231, '수술': 2501, '무기': 1705, '하늘': 4696, '찌르다': 4179, '덥다': 1203, 'nc': 135, '롯데': 1461, '지역': 4075, '강': 252, '훈련': 4956, '할배': 4765, '우승': 3225, '10': 2, '애플': 2851, '광고': 507, '가리다': 174, '함정': 4771, '매주': 1587, '제작': 3865, '방송': 1907, '멤버': 1630, '쩔다': 4162, '잘리다': 3676, '8': 105, '그다음': 616, '야하다': 2864, '경찰': 392, '장이': 3713, '마련': 1489, '정유': 3833, '라가': 1409, '판': 4582, '두테르테': 1292, '트럼프': 4552, '당선': 1101, '붉다': 2120, '원장': 3262, '영화': 3096, '엊그제': 2970, '서울대': 2362, '교체': 528, '정답': 3813, '왓': 3177, '조선족': 3894, '하야': 4706, '격': 361, '호감': 4878, '정리': 3817, '마트': 1509, '많아지다': 1545, '력': 1447, '패스': 4598, '타': 4465, '시대': 2577, '방어율': 1910, '이닝': 3386, '잖다': 3671, '박사모': 1846, '인원': 3533, '신기하다': 2626, '1000': 4, '마': 1482, '솔': 2479, '자르다': 3629, '본': 2037, '배우': 1925, '차이다': 4206, '비': 2132, '요구': 3199, '절': 3797, '성폭행': 2415, 'b': 117, 'a': 115, '난감하다': 857, '보': 1996, '장하다': 3716, '퇴진': 4540, '이유': 3472, '손흥민': 2478, '자세': 3635, '설현': 2396, '입': 3593, '간판': 219, '그래도': 623, '재밌다': 3727, '쓰이다': 2721, '명불허전': 1649, '대륙': 1131, '9': 109, '길': 740, '라임': 1425, '말투': 1557, '하자': 4712, '관상': 504, '망하다': 1569, '팀': 4568, '의외': 3363, '틀리다': 4562, '기르다': 701, '일부러': 3566, '잃어버리다': 3585, '인터넷': 3544, '신문': 2632, '보나': 2001, '종이': 3941, '환경': 4921, '이득': 3396, '그야말로': 646, '영': 3081, '이원석': 3471, '포기': 4630, '란': 1427, '해내다': 4784, '주전': 3989, '보여주다': 2018, '자가': 3609, '설명': 2391, '뽑다': 2195, '볼': 2042, '유신': 3303, '도박': 1229, '임': 3586, '오우': 3138, '자살': 3634, '머': 1596, '대포': 1165, '칼': 4405, '신다': 2628, '헬': 4847, '조선': 3892, '대들다': 1129, '소': 2441, '느껴지다': 1001, '김성근': 753, '임창용': 3591, '추가': 4325, '징계': 4141, '시비': 2586, '별로': 1989, '닮다': 1086, '25': 57, '자식': 3637, '셋': 2440, '같이': 272, '똑바로': 1393, '사용': 2244, '그리고': 638, '아쉽다': 2758, '뿌리다': 2200, '메이저': 1624, '구단': 536, '행복': 4817, '방해': 1916, '필요하다': 4684, '문재인': 1745, '제도': 3855, '고치다': 443, '대통령': 1164, '사실': 2239, '팔다': 4592, '흔하다': 4976, '여친': 3032, '사라지다': 2218, '외국': 3189, '편하다': 4616, '성과': 2403, '휴': 4963, '프리': 4664, '얼굴': 2943, '어머님': 2902, '선': 2369, '자리': 3630, '잡다': 3694, '눈뜨다': 992, '고딩': 418, '배우다': 1926, '희한하다': 4988, '아무리': 2751, '비율': 2153, '싫다': 2669, '이래': 3410, '해봤다': 4794, '말고는': 1549, '기다': 691, '단호': 1066, '그치다': 648, '꼭': 795, '필요': 4682, '남녀': 872, '구분': 545, '화장실': 4909, '가을': 191, '이라는': 3403, '인천': 3542, '달': 1068, '적당하다': 3764, '징': 4140, '인지도': 3540, '제로': 3856, '일단': 3551, '날수': 865, '묘': 1702, '향': 4824, '풀': 4656, '분명': 2090, '30분': 71, '9시': 111, '아무튼': 2752, '놀래다': 964, '급하다': 680, '일이': 3573, '지키다': 4089, '약속': 2868, '확인': 4918, '어플': 2926, '유리': 3295, '피곤하다': 4669, '떠들다': 1375, '노트북': 955, '구라': 537, '아시': 2760, '주년': 3962, '대회': 1178, '일정': 3576, '모든': 1664, '다운': 1040, '하지만': 4713, '쯤': 4173, '표현': 4651, '줄다': 4006, '보이다': 2020, '해킹': 4807, '무엇': 1730, '서로': 2353, '온': 3151, '톡': 4523, '생일': 2342, '근': 653, '보장': 2024, '오히려': 3149, '훔치다': 4959, '커피': 4421, '사랑': 2222, '갖다': 269, '버릇': 1939, '피임': 4675, '구매': 541, '노래': 942, '뻔하다': 2191, '정신': 3826, '제출': 3869, '생산': 2339, '든': 1319, '다양하다': 1039, '직종': 4101, '억지로': 2931, '회계': 4939, '하라': 4701, '지도': 4062, '업무': 2957, '표': 4647, '치고': 4373, '급여': 679, '달이': 1082, '끝': 823, '키도': 4460, '컷': 4426, '지만': 4068, '그때': 621, '입금': 3595, '데려가다': 1207, '무료': 1715, '댕기': 1185, '면서': 1636, '확정': 4919, '가져가다': 195, '쓸다': 2723, '9월': 112, '푼': 4655, '치킨': 4383, '빠지다': 2173, '낼': 904, '보기': 2000, '정': 3810, '짓': 4137, '응': 3349, '러': 1437, '예쁘다': 3104, '지나': 4051, '1년': 33, '무너지다': 1708, '깨끗하다': 785, '하루': 4702, '밤': 1894, '인연': 3531, '마르다': 1490, '채': 4232, '칼로리': 4407, '따지다': 1356, '대면': 1135, '어디서': 2888, '광주': 510, '후': 4946, '악플러': 2792, '변명': 1980, '자신': 3638, '웃기다': 3248, '특집': 4556, '던데': 1198, '우연히': 3227, '유재석': 3306, '잘알다': 3682, '는걸': 1005, '일해': 3582, '남고': 870, '영어': 3085, '공부': 472, '쫒다': 4169, '돌': 1249, '서요': 2358, '드라마': 1311, '게다가': 349, '편의점': 4612, '가르치다': 173, '래': 1432, '선물': 2372, '올리다': 3158, '오라버니': 3124, '신발': 2633, '뒤늦다': 1301, '뒷북': 1306, '층': 4370, '구역': 549, '누나': 985, '이란': 3407, '깨': 784, '채다': 4234, '병': 1990, '임신': 3590, '주차': 3993, '씻다': 2731, '잔소리': 3668, '뭣': 1773, '하니': 4697, '깔다': 777, '패': 4596, '드립': 1316, '모양': 1669, '떼다': 1384, '켜다': 4431, '낮다': 885, '발생': 1885, '굶다': 584, '주부': 3974, '요리': 3201, '재료': 3723, '양': 2872, '쓰레기통': 2719, '그렇게': 632, '이쁘다': 3441, '차라리': 4194, '대강': 1114, '제주도': 3868, '그니까': 615, '불가능하다': 2099, '리가': 1471, '김현수': 767, '두산': 1291, '팬': 4600, '운전': 3236, '아작': 2772, '예정': 3114, '이지': 3489, '웃음': 3250, '참다': 4218, '2016년': 46, '쟁이': 3737, '할머니': 4764, '헐다': 4838, '레전드': 1444, '언급': 2933, '아스날': 2759, '상징': 2309, '이안': 3457, '북': 2084, '토트넘': 4522, '칭찬': 4397, '상당하다': 2298, '발언': 1887, '가족': 197, '5월': 94, '작년': 3657, '젠장': 3874, '결론': 367, '던지다': 1199, '디자인': 1345, '둥글다': 1297, '상관없다': 2296, '새': 2317, '이형': 3500, '어마': 2899, '날씨': 866, '안정': 2810, '수익': 2507, '영업': 3086, '이니': 3384, '달려들다': 1077, '장면': 3707, '제일': 3864, '바라다': 1827, '한참': 4754, '아래': 2743, '멘붕': 1628, '옴': 3163, '무기징역': 1706, '판다': 4584, '끼다': 829, '샤오미': 2346, '홍': 4895, '밉다': 1819, '디': 1344, '기본': 707, '이성': 3448, '채우다': 4236, '고급': 413, '의외로': 3364, '알아보다': 2827, '당연하다': 1104, '졸이다': 3928, '한효주': 4763, '이종석': 3485, '리콜': 1479, '매다': 1578, '갤럭시': 297, '돌아이': 1256, '대한민국': 1172, '부인': 2071, '정체': 3844, '대가리': 1112, '답': 1093, '뭐임': 1769, '내놓다': 890, '고작': 439, '근본': 659, '아지': 2777, '남편': 879, '낫': 881, '상식': 2306, '으로는': 3329, '노릇': 944, '붙이다': 2124, '불어': 2116, '업체': 2959, '옷': 3164, '차리다': 4198, '시선': 2588, '신경': 2623, '촛불': 4296, '돌아오다': 1255, '합': 4772, '그러니까': 627, '의혹': 3369, '주행': 3995, '속도': 2463, '철': 4263, '유럽': 3293, '사건': 2206, '닭': 1083, '함께': 4769, '시기': 2574, '내내': 888, '푹': 4654, '건강하다': 325, '로만': 1454, '푸다': 4652, '경': 378, '세대': 2424, '또다시': 1387, '오랜': 3128, '찾아오다': 4231, '박': 1840, '일만': 3556, '골': 454, '때리다': 1366, '사이': 2247, '성격': 2400, '생각나다': 2332, '투': 4541, '숨기다': 2526, '합의': 4775, '거려': 308, '이유식': 3473, '땜': 1370, '이라도': 3405, '잇다': 3603, '밥': 1896, '고해': 448, '대박': 1136, '어차피': 2925, '심지어': 2678, '강아지': 259, '상품': 2314, '개선': 288, '과자': 493, '보라': 2008, '고함': 447, '장': 3700, '리얼': 1477, '한판': 4758, '강하다': 266, '케이스': 4429, '들이다': 1333, '아줌마': 2776, '론': 1459, '시댁': 2578, '챙기다': 4242, '성추행': 2414, '줄알': 4007, '니깐': 1018, '32': 73, '동갑': 1261, '4시간': 84, '대학교': 1169, '군화': 580, '고무신': 424, '상해': 2315, '줄이다': 4009, '열': 3070, '고집': 441, '에가': 2972, '먹기': 1600, '한적': 4751, '에만': 2984, '얼다': 2944, '사이트': 2250, '핸드폰': 4813, '뿐이다': 2202, '인생': 3527, '님들': 1020, '잘못': 3678, '거임': 312, '브랜드': 2127, '해결': 4782, '제품': 3870, '찾아보다': 4230, '이미': 3429, '3일': 79, '부대': 2057, '달래다': 1075, '참고': 4215, '민': 1801, '그만두다': 643, '려': 1445, '없애다': 2961, '새롭다': 2322, '굳이': 582, '이제야': 3484, '지우다': 4077, '3월': 78, '기준': 733, '나누다': 838, '멀리': 1610, '동물': 1266, '업다': 2955, '최근': 4309, '편안하다': 4611, '집착': 4134, '급식': 678, '에겐': 2976, '1일': 40, '분하다': 2096, '머리': 1597, '젠': 3873, '틈': 4563, '들어주다': 1332, '걍': 299, '한심하다': 4748, '여서': 3018, '착하다': 4210, '반응': 1873, '우린': 3222, '감싸다': 241, '안다': 2802, '돌다': 1250, '권태기': 591, '도배': 1230, '찌': 4175, '대답': 1127, '왕': 3178, '중소기업': 4022, '갈리다': 223, '이미지': 3430, '찍히다': 4183, '멍': 1616, '놓치다': 973, '그녀': 614, '21': 52, '응원': 3350, '레': 1441, '다해': 1046, '혀': 4851, '어찌나': 2924, '기저귀': 729, '하체': 4716, '위로': 3274, '밑': 1821, '내려가다': 892, '멋지다': 1615, '거구': 301, '혼나다': 4890, '뎅': 1215, '경상도': 383, '연아': 3060, '컴퓨터': 4425, '마땅하다': 1488, '해드리다': 4789, '숫자': 2528, '그것': 607, '께서': 792, '존나': 3918, '척': 4252, '학원': 4725, '야동': 2862, '귀': 594, '구멍': 543, '접다': 3809, '꺼내다': 789, '주머니': 3969, '어린이집': 2898, '17': 28, '놀라다': 962, '사무실': 2230, '일도': 3553, '현재': 4863, '사회': 2263, '지경': 4046, '최대': 4310, '18': 29, '놔두다': 974, '따라오다': 1351, '이러니': 3413, '수상하다': 2500, '설마': 2390, '백종원': 1935, '부산': 2068, '행': 4815, '천만': 4255, '뻥': 2192, '공': 462, '공격': 466, '빼': 2184, '역습': 3041, '혜': 4875, '주사': 3975, '우주': 3231, '기운': 727, '덕분': 1196, '매년': 1577, '약간': 2866, '오버': 3134, '페이': 4607, '해주': 4802, '튀다': 4548, '년': 935, '뇌': 975, '씨': 2726, '라멜라': 1417, '뛰다': 1398, '살리다': 2272, '면제': 1638, '웬': 3269, '한두': 4739, '전용': 3788, '포함': 4635, '위반': 3275, '에스': 2990, '어서': 2907, '대선': 1144, '후보': 4950, '국정원': 570, '어버이연합': 2904, '설치다': 2395, '연습': 3057, '동남아': 1263, '지네': 4058, '즐기다': 4035, '국가': 558, '하든': 4700, '도둑': 1223, '지리': 4066, '듣보잡': 1324, '동의': 1276, '개구': 275, '지현': 4092, '하하': 4718, '세계': 2418, '일보': 3561, '저건': 3741, '몇번': 1657, '이기다': 3378, '혹사': 4887, '인격': 3511, '이여': 3465, '도깨비': 1218, '담': 1087, '승': 2561, '빵': 2183, '선풍기': 2384, '1분': 36, '춥다': 4356, '재': 3717, '조': 3877, '고생': 429, '점심': 3806, '넘어가다': 925, '찬성': 4212, '80': 106, '이군': 3375, '투수': 4542, '달러': 1076, '가능': 161, '한다는': 4736, '헛소리': 4841, '직장인': 4098, '포켓몬': 4634, '코': 4432, '질문': 4118, '청소': 4278, '판결': 4583, '정당하다': 3815, '대도': 1128, '검찰': 341, '가만히': 176, '냄새': 906, '생활': 2344, '대가': 1111, '랏': 1429, '맡다': 1573, '한텐': 4757, '문': 1740, '닫다': 1067, '로서': 1456, '황': 4933, '은행': 3339, '좀더': 3930, '가입': 192, '간': 210, '메인': 1626, '선임': 2379, '반복': 1871, '은애': 3336, '주민': 3971, '실제': 2662, '답변': 1095, '피하': 4676, '짐': 4122, '등등': 1340, '옮기다': 3161, '여러분': 3014, '고용': 436, '세다': 2423, '문자': 1744, '소개': 2442, '출근': 4344, '일찍': 3580, '정규직': 3812, '쫌': 4168, '한데': 4737, '마시다': 1496, '올라오다': 3156, '취업': 4364, '년도': 937, '빌리다': 2164, '다음': 1041, '찢어지다': 4185, '주인': 3985, '조건': 3879, '1시간': 37, '못자다': 1699, '정의': 3836, '티': 4564, '내면': 895, '2년': 61, '형': 4869, '부분': 2067, '허벅지': 4830, '월드': 3266, '혹': 4886, '엘지': 3003, '이끌다': 3379, '참으로': 4221, '펼치다': 4617, '24시간': 56, '수가': 2488, '유튜브': 3317, '비난': 2134, '부턴': 2081, '글씨': 666, '식다': 2615, '계약': 403, '건드리다': 326, '상담': 2297, '교수': 525, '계시다': 402, '계시': 401, '모두': 1663, '어머니': 2901, '어째': 2913, '페북': 4606, '먼지': 1608, '상상': 2304, '후배': 4949, '요새': 3203, '저번': 3753, '적다': 3763, '질리다': 4117, '키스': 4463, '멈추다': 1612, '오해': 3146, '결재': 371, '서도': 2350, '적응': 3768, '아무렇다': 2750, '판단': 4585, '감': 229, '유지현': 3310, '째': 4157, '워': 3251, '부다': 2054, '휴식': 4966, '취하': 4366, '집안일': 4131, '복': 2032, '세탁': 2435, '다이어트': 1043, '키로': 4462, '근처': 662, '겁니다': 344, '맞추다': 1571, '주제': 3991, '나머지': 844, '용돈': 3212, '부족하다': 2075, '휴대폰': 4965, '학생': 4723, '지나가다': 4052, '대부분': 1139, '꿈': 812, '에선': 2989, '현역': 4861, '군': 574, '바리': 1832, '안남': 2797, '쿵': 4445, 'kbs': 129, '만이': 1537, '지르다': 4065, '예술': 3108, '이예': 3466, '고등학생': 417, '틴': 4567, '되게': 1280, '진행': 4115, '프로그램': 4662, '게스트': 350, '티비': 4565, '컨셉': 4422, '확신': 4916, '겉': 346, '뵈다': 2049, '흐리다': 4971, '악플': 2790, '띄다': 1407, '단두대': 1056, '보지': 2026, '수입': 2508, '신': 2621, '미세먼지': 1790, '심다': 2673, '국민': 561, '상대로': 2300, '협박': 4868, '려고': 1446, '성범죄': 2407, '폐지': 4627, '고소': 430, '수사': 2498, '갑': 247, '기능': 690, '이민': 3431, '간다': 211, '엉뚱하다': 2967, '위해': 3281, '이대호': 3390, '언플': 2940, '런닝맨': 1440, '강호동': 267, '옹호': 3166, '막장': 1515, '20만원': 49, '아이폰': 2771, '미군': 1781, '초딩': 4291, '해당': 4786, '언론': 2935, '경리': 382, '근무': 658, '차갑다': 4187, '친': 4384, '사주다': 2255, '헷갈리다': 4850, '닿다': 1109, '조용하다': 3899, '이별': 3436, '떡': 1377, '엿': 3080, '전혀': 3793, '아예': 2763, '딱하다': 1359, '한일': 4749, '역사': 3038, '연습생': 3058, '직장': 4097, '명도': 1647, '지인': 4080, '군데': 576, '거절': 313, '라면': 1419, '비용': 2149, '어쩌나': 2916, '무': 1703, '죽음': 4000, '인하다': 3547, '때매': 1367, '울다': 3240, '긁다': 667, '갈색': 224, '케': 4427, '미안하다': 1795, '주방': 3972, '출신': 4350, '증명': 4040, '오랫동안': 3129, '거들다': 305, '잘나다': 3674, '커지다': 4419, '공주': 481, '거부': 310, '전부': 3781, '뜯다': 1404, '직접': 4100, '실적': 2660, '앞서다': 2839, '계산': 399, '말고': 1548, '직전': 4099, '너무하다': 918, '5시': 93, '교': 519, '이빨': 3440, '길다': 743, '표기': 4648, '검사': 337, '창': 4222, '미술': 1793, '본적': 2041, '자격증': 3611, '답장': 1096, '합격': 4773, '이기': 3377, '보다는': 2004, '가게': 152, '가깝다': 157, '복잡하다': 2035, '곳도': 461, '필요없다': 4683, '이구나': 3373, '누르다': 987, '화장': 4908, '어쩌면': 2919, '이라니': 3404, '김영란': 757, '영혼': 3095, '팔면': 4594, '지진': 4085, '모델': 1662, '극': 649, '동네': 1264, '두렵다': 1289, '소름': 2446, '가하다': 203, 's': 139, '책임지다': 4240, '암살': 2830, '대형': 1175, '쎄다': 2706, '꼬리': 794, '좀비': 3931, '전쟁': 3791, '인공': 3512, '지능': 4060, '희다': 4985, '유학': 3318, '조심하다': 3897, '가도': 165, '아따': 2742, '한화': 4762, '운전자': 3237, '판매': 4586, '폭발': 4639, '발표': 1889, '기름': 702, '전기': 3771, '웃': 3246, 'ㆍ': 150, '조만간': 3888, '연구': 3047, '삼': 2288, '전자': 3790, '뇌물': 976, '발견': 1880, '떠오르다': 1376, '고가': 409, '숨다': 2527, '댐': 1179, '저주': 3758, '쓰나미': 2714, '무서움': 1722, '로봇': 1455, '개발': 285, '멸종': 1644, '라지': 1426, '사자': 2251, '호랑이': 4883, '늠': 1012, '경주': 390, '심각하다': 2672, '돌아다니다': 1254, '아이고': 2768, '천조국': 4260, '바이러스': 1835, '소비': 2450, '애비': 2847, '총': 4299, '벌어지다': 1958, '홍채': 4898, '인식': 3529, '봉사': 2047, '권한': 592, '보다도': 2005, '죽여주다': 3999, '미리': 1787, '계획': 407, '대전': 1154, '아우': 2765, '쏟아지다': 2710, '눈물나다': 994, '한쪽': 4753, '뒤집어지다': 1303, '바다': 1825, '곡성': 451, '대구': 1116, '김대중': 751, '반갑다': 1865, '사죄': 2254, '첼시': 4286, '행위': 4820, '곳곳': 460, '건들': 327, '경제': 389, '닦다': 1052, '덜다': 1201, '정권': 3811, '마찬가지': 1506, '러시아': 1438, '심': 2671, '상치': 2312, '우와': 3228, '흑인': 4973, '도나': 1219, '빨갱이': 2179, '기레기': 699, '작업': 3662, '북한': 2086, '재미': 3724, '그만하다': 645, '날개': 861, '달리다': 1080, '짐승': 4123, '싹': 2694, '짓거리': 4138, '철수': 4266, '대비': 1140, '핵무기': 4810, '돋다': 1248, '다만': 1034, '총기': 4300, '신중하다': 2643, '이래서': 3412, '여행': 3034, '눈빛': 995, '소름끼치다': 2447, '테러': 4510, '겁나다': 343, '마냥': 1484, '십년': 2684, '보도': 2007, '선동': 2371, '들보': 1328, '탄핵': 4475, '덜덜': 1202, '샤워': 2347, '최': 4305, 'jtbc': 126, '보복': 2010, '악의': 2788, '에다': 2980, '보조': 2025, '전세계': 3785, '유행': 3319, '언젠가': 2939, '언론사': 2936, '견찰': 364, '몇': 1655, '국내': 560, '교환': 530, '조기': 3885, '재난': 3719, '현장': 4862, '자유': 3644, '화': 4900, '주지': 3992, '암': 2829, '의식': 3360, '다음주': 1042, '공개': 465, '심장': 2676, '쓰레기': 2718, '모조리': 1676, '뿌리': 2199, '과연': 491, '한국인': 4732, '미용사': 1796, '배고프다': 1919, '우': 3216, '에어컨': 2991, '엣지': 3005, '액정': 2853, '걱정스럽다': 321, '세뇌': 2422, '언': 2932, '아저씨': 2773, '펴다': 4609, '근대': 655, '버티다': 1945, '조직': 3907, '몰카': 1693, '겄': 345, '베다': 1973, '구만': 540, '볼때': 2043, '노후': 957, '두려움': 1288, '규제': 602, '법안': 1965, '도입': 1235, '충분하다': 4359, '보임': 2023, '안보': 2805, '위험': 3282, '모이다': 1672, '도르다': 1226, '핵폭탄': 4812, '사드': 2216, '토': 4516, '인물': 3523, '그러다가': 628, '귀신': 597, '권혁': 593, '고기': 414, '일자리': 3574, '폭동': 4637, '일으키다': 3572, '길이': 744, '김진태': 764, '무시': 1727, '피해': 4677, '끼': 828, '마주치다': 1504, '우울하다': 3230, '흑': 4972, '범죄자': 1962, '독립': 1242, '신고': 2624, 'cctv': 119, '게시판': 351, '착각': 4209, '데이': 1212, '수업': 2502, '나중': 854, '주변': 3973, '조언': 3898, '끊기다': 816, '스펙': 2554, '능력': 1014, '테스트': 4514, '더하다': 1194, '이구': 3372, '졸업': 3927, '이만': 3425, '아기': 2735, '선배': 2374, '산부인과': 2267, '묻히다': 1752, '제왕절개': 3862, '신천지': 2645, '백수': 1933, '고요': 435, '만의': 1536, '지식': 4074, '겁': 342, '지방': 4070, '그동안': 620, '용기': 3210, '민폐': 1813, '살빼다': 2274, '봣': 2048, '로는': 1450, '아깝다': 2736, '밖': 1862, '눕다': 998, '확실하다': 4917, '나르다': 842, '폭풍': 4643, '중단': 4019, '조리': 3886, '주정': 3990, '예약': 3109, '해오다': 4798, '치료': 4377, '실내': 2649, '자전거': 3646, '짜다': 4144, '와도': 3167, '행복하다': 4818, '한동안': 4738, '등록': 1341, '앞두다': 2838, '재수': 3731, '결심': 370, '서서': 2357, '퍼지다': 4604, '아주': 2774, '남기다': 871, '스쿼트': 2548, '속이다': 2466, '쓰리다': 2720, '수록': 2492, '첫': 4270, 'kg': 130, '목표': 1684, '가슴': 186, '엉덩이': 2966, '무리하다': 1720, '물건': 1755, '개인정보': 291, '이력서': 3418, '발전': 1888, '살아가다': 2276, '스트레스': 2553, '경력': 381, '큰일': 4453, '결국': 366, '이따': 3398, '및': 1820, '비만': 2140, '도저히': 1236, '폭력': 4638, '안경': 2794, '인상': 3526, '그닥': 617, '의사': 3359, '일지': 3579, '째다': 4158, '재산': 3729, '박탈': 1857, '극복': 650, '7시': 103, '사라': 2217, '관': 498, '배다': 1920, '콕콕': 4438, '커플': 4420, '논리': 960, '꺼지다': 790, '정지': 3841, '논': 958, '듯': 1336, '이직': 3491, '색': 2326, '15': 24, '껏': 791, '클릭': 4457, '카드': 4400, '막다': 1511, '땅': 1363, '돌아가다': 1253, '성인': 2411, '피': 4667, '24': 55, '볼일': 2044, '전문대': 3780, '어쩔': 2921, '수없이': 2503, '식단': 2616, '집안': 4130, '조작': 3903, '홍보': 4896, '에이': 2994, 'd': 120, '설사': 2392, '머릿속': 1598, '쓰러지다': 2717, '배치': 1927, '고개': 410, '움직이다': 3245, '신랑': 2630, '불만': 2107, '지겹다': 4045, '상사': 2303, '드디어': 1310, '다가오다': 1024, '결정': 372, '달도': 1071, '이글': 3376, '항공': 4778, '세트': 2436, '몇개': 1656, '믄': 1775, '끼어들다': 832, '23': 54, '가보': 182, '함부로': 4770, '3년': 77, '화학': 4911, '물질': 1764, '배부르다': 1923, '벌다': 1954, '덜': 1200, '입히다': 3602, '12': 20, '윗': 3285, '쑤시다': 2712, '시술': 2591, '뚱뚱하다': 1397, '아마': 2746, '측': 4368, '치르다': 4378, '깨지다': 787, '서인영': 2364, '해명': 4792, '연예계': 3063, '경쟁': 388, '부리다': 2063, '인류': 3521, '조종': 3906, '멸망': 1642, '지켜보다': 4087, '그땐': 622, '명절': 1653, '뒤지다': 1302, '짤': 4151, '규모': 601, '65': 99, '내버리다': 896, '야당': 2861, '봉': 2046, '고문': 425, '명장': 1652, '다행': 1047, '벼락': 1976, '무시무시하다': 1728, '시원하다': 2595, '고양이': 434, '백': 1929, '숨': 2525, '광': 506, '번개': 1947, '매일': 1585, '출퇴근': 4354, 'is': 125, '인재': 3534, '집앞': 4132, '창조': 4223, '건강': 324, '침략': 4394, '살아나다': 2277, '조금씩': 3883, '생선': 2340, '편': 4610, '사망': 2226, '이겠다': 3370, '조윤선': 3900, '유': 3286, '축복': 4341, '커서': 4417, '부모': 2064, '원망하다': 3259, '탈출': 4480, '손목': 2471, '화재': 4910, '수류탄': 2493, '길가': 741, '정신차리다': 3831, '전력': 3777, '공급': 467, '우선': 3224, '비판': 2158, '끼리': 831, '비도': 2136, '밝혀지다': 1891, '병신': 1992, '감옥': 242, '권력': 589, '공사': 473, '원숭이': 3260, '5년': 90, '로다': 1451, '각': 205, '세계대전': 2419, '잡히다': 3698, '뒈지다': 1299, '반기문': 1866, '최악': 4316, '재앙': 3733, '여기저기': 3011, '지지': 4082, '계엄령': 404, '선포': 2383, '청와대': 4279, '동물원': 1267, '대안': 1147, '생명': 2337, '히틀러': 4992, '아이유': 2770, '10년': 10, '상승': 2305, '충성': 4360, '의하다': 3368, '저지르다': 3759, '범': 1959, '전국': 3770, '시장': 2598, '위기': 3272, '닥치다': 1051, '찌라시': 4178, '순위': 2521, '19': 31, '안철수': 2813, '흔들다': 4974, '날뛰다': 863, '오르다': 3131, '강도': 255, '지는': 4059, '생중계': 2343, '기상': 714, '예보': 3102, '반성': 1872, '뱅': 1937, '은퇴': 3338, '노무': 945, '추위': 4334, '심판': 2679, '내려오다': 893, '목숨': 1682, '잔인하다': 3669, '태': 4487, '잠들다': 3687, '핵': 4809, '성공': 2401, '비주': 2156, '얼': 2942, '물어': 1761, '분명하다': 2091, '확': 4913, '욕심': 3207, '종': 3935, '종말': 3937, '이분': 3438, '빡세': 2175, '통': 4525, '묵묵하다': 1739, '끌': 818, '헤치다': 4846, '은택': 3337, '퍼': 4602, '새다': 2321, '잡혀가다': 3697, '역': 3035, '드러나다': 1312, '산': 2265, '메다': 1620, '백배': 1931, '소유': 2458, '라이': 1423, '이든': 3397, '경찰서': 393, '포스': 4632, '접': 3808, '태동': 4491, '외롭다': 3193, '시점': 2600, '꽤': 806, '에여': 2992, '부딪히다': 2059, '팔': 4590, '취급': 4362, '뽀뽀': 2194, '손잡다': 2475, '임기': 3588, '그랬는데': 625, '살짝': 2284, '할아버지': 4766, '중반': 4021, '날짜': 868, '미루다': 1786, '다가가다': 1023, '발리다': 1882, '쪽팔리다': 4167, '테러리스트': 4511, '후회': 4954, '인형': 3548, '글구': 665, '업': 2954, '아아': 2762, '쌓다': 2697, '겸': 376, '붙잡다': 2125, '폭': 4636, '사서': 2235, '쩌': 4159, '모하': 1678, '피시방': 4673, '고등학교': 416, 'tv': 145, '틀': 4560, '메르스': 1622, '욕먹다': 3206, '이대로': 3389, '거나': 303, '쿵쾅': 4446, '망치': 1567, '사람인': 2221, '다녀오다': 1026, '곰신': 455, '불편하다': 2118, '최후': 4322, '졸': 3922, '체크': 4283, '4월': 85, '제사': 3860, '답답하다': 1094, '수영': 2504, '몸매': 1696, '창피하다': 4225, '뺏다': 2188, '축구': 4340, '스포츠': 2555, '기회': 735, '악': 2786, '영향': 3093, '기존': 732, '사기': 2211, '궁금': 586, '괴롭히다': 516, '하아': 4705, '각하': 209, '싸움': 2691, '반대': 1868, '잠시': 3689, '환승': 4926, '아랫': 2744, '가지다': 200, '100일': 9, '로써': 1457, '혐오': 4867, '완전하다': 3176, '살수': 2275, '똑같이': 1391, '잘해주다': 3683, '자신감': 3639, '열정': 3075, '채용': 4235, '오는': 3119, '썩다': 2703, '바퀴': 1838, '실물': 2655, '도망가다': 1228, '호구': 4881, '너무나': 915, '일가': 3550, '환불': 4923, '갈등': 222, '집중': 4133, '그만': 642, '아파트': 2782, '인게': 3510, '부담스럽다': 2056, '감당': 233, '이주': 3486, '바쁘다': 1834, '처벌': 4247, '잠깐': 3685, '쉬': 2529, '엄청나다': 2953, '고통': 444, '엘': 3001, '더욱': 1191, '여러가지': 3013, '초': 4288, '안함': 2817, '조차': 3908, '하이': 4711, '27': 59, '해외여행': 4800, '장님': 3704, '조사': 3889, '캠프': 4414, '현': 4854, '멘탈': 1629, '가까이': 156, '따뜻하다': 1349, '달동': 1072, '헤어지자': 4845, '한편': 4759, '기숙사': 719, '결혼식': 375, '과는': 489, '독하다': 1246, '설레다': 2389, '잔': 3666, '보시': 2014, '듭니': 1335, '원하다': 3263, '금방': 670, '음식': 3343, '만난': 1520, '방귀': 1901, '엇': 2964, '독': 1239, '공식': 475, '노무현': 946, '종교': 3936, '인성': 3528, '교육': 526, '먹고살다': 1599, '진지하다': 4112, '탈락': 4477, '오줌': 3141, '지리다': 4067, '이지만': 3490, '닭년': 1085, '시리': 2580, '뼈': 2193, '조카': 3910, '조심': 3896, '악마': 2787, '무장': 1731, '씌우다': 2725, '옛날': 3117, '벽': 1977, '이하': 3497, '그나마': 609, '치안': 4381, '판사': 4587, '살해': 2286, '보수': 2013, '하청': 4715, '직원': 4096, '문화': 1750, '터': 4501, '터널': 4502, '내부': 898, '몰살': 1690, '소식': 2455, '흘리다': 4977, '해운대': 4801, '거짓': 316, '간신': 215, '소득': 2445, '이콘': 3495, '코치': 4437, '다름없다': 1032, '게이': 352, '모텔': 1677, '쓰기': 2713, '이딴': 3400, '밧데리': 1898, '일본인': 3564, '만큼': 1539, '추악하다': 4331, '마동석': 1487, '잠도': 3686, '조그만': 3881, '자연재해': 3642, '으': 3327, '침몰': 4395, '전성기': 3784, '슬슬': 2557, '뜸': 1405, '끝장': 826, '공산당': 474, '환영': 4927, '공감': 464, '시급하다': 2573, '선진국': 2381, '겜': 355, '펜': 4608, '짜증': 4147, '결함': 373, '포수': 4631, '자원': 3643, '풀다': 4657, '무도': 1714, '충': 4357, '시체': 2605, '중고': 4015, '난리': 858, '선거': 2370, '정치': 3845, '수출': 2514, '영원하다': 3088, '추방': 4328, '환생하다': 4924, '살기': 2270, '파도': 4572, '대지진': 1157, '전문가': 3779, '천재': 4259, '새누리': 2319, '해체': 4805, '즉': 4031, '인증': 3538, '무효': 1737, '자존심': 3647, '허다': 4826, '유일하다': 3305, '생명체': 2338, '가라': 171, '이구만': 3374, '정치권': 3846, '이어서': 3461, '가짜': 201, '밝히다': 1892, '잡아들이다': 3695, '이용': 3469, '번째': 1950, '류': 1466, '후진': 4952, '백만': 1930, '불과하다': 2100, '관심': 505, '자라다': 3624, '고속도로': 432, '마린시티': 1492, '여름': 3016, '장마': 3706, '잠재': 3690, '그거': 604, '평화': 4624, '촛불시위': 4297, '방사': 1905, '구조': 553, '오늘이': 3121, '설': 2386, '꺼': 788, '세월호': 2432, '안타깝다': 2815, '위협': 3284, '구미': 544, '공포': 484, '자극': 3615, '시국': 2570, '강소라': 258, '조폭': 3911, '험하다': 4839, '금요일': 673, '간절하다': 217, '입덧': 3598, '만날': 1521, '들리다': 1327, '살찌다': 2285, '저가': 3740, '탈모': 4478, '털다': 4507, '간호사': 220, '해먹': 4791, '가난하다': 160, '성욕': 2410, '이혼': 3501, '가든': 169, '맺다': 1595, '그릇': 637, '이신': 3455, '2월': 64, '타이밍': 4471, '부정': 2073, '작': 3654, '법대': 1964, '무리': 1717, '고통스럽다': 445, '압박': 2833, '효': 4944, '학점': 4726, '인력': 3520, '사무': 2229, '운영': 3235, '사업': 2241, '지난주': 4056, '똑같다': 1390, '붓다': 2121, '12시': 21, '일텐데': 3581, '이드': 3395, '복수': 2034, '유치하다': 3315, '을해': 3341, '삶': 2287, '히': 4990, '드네': 1308, '유산': 3302, '도데': 1222, '체': 4280, '어디가': 2887, '구해': 555, '어딜': 2889, '중요하다': 4025, '구입': 551, '방치': 1911, '으로도': 3330, '샘': 2329, '유도': 3290, '갈수': 225, '냉동': 907, '냉장고': 908, '앱': 2855, '비정상': 2155, '허무하다': 4829, '그대': 618, '절대로': 3799, '은근': 3335, '이상은': 3444, '쭉': 4171, '그렇지만': 635, '8년': 107, '가망': 177, '장담': 3705, '너무나도': 916, '유부': 3301, '대요': 1148, '공무원': 470, '밀리다': 1818, '전역': 3787, '이를': 3422, '패션': 4597, '모유': 1670, '먹이': 1603, '번은': 1949, '차이나다': 4205, '무지': 1734, '11시': 18, '사가다': 2205, '라나': 1411, '수원': 2506, '시티': 2608, '팬티': 4601, '색깔': 2328, '하고는': 4689, '주식': 3978, '형님': 4870, '아주머니': 2775, '무겁다': 1704, '과거': 488, '엉망': 2968, '땀': 1362, '떼': 1383, '발악': 1886, '집도': 4128, '여고생': 3008, '또는': 1386, '하고도': 4690, '멍청이': 1617, '수많다': 2494, '태양': 4493, '긋다': 681, '100년': 5, '물가': 1754, '괴물': 517, '빽': 2187, '인대': 3516, '몰려오다': 1688, '우산': 3223, '비서': 2145, '등골': 1339, '꼬': 793, '미안': 1794, '15년': 26, 'sm': 142, '20년': 48, '개뿔': 287, '흉기': 4968, '인권': 3514, '지지다': 4083, '복지': 2036, '재단': 3722, '비리': 2139, '연관': 3046, '굉장하다': 518, '세우다': 2430, '사형': 2262, '운행': 3238, '300억': 69, '헬조선': 4848, '화성': 4905, '발목': 1883, '덩어리': 1204, '치매': 4379, '단독': 1055, '속보': 2464, '억울하다': 2929, '부가': 2051, '이나라': 3381, '재벌': 3728, '마스크': 1495, '담그다': 1088, '내지': 903, '이어폰': 3463, '60': 97, '열리다': 3072, '슬프다': 2559, '독감': 1240, '오브': 3135, '기적': 730, '복귀': 2033, '이재용': 3477, '구속': 548, '야근': 2860, '동시': 1272, '낮': 884, '개판': 294, '헤': 4842, '벌': 1952, '흐름': 4970, '도전': 1237, '헌법': 4836, '조각': 3878, '박태환': 1858, '여론': 3015, '브렉': 2128, '시트': 2607, '이루어지다': 3420, '백퍼': 1936, '쿠데타': 4442, '혁명': 4852, '잡고': 3692, '미개하다': 1778, '바퀴벌레': 1839, '뮤': 1774, '군부': 577, '적어도': 3766, '지옥': 4076, '프랑스': 4660, '수백': 2496, '그림': 640, '섬': 2397, '끌리다': 820, '살림': 2273, '부끄럽다': 2053, '오픈': 3145, '대충': 1162, '워낙': 3252, '테': 4509, '장기': 3702, '자랑': 3625, '한마디': 4741, '사하다': 2261, '우울증': 3229, '자동차': 3623, '쉽다': 2532, '퇴사': 4539, '의지': 3367, '예의': 3112, '자로': 3627, '500': 89, '걷다': 330, '13': 23, '넓다': 922, '무조건': 1732, '가두다': 166, '외우다': 3195, '체중': 4281, '집단': 4127, '무릎': 1716, '싸다': 2689, '대책': 1158, '에나': 2977, '말로': 1551, '루리웹': 1465, '늘어나다': 1009, '건물': 328, '끈': 815, '배신': 1924, '나빠지다': 847, '해외': 4799, '출장': 4352, '대기업': 1122, '지치다': 4086, '쌤': 2699, '붙이': 2123, '돌이': 1257, '해롭다': 4790, '택배': 4498, '토익': 4521, '갖추다': 270, '투자': 4545, '16': 27, '진도': 4104, '따라가다': 1350, '부터는': 2080, '동기': 1262, '청년': 4276, '통보': 4528, '들어서다': 1330, '노': 938, '녀': 933, '늙다': 1010, '써주다': 2702, '감히': 246, '빚': 2166, '갚다': 273, '무능하다': 1710, '오래되다': 3126, '실망하다': 2653, '무난': 1707, '이동': 3393, '잃다': 3584, '생리통': 2336, '처분': 4248, '기각': 684, '맛있다': 1563, '박정희': 1855, '특검': 4555, '프로야구': 4663, '중계': 4014, '결방': 369, '라운드': 1422, '만들어지다': 1527, '잊혀지다': 3607, '입학': 3601, '외다': 3191, '싸지르다': 2693, 'pc': 137, '애쓰다': 2848, '부결': 2052, '과의': 492, '정신차려라': 3830, '동양인': 1274, '호주': 4884, '갓': 251, '겪다': 362, '인구': 3513, '1조': 41, '차로': 4197, '더위': 1193, '놀이': 966, '만도': 1524, '인도': 3518, '경유': 386, '커쇼': 4418, 'ai': 116, '회수': 4941, '90': 110, '빨르다': 2181, '대세': 1145, '소비자': 2451, '파다': 4571, '봄': 2045, '추락': 4327, '꼴': 797, '업자': 2958, '날아가다': 867, '약물': 2867, '위대하다': 3273, '보일러': 2022, '일베': 3559, '디지다': 1347, '모기': 1661, '굳다': 581, '성형': 2416, '강국': 253, '넘어서다': 926, '단체': 1065, '빌다': 2163, '외교': 3186, '사찰': 2258, '아치': 2780, '좌파': 3950, '영국': 3083, '마인드': 1502, '심해': 2681, '인기': 3515, '찌질하다': 4180, '넌': 920, '상대': 2299, '벗다': 1970, '져서': 3876, '위성': 3276, '교사': 524, '겟': 356, '다지': 1044, '밟다': 1893, '대하': 1167, '스스로': 2544, '국': 557, '교대': 521, '화나다': 4902, '단말': 1057, '가정': 194, '밤새': 1895, '유통': 3316, '공익': 479, '당당하다': 1099, '고려': 420, '즐겁다': 4034, '인맥': 3522, '첫째': 4273, '문득': 1742, '짝': 4149, '후기': 4947, '널': 921, '믿음': 1815, '종일': 3942, '곱다': 458, '예비': 3103, '10만원': 11, '에게도': 2975, '단순하다': 1060, '재다': 3721, '남아': 875, '마감': 1483, '망': 1564, '나나': 837, '여자애': 3027, '감성': 240, '실망': 2652, '오후': 3148, '체질': 4282, '일상': 3567, '전형': 3794, '서민': 2355, '계기': 397, '전체': 3792, '아베': 2755, '김정은': 760, '재판': 3734, '정식': 3825, '출시': 4349, '헤어': 4843, '빨': 2177, '추': 4324, '관광': 501, '흥행': 4984, '고등어': 415, '집권': 4125, '짜리': 4146, '당분간': 1100, 'k': 127, '기상청': 715, '저걸': 3742, '천': 4253, 'epl': 122, '삽질': 2293, '김밥': 752, '시호': 2611, '내주다': 902, '감추다': 244, '올림픽': 3159, '득': 1318, '저장': 3756, '사상': 2233, '검증': 340, '철저하다': 4267, '운명': 3234, '학살': 4722, '산업': 2268, '꽃뱀': 804, '요금': 3200, '김연아': 756, '차량': 4195, '환장하다': 4929, '최신': 4314, '행정': 4821, '쓸데없다': 2724, '매번': 1582, '아시아': 2761, '나가야': 835, '수명': 2495, '불구': 2101, '통신사': 4530, '덮다': 1205, '필': 4679, '안전': 2808, '단속': 1059, '강화하다': 268, '태블릿': 4492, '희생': 4987, '연예인': 3064, '한순간': 4745, '천천히': 4261, '반전': 1874, '튀어나오다': 4549, '회': 4938, '참석': 4219, '내야': 899, '잡': 3691, '목': 1679, '식당': 2617, '졸리다': 3926, '직무': 4094, '인턴': 3546, '돕다': 1259, '여주': 3030, '꽉': 805, '힘내다': 4996, '아픔': 2785, '이자': 3475, '말르다': 1552, '축하': 4343, '2시간': 63, '뽑히다': 2196, '19일': 32, '으로서': 3332, '9일': 113, '날리다': 864, '후반': 4948, '이민호': 3433, '김수현': 754, '송중기': 2482, '현빈': 4858, '조인성': 3902, '공유': 478, '이사': 3442, '만만하다': 1528, '폐기': 4626, '감동': 235, '4일': 86, '타지': 4473, '발라': 1881, '저절로': 3757, '하얗다': 4707, '사소하다': 2236, '흡연': 4980, '기만': 703, '주일': 3987, '순식간': 2520, '정당': 3814, '마사지': 1494, '대만': 1133, '금': 668, '한계': 4730, '아부지': 2756, '29': 60, '형돈': 4871, '어쩌다': 2917, '다스리다': 1036, '기술': 720, '서든': 2351, '태도': 4490, '재석': 3730, '연예': 3062, '병규': 1991, '연인': 3065, '자동': 3622, '연장': 3066, '매우': 1584, '플': 4666, '즈': 4030, '재계약': 3718, '유명하다': 3299, '최소': 4312, '외모': 3194, '열폭': 3076, '밀당': 1817, '귀찮다': 599, '태연': 4495, '안티': 2816, '쭉쭉': 4172, '헬조센': 4849, '기대다': 694, '업데이트': 2956, '난민': 859, '인척': 3541, '하드': 4699, '통제': 4533, '유전자': 3307, '방금': 1902, '쌓이다': 2698, '좃': 3934, '시끄럽다': 2575, '발상': 1884, '우승하다': 3226, '한해': 4760, '노예': 949, '묵다': 1738, '일등': 3554, '죄인': 3955, '굴': 583, '독재': 1244, '강력하다': 257, '민주주의': 1811, '행사': 4819, '지도자': 4063, '판이': 4588, '질투': 4121, '이불': 3439, 'fa': 123, '친일': 4387, '주장': 3988, '수상': 2499, '쩍': 4160, '오승환': 3137, '가수': 184, '무대': 1712, '찬양': 4213, '치기': 4374, '블루': 2131, '백인': 1934, '로운': 1458, '으로만': 3331, '상관': 2295, '2017년': 47, '그나저나': 610, '파괴': 4570, '이야말로': 3460, '이쯤': 3493, '연출': 3067, '한숨': 4746, '만들기': 1525, '대출': 1161, '중학교': 4027, '갈수록': 226, '자국': 3614, '세번': 2427, '침수': 4396, '모자': 1674, '청': 4274, '랄': 1428, '어보': 2905, '수능': 2490, '제시': 3861, '중이': 4026, '추석': 4330, '시골': 2569, '재미없다': 3725, '얼른': 2945, '전문': 3778, '늘리다': 1008, '흙': 4978, '섞다': 2368, '준': 4003, '면허': 1639, '18년': 30, '대중': 1156, '낭비': 883, '이전': 3480, '여야': 3021, '손실': 2473, '창피해': 4226, '매달': 1579, '너무도': 917, '물이': 1763, '데리': 1209, '평범하다': 4620, '주기': 3960, '45': 82, '개정': 293, '미련': 1785, '고발': 427, '회원': 4942, '합치다': 4776, '뭉치다': 1765, '깊다': 769, '가스': 185, '감사': 238, '자세하다': 3636, '랑은': 1431, '주시': 3977, '타격': 4466, '소중하다': 2459, '아웃': 2766, '예측': 3116, '며칠': 1633, '공장': 480, '1월': 39, '맡기다': 1572, '5일': 95, '시설': 2589, '5분': 92, '잘쓰다': 3681, '치가': 4372, '기전': 731, '무리뉴': 1718, 'kbo': 128, '브라질': 2126, '마저': 1503, '로마': 1453, '기어': 722, '침': 4393, '음주운전': 3347, '아오': 2764, '모로': 1665, '태우다': 4496, '리더': 1473, '시리즈': 2582, '폭스바겐': 4640, '이웃': 3470, '기기': 688, '영장': 3089, '이돈': 3392, '한혜진': 4761, '일반인': 3558, '센터': 2439, '이색': 3446, '몫': 1685, '형제': 4874, '찢다': 4184, '이후': 3502, '남성': 874, '대우': 1149, '정확하다': 3850, '팔이': 4595, '타자': 4472, '보안': 2017, '제공': 3852, '신뢰': 2631, '와의': 3169, '싸이코': 2692, '헌재': 4837, '무선': 1723, '바치다': 1837, '차려': 4196, '여유': 3023, '식품': 2620, '정신과': 3827, '보신': 2015, '이니까': 3385, '막판': 1516, '고구마': 412, '한잔': 4750, '버튼': 1943, '가시': 187, '보톡스': 2028, '평균': 4619, '섹시하다': 2437, '스럽게': 2541, '방문': 1903, '흥미': 4982, '사르다': 2224, '성공하다': 2402, '외치다': 3197, '보호': 2031, '여자도': 3026, '음악': 3344, '앙': 2835, '주가': 3958, '캐다': 4410, '속상하다': 2465, '구나': 535, '에다가': 2981, '쥐다': 4029, '시청': 2602, '호텔': 4885, '만으로도': 1534, '근래': 657, '허허': 4833, '캐럿': 4411, '갈아': 227, '치우다': 4382, '그저': 647, '통화': 4536, '집다': 4126, '누진': 989, '소속사': 2453, '속초': 2467, '12월': 22, '기차': 734, '미국인': 1780, '이승엽': 3453, '명단': 1646, '스런': 2540, '짓다': 4139, '좆': 3944, '비상': 2144, '법적': 1967, '앉다': 2819, '광화문': 511, '길거리': 742, '달려오다': 1078, 'mbc': 133, '자업자득': 3640, '햐': 4823, '추산': 4329, '집회': 4136, '손석희': 2472, '감방': 236, '무슬림': 1726, '임금': 3587, '옆집': 3098, '라며': 1418, '대응': 1151, '뻔': 2190, '어마어마하다': 2900, '유난히': 3288, '고장': 440, '유독': 3291, '어선': 2908, '탐지기': 4483, '설치': 2394, '조국': 3880, '쌀': 2695, '독일': 1243, '장애': 3710, '표시': 4649, '까지만': 774, '신의': 2638, '똥꼬': 1395, '식민지': 2618, '한강': 4728, '탈퇴': 4482, '신부': 2634, '불쌍하다': 2113, '깡': 782, '그네': 613, '방탄': 1912, '하필': 4717, '와중': 3172, '깜놀': 778, '법원': 1966, '총장': 4303, '마약': 1497, '다나': 1025, '사지': 2256, '한시': 4747, '멋': 1613, '실화': 2668, 't': 144, '김혜수': 768, '김태희': 766, '대국': 1117, '의무': 3356, '김고은': 747, '뇬': 978, '처': 4243, '주름': 3966, '바닥': 1826, '가치': 202, '11': 17, '벌레': 1955, '작고': 3656, '자유롭다': 3645, '일당': 3552, '깜짝': 780, '존경': 3917, '차이나': 4204, '올려주다': 3157, '린': 1480, '잡지': 3696, '라인': 1424, '취향': 4367, '할인': 4767, '이벤트': 3435, '랭킹': 1436, '가방': 179, '제보': 3859, '죄송하다': 3954, '방구': 1900, '아끼다': 2737, '일로': 3555, '손가락': 2469, '겨우': 359, '헛': 4840, '만남': 1522, '으론': 3334, '래야': 1434, '부부': 2066, '사단': 2215, '춤': 4355, '어느새다': 2885, '아름답다': 2745, '홈런': 4894, '만능': 1523, '간장': 216, '이동욱': 3394, '캐스팅': 4413, '범인': 1960, '신화': 2647, '분노': 2088, '각성': 206, '기획사': 737, '조합': 3912, '탑': 4484, '두번째': 1290, '터키': 4504, '쿠테타': 4443, '박효신': 1860, '하위': 4710, '625': 98, '개봉': 286, '피디': 4671, '누군지': 983, '캬': 4415, '맹구': 1594, '냄비': 905, '흰색': 4989, '살인마': 2281, '견디다': 363, '훌륭하다': 4958, '간첩': 218, '하여튼': 4709, '새삼': 2324, '강원도': 261, '스케일': 2547, '축': 4339, '최종': 4319, '칼럼': 4406, '에너지': 2978, '외국인': 3190, '대머리': 1134, '팩트': 4599, '피해자': 4678, '코스프레': 4436, '황교안': 4934, '나물': 846, '이진욱': 3492, '보상': 2011, '세이브': 2433, '령': 1448, '짝퉁': 4150, '짱개': 4154, '지상': 4072, '자네': 3619, '뿌듯하다': 2198, '문신': 1743, '병신년': 1993, '최초': 4320, '시청자': 2604, '데리다': 1210, '거짓말': 317, '존예': 3919, '용병': 3213, '이대': 3388, '멋있다': 1614, '의경': 3353, '더니': 1187, '농민': 969, '금메달': 669, '쩐다': 4161, '정치인': 3847, '세기': 2421, '미터': 1800, '코딩': 4433, '똑똑하다': 1392, '트리': 4553, '완벽하다': 3173, '둘이서': 1294, '젝키': 3872, '육아': 3321, '댓글달다': 1182, '36': 76, '댕': 1184, '사스': 2238, '오름': 3132, '십': 2683, '달성': 1081, '책상': 4238, '놀랍다': 963, '감탄': 245, '따름': 1354, '쫙': 4170, 'lg': 132, '주연': 3981, '신기': 2625, '전이': 3789, '검색어': 339, '20억': 51, '저딴': 3746, '영웅': 3087, '집행': 4135, '검': 335, '과학': 496, '근거': 654, '1억': 38, '트와이스': 4554, '정우성': 3832, '청문회': 4277, '엘쥐': 3002, '귀국': 596, '먹튀': 1605, '인정': 3535, '태국': 4488, '친일파': 4388, '김': 745, '아바타': 2753, '김기춘': 750, '꿈꾸다': 813, '린다': 1481, '고객': 411, '쏙': 2708, '전설': 3783, '신제품': 2642, '잘생기다': 3680, '떨어뜨리다': 1380, '뺨': 2189, '31': 72, '작가': 3655, '대본': 1138, '폭행': 4644, '구현': 556, '하차': 4714, '파면': 4575, '돼지': 1279, '유린': 3296, '만행': 1542, '이휘재': 3503, '이정': 3481, '근성': 660, '달라지다': 1074, '야신': 2863, '장소': 3709, '냔': 911, '택시': 4499, '자랑스럽다': 3626, '인걸': 3509, '소원': 2457, '모자라다': 1675, '반하다': 1876, '홈': 4893, '슈퍼': 2536, '달걀': 1069, '김종국': 762, '송지효': 2483, '치네다': 4375, '구경': 533, '퇴': 4537, '뛰어나다': 1399, '콩': 4440, '동물학대': 1268, '적용': 3767, '징역': 4142, '위안부': 3277, '소녀': 2444, '무죄': 1733, '시급': 2572, '등장': 1343, '콘서트': 4439, '200만': 45, '십자가': 2685, '회장': 4943, '핑계': 4685, '지시': 4073, '박영선': 1852, '클라스': 4454, '초월': 4294, '이적': 3479, '200': 44, '원가': 3255, '대행': 1174, '잔치': 3670, '파워': 4578, '사이비': 2249, '제외': 3863, '끝판': 827, '불펜': 2117, '민심': 1805, 'pd': 138, '양반': 2873, '7년': 102, '연속': 3056, '홍어': 4897, '듯이': 1337, '증말': 4039, '윤길현': 3322, '구먼': 542, '김종민': 763, '빈': 2162, '벗기다': 1969, '라미란': 1420, '10억': 13, '부럽다': 2061, '광희': 512, '리도': 1474, '거도': 304, '클래스': 4455, '연합': 3068, '목사': 1680, '친박': 4386, '이완영': 3467, '2만': 62, '토론': 4518, '카리스마': 4401, '당한': 1107, '최형우': 4321, '시절': 2599, '대접': 1155, '강제': 263, '버': 1938, '말아먹다': 1556, '농단': 968, '자금': 3616, '장사': 3708, '정준영': 3839, '장창': 3715, '짱깨': 4155, '일본도': 3563, '고소하다': 431, '토나오다': 4517, '사기꾼': 2212, '블랙': 2129, '핑크': 4686, '매수': 1583, '온갖': 3152, '호': 4877, '병자': 1995, '쪽바리': 4165, '스타': 2549, '수저': 2510, '그룹': 636, '금은': 674, '대학생': 1170, '어버버': 2903, '교통': 529, '한남': 4735, '100억': 8, '통과': 4526, '김치': 765, '류준열': 1467, '원금': 3256, '억': 2928, '진정': 4110, '좁다': 3933, '계란': 398, '퀴': 4447, '폭염': 4641, '바가지': 1822, '속국': 2462, '박보검': 1844, '문제점': 1747, '드뎌': 1309, '천사': 4258, '혜리': 4876, '박명수': 1843, '현대': 4856, '와우': 3168, '부들부들': 2058, '국민성': 562, '의리': 3355, '여왕': 3022, '쿨하다': 4444, '어쩜': 2922, '하나님': 4693, '이십': 3456, '기독교': 697, '150억': 25, '식겁하다': 2613, '10일': 15, '여의도': 3024, '1등': 34, '운': 3232, '스케이트': 2546, '의심스럽다': 3362, '무식하다': 1729, '양심': 2875, '박수': 1848, '모가지': 1660, '단어': 1061, '일부': 3565, '국회': 572, '메': 1619, '대국민': 1118, '음원': 3345, '성매매': 2406, '애국': 2842, '힐러리': 4993, '재미있다': 3726, '씬': 2729, '히트': 4991, '선생': 2375, '캐릭터': 4412, '예능': 3100, '깝': 781, '주인공': 3986, '대통': 1163, '측근': 4369, '새해': 2325, '김광현': 748, '유명': 3298, '종자': 3943, '납득': 880, '메시': 1623, 'g': 124, '부패': 2082, '존잘': 3920, '죄다': 3953, '기억나다': 724, '아무나': 2748, '갱': 298, '중국인': 4018, '강정호': 262, '카': 4398, '윤선': 3324, '뽕': 2197, '어리석다': 2897, 'sns': 143, '메이져': 1625, '외교관': 3187, '이준기': 3487, '참여': 4220, '엄지': 2951, '선언': 2378, '대위': 1150, '7시간': 104, '리스트': 1476, '여지': 3031, '울리다': 3241, '차선': 4200, '딴': 1360, '특혜': 4558, '국기': 559, '태극기': 4489, '교육부': 527, '드물다': 1317, '허위': 4832, '누': 979, '마리': 1491, '작살': 3660, '공짜': 483, '어쩐지': 2920, '짖다': 4143, '맨시티': 1592, '빠순이': 2172, '자칭': 3652, '시달리다': 2576, '새누리당': 2320, '세금': 2420, '헌': 4835, '자리다': 3631, '개한민국': 296, '훅': 4955, '30년': 70, '애초': 2850, '간도': 213, '통법': 4527, '무덤': 1713, '테블릿': 4513, '만화': 1543, '닷': 1097, '인양': 3530, '웬만하다': 3270, '은희': 3340, '주먹': 3970, '적극': 3762, '자퇴': 3653, '단위': 1062, '율': 3326, '팔리다': 4593, '대다수': 1125, '도둑질': 1224, '채널': 4233, '베댓': 1974, '이민자': 3432, '교회': 531, '교민': 523, '대사관': 1142, '작두': 3659, '검다': 336, '내보내다': 897, '연기자': 3051, '차고': 4188, '정책': 3843, '자녀': 3620, '만원': 1532, '탄생': 4474, '물리다': 1760, '몇십': 1658, '화웨이': 4906, '땜시': 1371, '완성': 3174, '광복절': 508, '행진': 4822, '밀다': 1816, '전북': 3782, '책임': 4239, '한결같다': 4729, '형사': 4873, '빨다': 2180, '에서만': 2988, '일어나서': 3570, '2일': 65, '먹음': 1602, '최저': 4318, '도구': 1217, '뜬금없이': 1403, '탈': 4476, '멀쩡하다': 1611, '눈물': 993, '졸라': 3924, '매력': 1581, '가득': 167, '마누라': 1485, '스러운': 2539, '간단하다': 212, '데려오다': 1208, '사오다': 2243, '빼먹다': 2186, '임대': 3589, '닥': 1048, '재현': 3735, '통해': 4535, '진단': 4103, '벌리다': 1956, '찬': 4211, '사람과': 2220, '친척': 4390, '과정': 495, '안타': 2814, '판치다': 4589, '며': 1631, '캐나다': 4409, '비롯': 2138, '기온': 726, '슈가': 2534, '쇼핑': 2486, '연기력': 3050, '대박나다': 1137, '사면': 2228, '투입': 4544, '유망': 3297, '후진국': 4953, '크보': 4452, '엔씨': 3000, '연승': 3059, '순수하다': 2519, '이익': 3474, '불량': 2105, '군사': 578, '기밀': 705, '유출': 3313, '출동': 4345, '털리다': 4508, '소환': 2460, '임창정': 3592, '삥': 2203, '잠수함': 3688, '석': 2367, '자료': 3628, '촬영': 4304, '강동원': 256, '씹다': 2730, '별거': 1988, '조선시대': 3893, '리버풀': 1475, '기사도': 713, '100만': 6, '강팀': 264, '더욱더': 1192, '민중': 1812, '박영수': 1853, '댓': 1180, '출연': 4351, 'sk': 141, '뇌물죄': 977, '곰탕': 456, '버티고': 1944, '정성룡': 3824, '슈틸리케': 2535, '폼': 4646, '넹': 932, '대기': 1121, '퍼거슨': 4603, '빛나다': 2168, '국방': 564, '끌어내리다': 821, '컴': 4423, '롤': 1460, '대리': 1132, '열자': 3074, '정작': 3838, '푸틴': 4653, '과학자': 497, '신가': 2622, '음주': 3346, '기부': 708, '꾸준하다': 808, '느리다': 1004, '유차': 3312, '양현종': 2878, '댓글알바': 1183, '승리': 2562, '민노총': 1804, '제주': 3867, '도망': 1227, '총살': 4302, '저승사자': 3755, '노홍철': 956, '김구라': 749, '담화': 1092, '외교부': 3188, '잡기': 3693, '강남': 254, '드론': 1314, '무상': 1721, '반찬': 1875, '희망': 4986, '민국': 1803, '꼴찌': 799, '창조경제': 4224, '거짓말쟁이': 318, '단단하다': 1054, '능': 1013, 'dna': 121, '양준혁': 2877, '간만': 214, '야구': 2858, '용이': 3215, '근혜': 663, '중심': 4023, '70': 101, '천만원': 4256, '나이스': 853, '국정': 568, '최고다': 4308, '방수': 1909, '온도': 3153, '갈이': 228, '화이팅': 4907, '백선생': 1932, '국산': 566, '횃불': 4937, '현기': 4855, '조센징': 3895, '미모': 1788, '살인죄': 2283, '단종': 1063, '기득권': 698, '사유': 2246, '밥상': 1897, '차기': 4190, '너희': 919, '국적': 567, '추진': 4335, '조사해': 3890, '알리': 2824, '갑질': 249, '민족': 1808, '류현진': 1468, '사리': 2225, '냥': 912, '몸값': 1695, '꽂다': 802, '실아': 2658, '어딨다': 2890, '변호사': 1984, '정형돈': 3848, '이시영': 3454, '막말': 1513, '알파': 2828, '손연재': 2474, '가뜩이나': 170, '구치소': 554, '매국노': 1576, '지고': 4047, '교과서': 520, '대규모': 1120, '냉정하다': 909, '원더걸스': 3257, '혁신': 4853, '총리': 4301, '화보': 4904, '사나': 2213, '누진세': 990, '식이': 2619, '솔로': 2480, '데뷔': 1211, '지코': 4088, '부활': 2083, '철면피': 4265, '가결': 154, '삼류': 2290, '친정': 4389, '10조': 16, '앉히다': 2820, '결말': 368, '불평': 2119, '경기도': 380, '흥': 4981, '10월': 14, '옹': 3165, '혈': 4864, '세로': 2426, '세력': 2425, '35': 75, '포그바': 4629, '펑펑': 4605, '파티': 4580, '천하': 4262, '고의': 437, '똑': 1389, '이중': 3488, '육': 3320, '김경숙': 746, '팔고': 4591, '하므다': 4704, '정화': 3849, '불리다': 2106, '개입': 292, '설정': 2393, '위치': 3280, '무지하다': 1735, '한글': 4733, '지기': 4050, '당시': 1102, '의견': 3352, '심정': 2677, '몽': 1700, '외제차': 3196, '왕따': 3179, '턱': 4505, '말리다': 1553, '영하': 3092, '명품': 1654, '해설': 4797, '았': 2834, '쇼': 2485, '산다': 2266, '면상': 1635, '공간': 463, '알리다': 2825, '오바마': 3133, '오호': 3147, '동성애': 1271, '최재원': 4317, '국정교과서': 569, '정직하다': 3842, '100만원': 7, '이재학': 3478, '먹히다': 1606, '문죄인': 1748, '북괴': 2085, '애국자': 2843, '부': 2050, '자진': 3649, '체포': 4284, '삼족': 2292, '넥센': 931, '허락': 4827, '스위스': 2545, '거지같다': 315, '상도': 2302, '로또': 1452, '편집': 4615, '유라': 3292, '읍': 3348, '해고': 4783, '안민석': 2804, '의원님': 3366, '개편': 295, '실패': 2665, '환': 4920, '현대차': 4857, '녀석': 934, '잔뜩': 3667, '위증': 3278, '비유': 2152, '사법부': 2232, '분석': 2092, '깜방': 779, '설다': 2388, 'mc': 134, '랩': 1435, '파리': 4574, '잘만': 3677, '김여사': 755, '공약': 476, '인종차별': 3537, '섭외': 2398, '이세영': 3450, '빡치다': 2176, '구르다': 538, '애도': 2845, '엑소': 2998, '잘나가다': 3673, '주네': 3961, '노답': 939, '질서': 4119, '맥주': 1589, '1만': 35, '선정': 2380, '에혀': 2996, '어쩌라고': 2918, '예수': 3107, '약정': 2870, '가지가지': 199, '절반': 3800, '이명': 3427, '아프리카': 2784, '뒤통수': 1304, '최소한': 4313, '목적': 1683, 'yg': 149, '처형': 4251, '종북': 3938, '이슈': 3451, '호날두': 4882, '다루다': 1028, '불매운동': 2109, '인민재판': 3524, '신의한수': 2639, '슬쩍': 2558, '파업': 4577, '주의자': 3984, '신선하다': 2637, '하나같이': 4692, '쇠': 2484, '사극': 2210, '정은': 3835, '이하고': 3498, '센스': 2438, '티파니': 4566, '사생활': 2234, '까발리다': 770, '코미디': 4434, '법정': 1968, '물고기': 1756, '맑다': 1558, '10분': 12, '영태': 3090, '몰입도': 1692, '홧팅': 4932, '안내': 2799, '사연': 2242, '연금': 3048, '변호': 1983, '수장': 2509, '차지': 4207, '누님': 986, '응징': 3351, '이완용': 3468, '학대': 4721, '전두환': 3775, '쉴드': 2531, '수용': 2505, '배려': 1922, '개똥': 284, '스텝': 2551, '서비스': 2356, '지하': 4090, '다섯': 1035, '도시락': 1231, '환자': 4928, '곡': 450, '참내': 4217, '고맙다': 423, '양은': 2876, '고하': 446, '둥': 1296, '매장': 1586, '소개팅': 2443, '박살': 1847, '듣기': 1322, '커녕': 4416, '계좌': 405, '이병규': 3437, '진출': 4114, '걸레': 333, '기관': 687, '참가': 4214, '서용빈': 2359, '역사상': 3039, '최강': 4306, '승부조작': 2565, '시발': 2585, '대의': 1152, '꿀잼': 811, '미사일': 1789, '순이': 2522, '작정': 3664, '버전': 1942, '맘대로': 1560, '스토리': 2552, '주심': 3980, '서장훈': 2365, '죽지': 4002, '귀가': 595, '률': 1469, '개돼지': 282, '노벨상': 947, '덴마크': 1214, '허용': 4831, '민아': 1806, '땡': 1372, '고래': 419, '제한': 3871, '저년': 3745, '무당': 1711, '노잼': 951, '와이': 3170, '힘없다': 4999, '잼': 3736, '연설': 3055, '앨범': 2854, '양세형': 2874, '꼴통': 800, '크리스마스': 4451, '보상금': 2012, '번역': 1948, '시세': 2590, '기미': 704, '카더라': 4399, '드럽다': 1313, '엠비씨': 3004, '촛불집회': 4298, '디젤': 1346, '엄정화': 2950, '중앙': 4024, '광장': 509, '족발': 3914, '비록': 2137, '본받다': 2038, '돌파': 1258, '나무': 845, '시스템': 2592, '에릭': 2983, '며느리': 1632, '대사': 1141, '탈세': 4479, '미숙': 1792, '비박': 2142, '꾼': 809, '긴급': 738, '마이너': 1501, '해대': 4787, '매국': 1575, '존': 3916, '료': 1462, '그만큼': 644, '서해': 2366, '한류': 4740, '하여간': 4708, '부역': 2070, '혈세': 4865, '살인자': 2282, '일베충': 3560, '따위': 1355, '훨': 4960, '천벌': 4257, '반드시': 1869, '더럽히다': 1189, '환수': 4925, '수조': 2511, '누굴': 984, '지나치다': 4054, '시원찮다': 2594, '끌다': 819, '멍청하다': 1618, '물러나다': 1758, '약자': 2869, '쏟다': 2709, '지랄': 4064, '자격': 3610, '가해자': 204, '이참': 3494, '게이트': 353, '공범': 471, '박히다': 1861, '역겹다': 3036, '이명박': 3428, '엄벌': 2949, '즉각': 4032, '철회': 4268, '점령': 3804, '박아': 1851, '이던': 3391, '변호인': 1985, '구성': 547, '감빵': 237, '오죽하다': 3140, '곱': 457, '졸다': 3923, '누리': 988, '진상': 4106, '미개': 1777, '용서': 3214, '리지': 1478, '김영재': 758, '국민연금': 563, '에게는': 2974, '맙시': 1561, '공화국': 486, '노조': 952, '우롱': 3219, '해석': 4796, '좌빨': 3948, '경질': 391, '흉': 4967, '몰수': 1691, '아가리': 2734, '썅': 2700, '화형': 4912, '유가족': 3287, '싸가지': 2688, '노동자': 941, '좀해': 3932, '문체부': 1749, '꼭두각시': 796, '처참하다': 4250, '권리': 590, '콩밥': 4441, '년놈': 936, '마치다': 1508, '전기차': 3772, '진작': 4109, '우기다': 3217, '족치다': 3915, '나대다': 840, '파란': 4573, '늙은이': 1011, '조치': 3909, '자빠지다': 3633, '팍팍': 4581, '이정현': 3482, '죄값': 3952, '노승': 948, '게다': 348, '신들': 2629, '파악': 4576, '구리다': 539, '불쌍': 2112, '일제': 3577, '타령': 4470, '품질': 4659, '이래도': 3411, '쓰래': 2716, '윤병세': 3323, '진실': 4107, '망치다': 1568, '개떡같다': 283, '쑤다': 2711, '시행': 2609, '염병': 3078, '키드': 4461, '방통위': 1914, 'c': 118, '후손': 4951, '쯧쯧': 4174, '청구': 4275, '극우': 651, '멸': 1641, '평일': 4623, '구역질': 550, '구제': 552, '불능': 2103, '질질': 4120, '돌려주다': 1251, '항의': 4780, '조장': 3904, '딱이다': 1358, '닭그네': 1084, '클린': 4458, '부터가': 2079, '신상': 2636, '유죄': 3308, '퉤퉤': 4547, '워치': 3253, '위증죄': 3279, '트럭': 4551, '해산': 4795, '쪽발이': 4166, '라라': 1416, '기복': 706, '불매': 2108, '한치': 4755, '지적': 4081, '조절': 3905, '추하다': 4338, '환경부': 4922, '사악하다': 2240, '잣': 3699, '몽둥이': 1701, '왜놈': 3181, '비아그라': 2148, '이세': 3449, '색기': 2327, '빙': 2165, '방산': 1906, '상청': 2311, '주둥이': 3965, '인용': 3532, '사용자': 2245, '증언': 4042, '훈훈하다': 4957, '국방부': 565, '무능': 1709, '테임': 4515, '이루다': 3419, '거래': 307, '극혐': 652, '독도': 1241, '박통': 1859, '자괴': 3613, '금수': 671, '핫': 4777, '박원순': 1854, '된장': 1284, '필수': 4681, '저승': 3754, '악질': 2789, '독재자': 1245, '썩을': 2704, '노동': 940, '최씨': 4315, '동상': 1269, '맥': 1588, '족': 3913, '손해배상': 2477, '재수없다': 3732, '짜르': 4145, '핵심': 4811, '사법': 2231, '빡': 2174, '탕': 4486, '입국': 3594, '고인': 438, '실명': 2654, '반납': 1867, '고향': 449, '꿀': 810, '굿': 585, '명의': 1651, '민영화': 1807, '느그': 1000, '정이': 3837, '사먹다': 2227, '사퇴': 2260, '탈탈': 4481, '파이팅': 4579, '깔끔하다': 776, '최선': 4311, '영감': 3082, '탱': 4500, '괴롭다': 515, '대갈': 1113, '비호감': 2160, '언제나': 2938, '감사하다': 239, '계집': 406, '비우다': 2150, '예외': 3110, '손해': 2476, '세차': 2434, '등신': 1342, '호갱': 4880, '빠리': 2171, '처단': 4244, '역할': 3044, '허가': 4825, '닥치고': 1050, '염색': 3079, '씨부리다': 2727, '땅콩': 1364, '해치다': 4806, '이따위': 3399, '증인': 4043, '박씨': 1850, '가만': 175, '변기': 1979, '정신병원': 3829, '차도': 4193, '제조': 3866, '미달': 1783, '통일': 4531, '철도': 4264, '한나라': 4734, '조의연': 3901, '닥년': 1049, '찾아내다': 4229, '둥이': 1298, '졸리': 3925, '반박': 1870, '비웃다': 2151, '미우다': 1797, '액션': 2852, '비정규직': 2154, '방송국': 1908, '단지': 1064, '기쁘다': 710, '민주': 1809, '시바': 2584, '조상': 3891, '공기': 468, '에이스': 2995, '유발': 3300, 'vs': 147, '서운하다': 2360, '만세': 1529, '첫사랑': 4272, '개꿀': 278, '홍콩': 4899, '민가': 1802, '어쨌든': 2914, '고치': 442, '인종': 3536, '끼들': 830, '래서': 1433, '노친': 953, '역적': 3043, '어그': 2882, '비밀': 2141, '경찰청장': 394, '종신형': 3939, '슥': 2556, '귀하다': 600, '악플달다': 2791, '지지자': 4084, '꼼수': 801, '촌': 4295, '놀리다': 965, '금제': 675, '주리': 3967, '살아오다': 2278, '시원': 2593, '특허': 4557, '쌍': 2696, '실드': 2650, '여배우': 3017, '이석기': 3447, '사수': 2237, '가득하다': 168, '오지랖': 3143, '안쓰럽다': 2807, '영토': 3091, '앱등이': 2856, '정윤회': 3834, '유진': 3311, '5만원': 91, '메달': 1621, '실현': 2667, '실전': 2661, '소신': 2456, '진리': 4105, '엑': 2997, '암튼': 2831, '실의': 2659, '고마': 422, '엉': 2965, '생활비': 2345, '피겨': 4668, '유엔': 3304, '챙': 4241, '컴백': 4424, '추억': 4332, '비참하다': 2157, '뭉클하다': 1766, '죽겠네': 3997, '슬픔': 2560, '안녕': 2800, '눈앞': 996, '밝다': 1890, '긍정': 682, '미워하다': 1798, '주간': 3959, '서럽다': 2352, '그립다': 641, '바라보다': 1828, '구석': 546, '스님': 2538, '문과': 1741, '방탈': 1913, '부러': 2060, '성숙하다': 2408, '수고': 2489, '동참': 1277, '오타': 3144, '욤': 3208, '개그': 276, '타고나다': 4468, '젊은이': 3802, '박사': 1845, '합법': 4774, '투어': 4543, '활약': 4931, '연휴': 3069, '호강': 4879, '울컥': 3243, '명복': 1648, '미가': 1776, '삼가다': 2289, '형돈이': 4872, '찌그러지다': 4176, '이랑은': 3409, '각자': 208, '숙이다': 2516, '미소': 1791, '기쁨': 711, '도니': 1220, '야구장': 2859, '힐링': 4994, '본방': 2039, '사랑스럽다': 2223, '출전': 4353, '실천': 2663, '거듭': 306, '차근차근': 4189, '강하늘': 265, '보검': 1997, '영향력': 3094, '성장하다': 2412, '평화롭다': 4625, '빅뱅': 2161, '라디오': 1415, '오래오래': 3127, '미녀': 1782, '대호': 1176, '선하다': 2385, '시그널': 2571, '한수': 4744, '신나다': 2627, '체험': 4285, '이재명': 3476, '코스': 4435, '불가': 2098, '땡큐': 1373, '사이다': 2248, '부정부패': 2074, '귀엽다': 598, '보컬': 2027, '박신혜': 1849, '서인국': 2363, '쵝오': 4323, '장예원': 3712, '성실하다': 2409, '해주시': 4804, '시상식': 2587, '기성용': 717, '케미': 4428, '해피투게더': 4808, '추카': 4337, '역쉬': 3040, '재능': 3720, '연말': 3053, '즐거움': 4033, '든든하다': 1320, '윤아': 3325, '승승장구': 2566, '마음씨': 1499, '김은숙': 759, '감격': 230, '장인': 3714, '레시피': 1442, '요리법': 3202, '집밥': 4129, '기네': 689, '경의': 387, '비법': 2143}\n"
          ],
          "name": "stdout"
        }
      ]
    },
    {
      "cell_type": "code",
      "metadata": {
        "id": "q4D-pvTEPNNB",
        "colab_type": "code",
        "colab": {}
      },
      "source": [
        "# Vectorizing the words in train and test data\n",
        "\n",
        "Train_X_Tfidf = Tfidf_vect.transform(train.Sentence)\n",
        "Test_X_Tfidf = Tfidf_vect.transform(test.Sentence)\n",
        "# Output: — 1: Row number of ‘Train_X_Tfidf’, 2: Unique Integer number of each word in the first row, 3: Score calculated by TF-IDF Vectorizer"
      ],
      "execution_count": 19,
      "outputs": []
    },
    {
      "cell_type": "markdown",
      "metadata": {
        "id": "g7LXkNeRQ5Q0",
        "colab_type": "text"
      },
      "source": [
        "## Machine learning model 1. Naive bayes 2. SVM(support vector machine)\n",
        "We will train the data using Naive Bayes with `naive_bayes.MultinomialNB()`, SVM with `svm.SVC(C=1.0, kernel='linear', degree=3, gamma='auto')`. Then, using test set Sentence, get predicted values. From predicted values and true values of sentiment, we will calculate accuracy using `accuracy_score`, f1-score by using `sk.f1_score`"
      ]
    },
    {
      "cell_type": "code",
      "metadata": {
        "id": "DgQu_W0qPwE8",
        "colab_type": "code",
        "colab": {
          "base_uri": "https://localhost:8080/",
          "height": 51
        },
        "outputId": "a161bfa2-d8b8-43ff-96af-9ff7a3461e46"
      },
      "source": [
        "from sklearn import model_selection, naive_bayes, svm\n",
        "from sklearn.metrics import accuracy_score\n",
        "import sklearn.metrics as sk\n",
        "\n",
        "# fit the training dataset on the NB classifier\n",
        "Naive = naive_bayes.MultinomialNB()\n",
        "Naive.fit(Train_X_Tfidf,Train_Y)\n",
        "# predict the labels on validation dataset\n",
        "predictions_NB = Naive.predict(Test_X_Tfidf)\n",
        "# Use accuracy_score function to get the accuracy\n",
        "print(\"Naive Bayes Accuracy Score -> \",accuracy_score(predictions_NB, Test_Y))\n",
        "print(\"Naive Bayes f1-Score -> \",sk.f1_score(Test_Y,predictions_NB, average = 'weighted'))\n"
      ],
      "execution_count": 17,
      "outputs": [
        {
          "output_type": "stream",
          "text": [
            "Naive Bayes Accuracy Score ->  0.44256480218281036\n",
            "Naive Bayes f1-Score ->  0.4352942849585685\n"
          ],
          "name": "stdout"
        }
      ]
    },
    {
      "cell_type": "code",
      "metadata": {
        "id": "HiC9JJg9PzNu",
        "colab_type": "code",
        "colab": {
          "base_uri": "https://localhost:8080/",
          "height": 51
        },
        "outputId": "8ff73af2-b801-4d10-98c3-55ed9639354e"
      },
      "source": [
        "# Classifier - Algorithm - SVM\n",
        "# fit the training dataset on the classifier\n",
        "SVM = svm.SVC(C=1.0, kernel='linear', degree=3, gamma='auto')\n",
        "SVM.fit(Train_X_Tfidf,Train_Y)\n",
        "# predict the labels on validation dataset\n",
        "predictions_SVM = SVM.predict(Test_X_Tfidf)\n",
        "# Use accuracy_score function to get the accuracy\n",
        "print(\"SVM Accuracy Score -> \",accuracy_score(predictions_SVM, Test_Y))\n",
        "print(\"SVM f1-Score -> \",sk.f1_score(Test_Y,predictions_SVM, average = 'weighted'))"
      ],
      "execution_count": 18,
      "outputs": [
        {
          "output_type": "stream",
          "text": [
            "SVM Accuracy Score ->  0.4319236016371078\n",
            "SVM f1-Score ->  0.43435940113651605\n"
          ],
          "name": "stdout"
        }
      ]
    },
    {
      "cell_type": "markdown",
      "metadata": {
        "id": "wEJ3ScdrgCdY",
        "colab_type": "text"
      },
      "source": [
        "## Confusion metrics and f1-score for each sentiment\n",
        "Same with CNN model, we will get precision and recall after drawing `confusion_matrix`. There are 3 bins to calculate recall, precision and f1 score, and then concate those three into one. To indicate the sentiment name, we will use `inverse_transform`, so that we can notice which sentiment indicates. "
      ]
    },
    {
      "cell_type": "code",
      "metadata": {
        "id": "7cfej0SzqnJN",
        "colab_type": "code",
        "colab": {
          "base_uri": "https://localhost:8080/",
          "height": 142
        },
        "outputId": "b90e17a9-6809-47cf-f4b2-c98dd034e86b"
      },
      "source": [
        "#Naive Bayes confusion matrix\n",
        "from sklearn.metrics import confusion_matrix\n",
        "\n",
        "con=confusion_matrix(Test_Y, predictions_NB, labels = [0,1,2,3,4,5,6]) # row indicates actual emotion, column indicates predicted emotion\n",
        "\n",
        "recall_sentiment = [] \n",
        "precision_sentiment = []\n",
        "f1 = []\n",
        "for i in range(7):\n",
        "  a = con[i,i]/sum(con[i,:])\n",
        "  recall_sentiment.append(a)\n",
        "  b = con[i,i]/sum(con[:,i])\n",
        "  precision_sentiment.append(b)\n",
        "  f1.append(2*(a*b)/(a+b))\n",
        "\n",
        "sentiment = pd.DataFrame([recall_sentiment,precision_sentiment,f1])\n",
        "\n",
        "# Same as LABEL word sequence \n",
        "label = Encoder.inverse_transform([0,1,2,3,4,5,6])\n",
        "\n",
        "sentiment.columns = label\n",
        "sentiment.index = ['Recall','Precision','f1-score']\n",
        "\n",
        "sentiment.round(2)"
      ],
      "execution_count": 20,
      "outputs": [
        {
          "output_type": "execute_result",
          "data": {
            "text/html": [
              "<div>\n",
              "<style scoped>\n",
              "    .dataframe tbody tr th:only-of-type {\n",
              "        vertical-align: middle;\n",
              "    }\n",
              "\n",
              "    .dataframe tbody tr th {\n",
              "        vertical-align: top;\n",
              "    }\n",
              "\n",
              "    .dataframe thead th {\n",
              "        text-align: right;\n",
              "    }\n",
              "</style>\n",
              "<table border=\"1\" class=\"dataframe\">\n",
              "  <thead>\n",
              "    <tr style=\"text-align: right;\">\n",
              "      <th></th>\n",
              "      <th>Angry</th>\n",
              "      <th>Disgusted</th>\n",
              "      <th>Happy</th>\n",
              "      <th>Neutral</th>\n",
              "      <th>Sad</th>\n",
              "      <th>Scared</th>\n",
              "      <th>Surprised</th>\n",
              "    </tr>\n",
              "  </thead>\n",
              "  <tbody>\n",
              "    <tr>\n",
              "      <th>Recall</th>\n",
              "      <td>0.50</td>\n",
              "      <td>0.29</td>\n",
              "      <td>0.69</td>\n",
              "      <td>0.19</td>\n",
              "      <td>0.50</td>\n",
              "      <td>0.50</td>\n",
              "      <td>0.39</td>\n",
              "    </tr>\n",
              "    <tr>\n",
              "      <th>Precision</th>\n",
              "      <td>0.41</td>\n",
              "      <td>0.33</td>\n",
              "      <td>0.68</td>\n",
              "      <td>0.32</td>\n",
              "      <td>0.49</td>\n",
              "      <td>0.43</td>\n",
              "      <td>0.38</td>\n",
              "    </tr>\n",
              "    <tr>\n",
              "      <th>f1-score</th>\n",
              "      <td>0.45</td>\n",
              "      <td>0.31</td>\n",
              "      <td>0.68</td>\n",
              "      <td>0.24</td>\n",
              "      <td>0.49</td>\n",
              "      <td>0.46</td>\n",
              "      <td>0.39</td>\n",
              "    </tr>\n",
              "  </tbody>\n",
              "</table>\n",
              "</div>"
            ],
            "text/plain": [
              "           Angry  Disgusted  Happy  Neutral   Sad  Scared  Surprised\n",
              "Recall      0.50       0.29   0.69     0.19  0.50    0.50       0.39\n",
              "Precision   0.41       0.33   0.68     0.32  0.49    0.43       0.38\n",
              "f1-score    0.45       0.31   0.68     0.24  0.49    0.46       0.39"
            ]
          },
          "metadata": {
            "tags": []
          },
          "execution_count": 20
        }
      ]
    },
    {
      "cell_type": "code",
      "metadata": {
        "id": "41XB6CGyvjlh",
        "colab_type": "code",
        "colab": {
          "base_uri": "https://localhost:8080/",
          "height": 142
        },
        "outputId": "afdc995e-aa31-4752-a1d6-290bace2ec75"
      },
      "source": [
        "#SVM confusion matrix\n",
        "\n",
        "con=confusion_matrix(Test_Y, predictions_SVM, labels = [0,1,2,3,4,5,6]) # row indicates actual emotion, column indicates predicted emotion\n",
        "\n",
        "recall_sentiment = [] \n",
        "precision_sentiment = []\n",
        "f1 = []\n",
        "for i in range(7):\n",
        "  a = con[i,i]/sum(con[i,:])\n",
        "  recall_sentiment.append(a)\n",
        "  b = con[i,i]/sum(con[:,i])\n",
        "  precision_sentiment.append(b)\n",
        "  f1.append(2*(a*b)/(a+b))\n",
        "\n",
        "sentiment = pd.DataFrame([recall_sentiment,precision_sentiment,f1])\n",
        "\n",
        "# Same as LABEL word sequence \n",
        "label = Encoder.inverse_transform([0,1,2,3,4,5,6])\n",
        "\n",
        "sentiment.columns = label\n",
        "sentiment.index = ['Recall','Precision','f1-score']\n",
        "\n",
        "sentiment.round(2)"
      ],
      "execution_count": 21,
      "outputs": [
        {
          "output_type": "execute_result",
          "data": {
            "text/html": [
              "<div>\n",
              "<style scoped>\n",
              "    .dataframe tbody tr th:only-of-type {\n",
              "        vertical-align: middle;\n",
              "    }\n",
              "\n",
              "    .dataframe tbody tr th {\n",
              "        vertical-align: top;\n",
              "    }\n",
              "\n",
              "    .dataframe thead th {\n",
              "        text-align: right;\n",
              "    }\n",
              "</style>\n",
              "<table border=\"1\" class=\"dataframe\">\n",
              "  <thead>\n",
              "    <tr style=\"text-align: right;\">\n",
              "      <th></th>\n",
              "      <th>Angry</th>\n",
              "      <th>Disgusted</th>\n",
              "      <th>Happy</th>\n",
              "      <th>Neutral</th>\n",
              "      <th>Sad</th>\n",
              "      <th>Scared</th>\n",
              "      <th>Surprised</th>\n",
              "    </tr>\n",
              "  </thead>\n",
              "  <tbody>\n",
              "    <tr>\n",
              "      <th>Recall</th>\n",
              "      <td>0.44</td>\n",
              "      <td>0.33</td>\n",
              "      <td>0.65</td>\n",
              "      <td>0.28</td>\n",
              "      <td>0.45</td>\n",
              "      <td>0.45</td>\n",
              "      <td>0.41</td>\n",
              "    </tr>\n",
              "    <tr>\n",
              "      <th>Precision</th>\n",
              "      <td>0.40</td>\n",
              "      <td>0.33</td>\n",
              "      <td>0.70</td>\n",
              "      <td>0.27</td>\n",
              "      <td>0.50</td>\n",
              "      <td>0.46</td>\n",
              "      <td>0.39</td>\n",
              "    </tr>\n",
              "    <tr>\n",
              "      <th>f1-score</th>\n",
              "      <td>0.42</td>\n",
              "      <td>0.33</td>\n",
              "      <td>0.67</td>\n",
              "      <td>0.28</td>\n",
              "      <td>0.47</td>\n",
              "      <td>0.46</td>\n",
              "      <td>0.40</td>\n",
              "    </tr>\n",
              "  </tbody>\n",
              "</table>\n",
              "</div>"
            ],
            "text/plain": [
              "           Angry  Disgusted  Happy  Neutral   Sad  Scared  Surprised\n",
              "Recall      0.44       0.33   0.65     0.28  0.45    0.45       0.41\n",
              "Precision   0.40       0.33   0.70     0.27  0.50    0.46       0.39\n",
              "f1-score    0.42       0.33   0.67     0.28  0.47    0.46       0.40"
            ]
          },
          "metadata": {
            "tags": []
          },
          "execution_count": 21
        }
      ]
    }
  ]
}