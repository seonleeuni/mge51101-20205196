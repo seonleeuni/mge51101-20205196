{
  "nbformat": 4,
  "nbformat_minor": 0,
  "metadata": {
    "colab": {
      "name": "AlexNet_CIFAR.ipynb의 사본",
      "provenance": [],
      "collapsed_sections": [],
      "include_colab_link": true
    },
    "kernelspec": {
      "name": "python3",
      "display_name": "Python 3"
    },
    "accelerator": "GPU"
  },
  "cells": [
    {
      "cell_type": "markdown",
      "metadata": {
        "id": "view-in-github",
        "colab_type": "text"
      },
      "source": [
        "<a href=\"https://colab.research.google.com/github/seonleeuni/mge51101-20205196/blob/master/AlexNet_CIFAR_Seonmi.ipynb\" target=\"_parent\"><img src=\"https://colab.research.google.com/assets/colab-badge.svg\" alt=\"Open In Colab\"/></a>"
      ]
    },
    {
      "cell_type": "markdown",
      "metadata": {
        "id": "B0vDJ2UFySvQ",
        "colab_type": "text"
      },
      "source": [
        "## AlexNet Examples for CIFAR-10\n",
        "\n",
        "- PyTorch Example code for AlexNet implementation"
      ]
    },
    {
      "cell_type": "code",
      "metadata": {
        "id": "cUvSrMY5yQyR",
        "colab_type": "code",
        "outputId": "8723f0eb-8d36-448e-d8a0-a441799c4874",
        "colab": {
          "base_uri": "https://localhost:8080/",
          "height": 306
        }
      },
      "source": [
        "!nvidia-smi\n",
        "import torch\n",
        "import torch.nn as nn\n",
        "import numpy as np\n",
        "import matplotlib.pyplot as plt\n",
        "\n",
        "print(torch.__version__)"
      ],
      "execution_count": 17,
      "outputs": [
        {
          "output_type": "stream",
          "text": [
            "Mon Apr 27 14:47:39 2020       \n",
            "+-----------------------------------------------------------------------------+\n",
            "| NVIDIA-SMI 440.64.00    Driver Version: 418.67       CUDA Version: 10.1     |\n",
            "|-------------------------------+----------------------+----------------------+\n",
            "| GPU  Name        Persistence-M| Bus-Id        Disp.A | Volatile Uncorr. ECC |\n",
            "| Fan  Temp  Perf  Pwr:Usage/Cap|         Memory-Usage | GPU-Util  Compute M. |\n",
            "|===============================+======================+======================|\n",
            "|   0  Tesla T4            Off  | 00000000:00:04.0 Off |                    0 |\n",
            "| N/A   70C    P0    30W /  70W |   3477MiB / 15079MiB |      0%      Default |\n",
            "+-------------------------------+----------------------+----------------------+\n",
            "                                                                               \n",
            "+-----------------------------------------------------------------------------+\n",
            "| Processes:                                                       GPU Memory |\n",
            "|  GPU       PID   Type   Process name                             Usage      |\n",
            "|=============================================================================|\n",
            "+-----------------------------------------------------------------------------+\n",
            "1.4.0\n"
          ],
          "name": "stdout"
        }
      ]
    },
    {
      "cell_type": "markdown",
      "metadata": {
        "id": "B9EHuhjGy9qq",
        "colab_type": "text"
      },
      "source": [
        "## Model & Hyperparameters\n"
      ]
    },
    {
      "cell_type": "code",
      "metadata": {
        "id": "ONGWFMu_y2Jt",
        "colab_type": "code",
        "colab": {}
      },
      "source": [
        "# Number of classes\n",
        "num_classes = 10\n",
        "\n",
        "# Loss function & Optimizers\n",
        "criterion = torch.nn.CrossEntropyLoss()\n",
        "optimizer = torch.optim.Adam\n",
        "lr_scheduler = torch.optim.lr_scheduler.CosineAnnealingLR\n",
        "\n",
        "# Hyperparameters\n",
        "num_epochs = 300\n",
        "batch_size = 128\n",
        "learning_rate = 0.001\n",
        "weight_decay = 1e-4\n",
        "lr_min = 0.1 * learning_rate\n",
        "\n",
        "\n",
        "class MyAlexNet(nn.Module):\n",
        "    def __init__(self):\n",
        "        super(MyAlexNet, self).__init__()\n",
        "        \n",
        "        self.features = nn.Sequential(\n",
        "                                      nn.Conv2d(3, 96, 2,padding = 2, stride=1),\n",
        "                                      nn.ReLU(),\n",
        "                                      nn.MaxPool2d(3, stride=2),\n",
        "                                      nn.Conv2d(96, 256, 3, padding=1, stride = 1),\n",
        "                                      nn.ReLU(),\n",
        "                                      nn.MaxPool2d(3, stride=2),\n",
        "                                      nn.Conv2d(256, 384, 2, padding=1),\n",
        "                                      nn.ReLU(),\n",
        "                                      nn.Conv2d(384, 384, 2, padding=1),\n",
        "                                      nn.ReLU(),\n",
        "                                      nn.Conv2d(384, 256, 2, padding=1),\n",
        "                                      nn.ReLU(),\n",
        "                                      nn.MaxPool2d(3, stride=2),\n",
        "        )\n",
        "        self.classifier = nn.Sequential(\n",
        "                                        nn.Flatten(),\n",
        "                                        nn.Dropout(),\n",
        "                                        nn.Linear(6400, 4096),\n",
        "                                        nn.ReLU(),\n",
        "                                        nn.Dropout(),\n",
        "                                        nn.Linear(4096, 4096),\n",
        "                                        nn.ReLU(),\n",
        "                                        nn.Linear(4096, num_classes)\n",
        "        )\n",
        "\n",
        "    \n",
        "    def forward(self, inputs):\n",
        "        \n",
        "        hidden = self.features(inputs)\n",
        "        outputs = self.classifier(hidden)\n",
        "        \n",
        "        return outputs\n",
        "\n",
        "# Prepare optimizers\n",
        "model = MyAlexNet().cuda()\n",
        "optimizer = optimizer(model.parameters(), \n",
        "                             lr=learning_rate, \n",
        "                             weight_decay=weight_decay)\n"
      ],
      "execution_count": 0,
      "outputs": []
    },
    {
      "cell_type": "markdown",
      "metadata": {
        "id": "qPoV6AuBnARk",
        "colab_type": "text"
      },
      "source": [
        "## DataLoader & Preparation\n",
        "\n",
        "- Usual setting for CIFAR-10"
      ]
    },
    {
      "cell_type": "code",
      "metadata": {
        "id": "Udwc2uiPzYKH",
        "colab_type": "code",
        "outputId": "27af2b4e-05a4-42ea-f680-1cd0182c208c",
        "colab": {
          "base_uri": "https://localhost:8080/",
          "height": 51
        }
      },
      "source": [
        "import sys\n",
        "sys.path.insert(0, \"..\")\n",
        "from torch.utils.data import DataLoader\n",
        "import torchvision\n",
        "import torchvision.transforms as transforms\n",
        "\n",
        "# CIFAR preprocessing \n",
        "transform_train = transforms.Compose([\n",
        "    transforms.RandomCrop(32, padding=4),\n",
        "    transforms.RandomHorizontalFlip(),\n",
        "    transforms.ToTensor(),\n",
        "    transforms.Normalize((0.4914, 0.4822, 0.4465), (0.2023, 0.1994, 0.2010)),\n",
        "])\n",
        "\n",
        "transform_test = transforms.Compose([\n",
        "    transforms.ToTensor(),\n",
        "    transforms.Normalize((0.4914, 0.4822, 0.4465), (0.2023, 0.1994, 0.2010)),\n",
        "])\n",
        "\n",
        "# DataLoader for CIFAR-10\n",
        "cifar_train = torchvision.datasets.CIFAR10(root=\"./\", \n",
        "                                         train=True, \n",
        "                                         download=True,\n",
        "                                         transform=transform_train\n",
        "                                         )\n",
        "cifar_test = torchvision.datasets.CIFAR10(root=\"./\", \n",
        "                                        train=False, \n",
        "                                        download=True,\n",
        "                                        transform=transform_test)\n",
        "\n",
        "train_loader = DataLoader(cifar_train, \n",
        "                          batch_size=batch_size, \n",
        "                          shuffle=True, \n",
        "                          num_workers=4)\n",
        "\n",
        "test_loader = DataLoader(cifar_test, \n",
        "                         batch_size=batch_size, \n",
        "                         shuffle=False, \n",
        "                         num_workers=4)\n"
      ],
      "execution_count": 20,
      "outputs": [
        {
          "output_type": "stream",
          "text": [
            "Files already downloaded and verified\n",
            "Files already downloaded and verified\n"
          ],
          "name": "stdout"
        }
      ]
    },
    {
      "cell_type": "code",
      "metadata": {
        "id": "DH5E_jzSXwhj",
        "colab_type": "code",
        "colab": {
          "base_uri": "https://localhost:8080/",
          "height": 281
        },
        "outputId": "71a7b4b0-a9d2-4857-fc52-839f99c4ca32"
      },
      "source": [
        "for x, y in train_loader:\n",
        "  print(x.shape)\n",
        "  print(y)\n",
        "  fig = plt.figure()\n",
        "  plt.imshow(x[0].reshape(x[0].shape[1], -1))\n",
        "  break"
      ],
      "execution_count": 21,
      "outputs": [
        {
          "output_type": "stream",
          "text": [
            "torch.Size([128, 3, 32, 32])\n",
            "tensor([2, 4, 3, 6, 8, 3, 8, 8, 3, 8, 3, 1, 5, 2, 6, 5, 0, 0, 4, 8, 3, 8, 8, 7,\n",
            "        4, 6, 5, 8, 6, 3, 6, 9, 7, 5, 8, 7, 7, 9, 2, 2, 4, 4, 1, 5, 1, 9, 5, 3,\n",
            "        4, 0, 7, 3, 0, 3, 8, 9, 7, 6, 0, 2, 9, 1, 4, 7, 7, 2, 2, 6, 6, 3, 6, 8,\n",
            "        9, 1, 6, 4, 6, 8, 4, 1, 9, 9, 0, 4, 2, 4, 8, 5, 6, 5, 8, 0, 8, 5, 4, 8,\n",
            "        6, 2, 2, 1, 7, 1, 9, 5, 0, 6, 2, 1, 0, 5, 8, 8, 9, 8, 7, 9, 2, 7, 4, 9,\n",
            "        0, 5, 0, 0, 9, 3, 9, 0])\n"
          ],
          "name": "stdout"
        },
        {
          "output_type": "display_data",
          "data": {
            "image/png": "[encoded data removed]",
            "text/plain": [
              "<Figure size 432x288 with 1 Axes>"
            ]
          },
          "metadata": {
            "tags": [],
            "needs_background": "light"
          }
        }
      ]
    },
    {
      "cell_type": "markdown",
      "metadata": {
        "id": "nQMIL-VoPUUm",
        "colab_type": "text"
      },
      "source": [
        "## Metric Logger"
      ]
    },
    {
      "cell_type": "code",
      "metadata": {
        "id": "9NyeCOOwPUp2",
        "colab_type": "code",
        "colab": {}
      },
      "source": [
        "accuracy_graph = {'train':[], 'test':[], 'epoch': []}\n",
        "loss_graph = {'train':[], 'test':[], 'epoch': []}\n",
        "\n",
        "class accumulator():\n",
        "    def __init__(self):\n",
        "        self.cnt = 0\n",
        "        self.obs = 0\n",
        "        self.loss = 0\n",
        "\n",
        "    def add(self, predict, output):\n",
        "\n",
        "        assert len(predict) == len(output)\n",
        "\n",
        "        self.cnt += self.count(predict, output).cpu().numpy()\n",
        "        self.obs += len(predict)\n",
        "    \n",
        "    def count(self, predict, output):\n",
        "        correct = torch.sum(torch.argmax(predict, dim=1) == output)\n",
        "        \n",
        "        return correct\n",
        "        \n",
        "    def loss_update(self, loss, batch_size):\n",
        "        self.loss += loss * batch_size\n",
        "\n",
        "    def running_stat(self):\n",
        "        if self.obs != 0:\n",
        "            run_acc = 100 * self.cnt / self.obs\n",
        "            run_loss = self.loss / self.obs\n",
        "        else: \n",
        "            run_acc = 0\n",
        "            rum_loss = 0\n",
        "\n",
        "        return run_acc, run_loss\n",
        "\n",
        "    def reset(self):\n",
        "        self.__init__()\n"
      ],
      "execution_count": 0,
      "outputs": []
    },
    {
      "cell_type": "markdown",
      "metadata": {
        "id": "7q_mb684O8fe",
        "colab_type": "text"
      },
      "source": [
        "## Model Training & Evaluation\n",
        "\n",
        "- save logs at `log_alexnet.txt`\n",
        "- save model parameters at `alexnet.pt`"
      ]
    },
    {
      "cell_type": "code",
      "metadata": {
        "id": "yiDRbS65LCpm",
        "colab_type": "code",
        "outputId": "fc3c8610-7cd5-4b78-b798-004d4d05b3dc",
        "colab": {
          "base_uri": "https://localhost:8080/",
          "height": 1000
        }
      },
      "source": [
        "# Template for running epoch\n",
        "def run_epoch(data_loader, metric_accumulator, train=False):\n",
        "\n",
        "    if train:\n",
        "        model.train()\n",
        "        scheduler = lr_scheduler(optimizer, \n",
        "                              len(data_loader), \n",
        "                              eta_min=lr_min)\n",
        "    else:\n",
        "        model.eval()\n",
        "    \n",
        "    for inputs, targets in data_loader:\n",
        "\n",
        "        # Upload data to GPU\n",
        "        inputs, targets = inputs.cuda(), targets.cuda()\n",
        "        if train:\n",
        "            predict = model(inputs)    \n",
        "        else:\n",
        "            with torch.autograd.no_grad():\n",
        "                predict = model(inputs)\n",
        "\n",
        "        # Compute loss\n",
        "        loss = criterion(predict, targets)\n",
        "\n",
        "        # Backpropagation\n",
        "        if train:\n",
        "            optimizer.zero_grad()\n",
        "            loss.backward()\n",
        "            optimizer.step()   \n",
        "            scheduler.step()\n",
        "\n",
        "        metric_accumulator.add(predict, targets)\n",
        "        metric_accumulator.loss_update(loss, batch_size)\n",
        "\n",
        "# Log initiate\n",
        "with open(\"log_alexnet.txt\", \"w\") as log:\n",
        "    init_log = \"Epoch: {}, Batch size: {}, Optimizer: {}\".format(num_epochs, \n",
        "                                                                 batch_size, \n",
        "                                                                 optimizer)\n",
        "    log.write(init_log)\n",
        "\n",
        "# Experiment\n",
        "for epoch in range(num_epochs):\n",
        "\n",
        "    train_accuracy = accumulator()\n",
        "    test_accuracy = accumulator()\n",
        "\n",
        "    # Training\n",
        "    run_epoch(train_loader, train_accuracy, train=True)\n",
        "\n",
        "    # Evaluation\n",
        "    if epoch % 10 ==0:\n",
        "            \n",
        "        run_epoch(test_loader, test_accuracy, train=False)\n",
        "\n",
        "        train_acc, train_loss = train_accuracy.running_stat()\n",
        "        test_acc, test_loss = test_accuracy.running_stat()\n",
        "        accuracy_graph['train'].append(train_acc)\n",
        "        accuracy_graph['test'].append(test_acc) \n",
        "        accuracy_graph['epoch'].append(epoch)\n",
        "        loss_graph['train'].append(train_loss)\n",
        "        loss_graph['test'].append(test_loss)\n",
        "        loss_graph['epoch'].append(epoch)\n",
        "        \n",
        "        # Upodate log\n",
        "        log_accuracy = \"\\ntrain accuracy: {:.2f}%, test accuracy: {:.2f}%\".format(train_acc, \n",
        "                                                                                  test_acc)\n",
        "        log_epoch = \"\\nepoch:{}, train_loss: {:.4f}, test_loss: {:.4f}\".format(epoch+1, \n",
        "                                                                               train_loss, \n",
        "                                                                               test_loss)\n",
        "\n",
        "        with open(\"log_alexnet.txt\", \"a\") as log:\n",
        "            log.write(log_accuracy)\n",
        "            log.write(log_epoch)\n",
        "            print(log_accuracy, log_epoch) \n",
        "\n",
        "        train_accuracy.reset(), test_accuracy.reset()\n",
        "        \n",
        "        # Model save\n",
        "        torch.save(model.state_dict(), \"./alexnet.pt\")\n",
        "\n"
      ],
      "execution_count": 23,
      "outputs": [
        {
          "output_type": "stream",
          "text": [
            "\n",
            "train accuracy: 28.72%, test accuracy: 41.10% \n",
            "epoch:1, train_loss: 1.8644, test_loss: 1.5536\n",
            "\n",
            "train accuracy: 66.21%, test accuracy: 70.18% \n",
            "epoch:11, train_loss: 0.9563, test_loss: 0.8455\n",
            "\n",
            "train accuracy: 74.00%, test accuracy: 77.60% \n",
            "epoch:21, train_loss: 0.7481, test_loss: 0.6573\n",
            "\n",
            "train accuracy: 77.95%, test accuracy: 80.15% \n",
            "epoch:31, train_loss: 0.6378, test_loss: 0.5840\n",
            "\n",
            "train accuracy: 80.45%, test accuracy: 82.05% \n",
            "epoch:41, train_loss: 0.5731, test_loss: 0.5356\n",
            "\n",
            "train accuracy: 82.08%, test accuracy: 83.00% \n",
            "epoch:51, train_loss: 0.5204, test_loss: 0.5139\n",
            "\n",
            "train accuracy: 83.59%, test accuracy: 83.78% \n",
            "epoch:61, train_loss: 0.4781, test_loss: 0.4879\n",
            "\n",
            "train accuracy: 84.77%, test accuracy: 84.05% \n",
            "epoch:71, train_loss: 0.4441, test_loss: 0.4810\n",
            "\n",
            "train accuracy: 85.63%, test accuracy: 84.61% \n",
            "epoch:81, train_loss: 0.4205, test_loss: 0.4663\n",
            "\n",
            "train accuracy: 86.00%, test accuracy: 84.87% \n",
            "epoch:91, train_loss: 0.4060, test_loss: 0.4630\n",
            "\n",
            "train accuracy: 86.89%, test accuracy: 85.26% \n",
            "epoch:101, train_loss: 0.3849, test_loss: 0.4623\n",
            "\n",
            "train accuracy: 87.43%, test accuracy: 85.23% \n",
            "epoch:111, train_loss: 0.3689, test_loss: 0.4596\n",
            "\n",
            "train accuracy: 87.97%, test accuracy: 85.40% \n",
            "epoch:121, train_loss: 0.3514, test_loss: 0.4552\n",
            "\n",
            "train accuracy: 88.24%, test accuracy: 85.59% \n",
            "epoch:131, train_loss: 0.3399, test_loss: 0.4525\n",
            "\n",
            "train accuracy: 88.61%, test accuracy: 85.55% \n",
            "epoch:141, train_loss: 0.3274, test_loss: 0.4656\n",
            "\n",
            "train accuracy: 89.32%, test accuracy: 85.63% \n",
            "epoch:151, train_loss: 0.3088, test_loss: 0.4662\n",
            "\n",
            "train accuracy: 89.39%, test accuracy: 85.57% \n",
            "epoch:161, train_loss: 0.3087, test_loss: 0.4614\n",
            "\n",
            "train accuracy: 89.66%, test accuracy: 85.63% \n",
            "epoch:171, train_loss: 0.2967, test_loss: 0.4658\n",
            "\n",
            "train accuracy: 89.99%, test accuracy: 85.76% \n",
            "epoch:181, train_loss: 0.2872, test_loss: 0.4643\n",
            "\n",
            "train accuracy: 90.16%, test accuracy: 85.99% \n",
            "epoch:191, train_loss: 0.2871, test_loss: 0.4713\n",
            "\n",
            "train accuracy: 90.54%, test accuracy: 85.86% \n",
            "epoch:201, train_loss: 0.2767, test_loss: 0.4766\n",
            "\n",
            "train accuracy: 90.66%, test accuracy: 85.97% \n",
            "epoch:211, train_loss: 0.2712, test_loss: 0.4823\n",
            "\n",
            "train accuracy: 90.96%, test accuracy: 85.92% \n",
            "epoch:221, train_loss: 0.2643, test_loss: 0.4735\n",
            "\n",
            "train accuracy: 91.20%, test accuracy: 86.15% \n",
            "epoch:231, train_loss: 0.2561, test_loss: 0.4822\n",
            "\n",
            "train accuracy: 91.02%, test accuracy: 85.99% \n",
            "epoch:241, train_loss: 0.2612, test_loss: 0.4723\n",
            "\n",
            "train accuracy: 91.14%, test accuracy: 86.31% \n",
            "epoch:251, train_loss: 0.2570, test_loss: 0.4766\n",
            "\n",
            "train accuracy: 91.24%, test accuracy: 85.98% \n",
            "epoch:261, train_loss: 0.2568, test_loss: 0.4923\n",
            "\n",
            "train accuracy: 91.58%, test accuracy: 86.12% \n",
            "epoch:271, train_loss: 0.2439, test_loss: 0.4985\n",
            "\n",
            "train accuracy: 91.34%, test accuracy: 86.33% \n",
            "epoch:281, train_loss: 0.2500, test_loss: 0.4961\n",
            "\n",
            "train accuracy: 91.66%, test accuracy: 86.32% \n",
            "epoch:291, train_loss: 0.2386, test_loss: 0.4848\n"
          ],
          "name": "stdout"
        }
      ]
    },
    {
      "cell_type": "markdown",
      "metadata": {
        "id": "-IrJa1zZOutn",
        "colab_type": "text"
      },
      "source": [
        "## Plot Loss Curve and Accuracy\n",
        "\n",
        "- Need `matplotlib.pyplot` library"
      ]
    },
    {
      "cell_type": "code",
      "metadata": {
        "id": "94QHNeMJOvBz",
        "colab_type": "code",
        "outputId": "776185b7-449b-4fad-d7fd-cc8fd259d9e5",
        "colab": {
          "base_uri": "https://localhost:8080/",
          "height": 541
        }
      },
      "source": [
        "import matplotlib.pyplot as plt\n",
        "\n",
        "# Plot loss curve\n",
        "plt.plot(accuracy_graph['epoch'], accuracy_graph['train'], label = \"train accuracy\");\n",
        "plt.plot(accuracy_graph['epoch'], accuracy_graph['test'], label = \"test_accuracy\");\n",
        "plt.legend()\n",
        "plt.xlabel(\"epoch\")\n",
        "plt.ylabel(\"accuracy\")\n",
        "plt.show()\n",
        "\n",
        "plot_loss_train = plt.plot(loss_graph['epoch'], loss_graph['train'], label=\"train loss\");\n",
        "plt.plot(loss_graph['epoch'], loss_graph['test'], label=\"test loss\");\n",
        "plt.legend()\n",
        "plt.xlabel(\"epoch\")\n",
        "plt.ylabel(\"loss\")\n",
        "plt.show()"
      ],
      "execution_count": 24,
      "outputs": [
        {
          "output_type": "display_data",
          "data": {
            "image/png": "[encoded data removed]",
            "text/plain": [
              "<Figure size 432x288 with 1 Axes>"
            ]
          },
          "metadata": {
            "tags": [],
            "needs_background": "light"
          }
        },
        {
          "output_type": "display_data",
          "data": {
            "image/png": "[encoded data removed]",
            "text/plain": [
              "<Figure size 432x288 with 1 Axes>"
            ]
          },
          "metadata": {
            "tags": [],
            "needs_background": "light"
          }
        }
      ]
    },
    {
      "cell_type": "code",
      "metadata": {
        "id": "BhdAzwp7pFBu",
        "colab_type": "code",
        "colab": {}
      },
      "source": [
        ""
      ],
      "execution_count": 0,
      "outputs": []
    }
  ]
}